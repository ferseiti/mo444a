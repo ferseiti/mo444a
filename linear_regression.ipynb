{
 "cells": [
  {
   "cell_type": "code",
   "execution_count": null,
   "metadata": {},
   "outputs": [],
   "source": [
    "import pandas as pd\n",
    "import numpy as np\n",
    "from sklearn import preprocessing\n",
    "from sklearn.model_selection import train_test_split\n",
    "from sklearn.linear_model import SGDRegressor\n",
    "from sklearn import metrics"
   ]
  },
  {
   "cell_type": "code",
   "execution_count": null,
   "metadata": {},
   "outputs": [],
   "source": [
    "def minimize(learning_rate, theta, x_sample, y_sample):\n",
    "    \n",
    "#     for i in range(len(J_theta):\n",
    "#        J_theta[i] += (h[i] - y_sample[i]) * x_sample[i]\n",
    "#     for i in range():\n",
    "#        theta[i] = J_theta[i] - (learning_rate * J_theta[i])\n",
    "\n",
    "    N = float(x_sample.values[:,0].size)\n",
    "    \n",
    "    h = theta.dot(x_sample.transpose())\n",
    "    error = h - y_sample\n",
    "    \n",
    "    gradients = ((x_sample.T * (error)).T)/N\n",
    "    \n",
    "    sum_gradients = np.sum(gradients, axis=0)\n",
    "\n",
    "    minimization = (learning_rate) * sum_gradients\n",
    "    \n",
    "    theta = theta - minimization\n",
    "    \n",
    "#     print(minimization.shape)\n",
    "    #print(x_sample.values[0])\n",
    "    #print(x_acumulado.shape)\n",
    "    #print(error.shape)\n",
    "        #theta[i] = (theta[i] - ( (learning_rate/N) * somatorio_louco))\n",
    "        #print(theta[i] - ( (learning_rate/N) * somatorio_louco))\n",
    "    #print(( (learning_rate/N)))# * somatorio_louco))\n",
    "    #print(error.size)\n",
    "    return theta"
   ]
  },
  {
   "cell_type": "code",
   "execution_count": null,
   "metadata": {},
   "outputs": [],
   "source": [
    "def descent(learning_rate, initial_theta, iterations, x_sample, y_sample):\n",
    "    \n",
    "    theta = initial_theta\n",
    "    for i in range(iterations):\n",
    "            theta = minimize(learning_rate, theta, x_sample, y_sample)\n",
    "    return theta"
   ]
  },
  {
   "cell_type": "code",
   "execution_count": null,
   "metadata": {},
   "outputs": [],
   "source": [
    "data = pd.read_csv('diamonds.csv', index_col=0)"
   ]
  },
  {
   "cell_type": "code",
   "execution_count": null,
   "metadata": {},
   "outputs": [],
   "source": [
    "data.head()"
   ]
  },
  {
   "cell_type": "code",
   "execution_count": null,
   "metadata": {},
   "outputs": [],
   "source": [
    "one_hot_cut = pd.get_dummies(data['cut'])\n",
    "one_hot_color = pd.get_dummies(data['color'])\n",
    "one_hot_clarity = pd.get_dummies(data['clarity'])\n",
    "data = data.drop('cut', axis=1)\n",
    "data = data.drop('color', axis=1)\n",
    "data = data.drop('clarity', axis=1)\n",
    "data = data.join(one_hot_cut)\n",
    "data = data.join(one_hot_color)\n",
    "data = data.join(one_hot_clarity)"
   ]
  },
  {
   "cell_type": "code",
   "execution_count": null,
   "metadata": {},
   "outputs": [],
   "source": [
    "data.head()"
   ]
  },
  {
   "cell_type": "code",
   "execution_count": null,
   "metadata": {},
   "outputs": [],
   "source": [
    "#cleanup_nums = {\"cut\":     {\"Fair\": 1, \"Good\": 1.01, \"Very Good\": 1.02, \"Premium\": 1.03, \"Ideal\": 1.04},\n",
    "#                \"color\": {\"J\": 1.0, \"I\": 1.01, \"H\": 1.02, \"G\": 1.03, \"F\": 1.04, \"E\": 1.05, \"D\": 1.06},\n",
    "#                \"clarity\": {\"I1\": 1.0, \"SI2\": 1.01, \"SI1\": 1.02, \"VS2\": 1.03, \"VS1\": 1.04, \"VVS2\": 1.05, \n",
    "#                            \"VVS1\": 1.06, \"IF\": 1.07}\n",
    "#                }\n",
    "#data.replace(cleanup_nums, inplace=True)"
   ]
  },
  {
   "cell_type": "code",
   "execution_count": null,
   "metadata": {},
   "outputs": [],
   "source": [
    "data.head()"
   ]
  },
  {
   "cell_type": "code",
   "execution_count": null,
   "metadata": {},
   "outputs": [],
   "source": [
    "train, test = train_test_split(data, test_size=0.15)"
   ]
  },
  {
   "cell_type": "code",
   "execution_count": null,
   "metadata": {},
   "outputs": [],
   "source": [
    "train_y = train.loc[:,'price']\n",
    "test_y = test.loc[:,'price']"
   ]
  },
  {
   "cell_type": "code",
   "execution_count": null,
   "metadata": {},
   "outputs": [],
   "source": [
    "train_x = train.drop('price', axis=1)\n",
    "test_x = test.drop('price', axis=1)"
   ]
  },
  {
   "cell_type": "code",
   "execution_count": null,
   "metadata": {},
   "outputs": [],
   "source": [
    "train_x=(train_x-train_x.min())/(train_x.max()-train_x.min())\n",
    "test_x=(test_x-test_x.min())/(test_x.max()-test_x.min())"
   ]
  },
  {
   "cell_type": "code",
   "execution_count": null,
   "metadata": {},
   "outputs": [],
   "source": [
    "train_x.head()"
   ]
  },
  {
   "cell_type": "code",
   "execution_count": null,
   "metadata": {},
   "outputs": [],
   "source": [
    "#initial_theta = np.zeros((train_x.values[0].size, 1))\n",
    "initial_theta = np.random.uniform(low=0, high=1000, size=train_x.values[0].size)\n",
    "new_theta = descent(0.1, initial_theta, 1000, train_x, train_y)\n",
    "#print(train_y.values[0])\n",
    "print(new_theta)"
   ]
  },
  {
   "cell_type": "code",
   "execution_count": null,
   "metadata": {},
   "outputs": [],
   "source": [
    "y_train_pred = train_x.dot(new_theta)"
   ]
  },
  {
   "cell_type": "code",
   "execution_count": null,
   "metadata": {},
   "outputs": [],
   "source": [
    "y_test_pred = test_x.dot(new_theta)"
   ]
  },
  {
   "cell_type": "code",
   "execution_count": null,
   "metadata": {},
   "outputs": [],
   "source": [
    "print(train_y.values[:10], y_train_pred.values[:10])"
   ]
  },
  {
   "cell_type": "code",
   "execution_count": null,
   "metadata": {},
   "outputs": [],
   "source": [
    "metrics.r2_score(train_y, y_train_pred)"
   ]
  },
  {
   "cell_type": "code",
   "execution_count": null,
   "metadata": {},
   "outputs": [],
   "source": [
    "metrics.r2_score(test_y, y_test_pred)"
   ]
  }
 ],
 "metadata": {
  "kernelspec": {
   "display_name": "Python 3",
   "language": "python",
   "name": "python3"
  },
  "language_info": {
   "codemirror_mode": {
    "name": "ipython",
    "version": 3
   },
   "file_extension": ".py",
   "mimetype": "text/x-python",
   "name": "python",
   "nbconvert_exporter": "python",
   "pygments_lexer": "ipython3",
   "version": "3.6.5"
  }
 },
 "nbformat": 4,
 "nbformat_minor": 2
}
