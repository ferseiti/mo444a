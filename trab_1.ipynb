{
 "cells": [
  {
   "cell_type": "code",
   "execution_count": 1,
   "metadata": {},
   "outputs": [],
   "source": [
    "import pandas as pd\n",
    "import numpy as np\n",
    "from sklearn import preprocessing\n",
    "from sklearn.model_selection import train_test_split\n",
    "from sklearn.linear_model import SGDRegressor\n",
    "from sklearn.preprocessing import StandardScaler\n",
    "from sklearn import metrics\n",
    "from sklearn.feature_selection import SelectFromModel\n",
    "import matplotlib.pyplot as plt "
   ]
  },
  {
   "cell_type": "code",
   "execution_count": 2,
   "metadata": {},
   "outputs": [],
   "source": [
    "data = pd.read_csv('diamonds.csv', index_col=0)"
   ]
  },
  {
   "cell_type": "code",
   "execution_count": 3,
   "metadata": {},
   "outputs": [
    {
     "data": {
      "text/html": [
       "<div>\n",
       "<style scoped>\n",
       "    .dataframe tbody tr th:only-of-type {\n",
       "        vertical-align: middle;\n",
       "    }\n",
       "\n",
       "    .dataframe tbody tr th {\n",
       "        vertical-align: top;\n",
       "    }\n",
       "\n",
       "    .dataframe thead th {\n",
       "        text-align: right;\n",
       "    }\n",
       "</style>\n",
       "<table border=\"1\" class=\"dataframe\">\n",
       "  <thead>\n",
       "    <tr style=\"text-align: right;\">\n",
       "      <th></th>\n",
       "      <th>carat</th>\n",
       "      <th>cut</th>\n",
       "      <th>color</th>\n",
       "      <th>clarity</th>\n",
       "      <th>depth</th>\n",
       "      <th>table</th>\n",
       "      <th>price</th>\n",
       "      <th>x</th>\n",
       "      <th>y</th>\n",
       "      <th>z</th>\n",
       "    </tr>\n",
       "  </thead>\n",
       "  <tbody>\n",
       "    <tr>\n",
       "      <th>1</th>\n",
       "      <td>0.23</td>\n",
       "      <td>Ideal</td>\n",
       "      <td>E</td>\n",
       "      <td>SI2</td>\n",
       "      <td>61.5</td>\n",
       "      <td>55.0</td>\n",
       "      <td>326</td>\n",
       "      <td>3.95</td>\n",
       "      <td>3.98</td>\n",
       "      <td>2.43</td>\n",
       "    </tr>\n",
       "    <tr>\n",
       "      <th>2</th>\n",
       "      <td>0.21</td>\n",
       "      <td>Premium</td>\n",
       "      <td>E</td>\n",
       "      <td>SI1</td>\n",
       "      <td>59.8</td>\n",
       "      <td>61.0</td>\n",
       "      <td>326</td>\n",
       "      <td>3.89</td>\n",
       "      <td>3.84</td>\n",
       "      <td>2.31</td>\n",
       "    </tr>\n",
       "    <tr>\n",
       "      <th>3</th>\n",
       "      <td>0.23</td>\n",
       "      <td>Good</td>\n",
       "      <td>E</td>\n",
       "      <td>VS1</td>\n",
       "      <td>56.9</td>\n",
       "      <td>65.0</td>\n",
       "      <td>327</td>\n",
       "      <td>4.05</td>\n",
       "      <td>4.07</td>\n",
       "      <td>2.31</td>\n",
       "    </tr>\n",
       "    <tr>\n",
       "      <th>4</th>\n",
       "      <td>0.29</td>\n",
       "      <td>Premium</td>\n",
       "      <td>I</td>\n",
       "      <td>VS2</td>\n",
       "      <td>62.4</td>\n",
       "      <td>58.0</td>\n",
       "      <td>334</td>\n",
       "      <td>4.20</td>\n",
       "      <td>4.23</td>\n",
       "      <td>2.63</td>\n",
       "    </tr>\n",
       "    <tr>\n",
       "      <th>5</th>\n",
       "      <td>0.31</td>\n",
       "      <td>Good</td>\n",
       "      <td>J</td>\n",
       "      <td>SI2</td>\n",
       "      <td>63.3</td>\n",
       "      <td>58.0</td>\n",
       "      <td>335</td>\n",
       "      <td>4.34</td>\n",
       "      <td>4.35</td>\n",
       "      <td>2.75</td>\n",
       "    </tr>\n",
       "  </tbody>\n",
       "</table>\n",
       "</div>"
      ],
      "text/plain": [
       "   carat      cut color clarity  depth  table  price     x     y     z\n",
       "1   0.23    Ideal     E     SI2   61.5   55.0    326  3.95  3.98  2.43\n",
       "2   0.21  Premium     E     SI1   59.8   61.0    326  3.89  3.84  2.31\n",
       "3   0.23     Good     E     VS1   56.9   65.0    327  4.05  4.07  2.31\n",
       "4   0.29  Premium     I     VS2   62.4   58.0    334  4.20  4.23  2.63\n",
       "5   0.31     Good     J     SI2   63.3   58.0    335  4.34  4.35  2.75"
      ]
     },
     "execution_count": 3,
     "metadata": {},
     "output_type": "execute_result"
    }
   ],
   "source": [
    "data.head()"
   ]
  },
  {
   "cell_type": "code",
   "execution_count": 4,
   "metadata": {},
   "outputs": [],
   "source": [
    "totaltrain, test = train_test_split(data, test_size=0.15)"
   ]
  },
  {
   "cell_type": "code",
   "execution_count": 5,
   "metadata": {},
   "outputs": [],
   "source": [
    "train, validation = train_test_split(totaltrain, test_size=0.15)"
   ]
  },
  {
   "cell_type": "code",
   "execution_count": 6,
   "metadata": {},
   "outputs": [],
   "source": [
    "train_one_hot_cut = pd.get_dummies(train['cut'])\n",
    "train_one_hot_color = pd.get_dummies(train['color'])\n",
    "train_one_hot_clarity = pd.get_dummies(train['clarity'])"
   ]
  },
  {
   "cell_type": "code",
   "execution_count": 7,
   "metadata": {},
   "outputs": [],
   "source": [
    "validation_one_hot_cut = pd.get_dummies(validation['cut'])\n",
    "validation_one_hot_color = pd.get_dummies(validation['color'])\n",
    "validation_one_hot_clarity = pd.get_dummies(validation['clarity'])"
   ]
  },
  {
   "cell_type": "code",
   "execution_count": 8,
   "metadata": {},
   "outputs": [],
   "source": [
    "test_one_hot_cut = pd.get_dummies(test['cut'])\n",
    "test_one_hot_color = pd.get_dummies(test['color'])\n",
    "test_one_hot_clarity = pd.get_dummies(test['clarity'])"
   ]
  },
  {
   "cell_type": "code",
   "execution_count": 9,
   "metadata": {},
   "outputs": [],
   "source": [
    "y_train = train.loc[:,'price']\n",
    "y_validation = validation.loc[:,'price']\n",
    "y_test = test.loc[:,'price']"
   ]
  },
  {
   "cell_type": "code",
   "execution_count": 10,
   "metadata": {},
   "outputs": [],
   "source": [
    "x_train = train.drop('price', axis=1)\n",
    "x_validation = validation.drop('price', axis=1)\n",
    "x_test = test.drop('price', axis=1)"
   ]
  },
  {
   "cell_type": "code",
   "execution_count": 11,
   "metadata": {},
   "outputs": [],
   "source": [
    "x_train = x_train.drop('cut', axis=1)\n",
    "x_train = x_train.drop('color', axis=1)\n",
    "x_train = x_train.drop('clarity', axis=1)"
   ]
  },
  {
   "cell_type": "code",
   "execution_count": 12,
   "metadata": {},
   "outputs": [],
   "source": [
    "x_validation = x_validation.drop('cut', axis=1)\n",
    "x_validation = x_validation.drop('color', axis=1)\n",
    "x_validation = x_validation.drop('clarity', axis=1)"
   ]
  },
  {
   "cell_type": "code",
   "execution_count": 13,
   "metadata": {},
   "outputs": [],
   "source": [
    "x_test = x_test.drop('cut', axis=1)\n",
    "x_test = x_test.drop('color', axis=1)\n",
    "x_test = x_test.drop('clarity', axis=1)"
   ]
  },
  {
   "cell_type": "code",
   "execution_count": 14,
   "metadata": {},
   "outputs": [],
   "source": [
    "x_scaler = StandardScaler().fit(x_train)"
   ]
  },
  {
   "cell_type": "code",
   "execution_count": 15,
   "metadata": {},
   "outputs": [
    {
     "data": {
      "text/html": [
       "<div>\n",
       "<style scoped>\n",
       "    .dataframe tbody tr th:only-of-type {\n",
       "        vertical-align: middle;\n",
       "    }\n",
       "\n",
       "    .dataframe tbody tr th {\n",
       "        vertical-align: top;\n",
       "    }\n",
       "\n",
       "    .dataframe thead th {\n",
       "        text-align: right;\n",
       "    }\n",
       "</style>\n",
       "<table border=\"1\" class=\"dataframe\">\n",
       "  <thead>\n",
       "    <tr style=\"text-align: right;\">\n",
       "      <th></th>\n",
       "      <th>carat</th>\n",
       "      <th>depth</th>\n",
       "      <th>table</th>\n",
       "      <th>x</th>\n",
       "      <th>y</th>\n",
       "      <th>z</th>\n",
       "    </tr>\n",
       "  </thead>\n",
       "  <tbody>\n",
       "    <tr>\n",
       "      <th>10508</th>\n",
       "      <td>1.02</td>\n",
       "      <td>62.1</td>\n",
       "      <td>53.0</td>\n",
       "      <td>6.43</td>\n",
       "      <td>6.38</td>\n",
       "      <td>3.98</td>\n",
       "    </tr>\n",
       "    <tr>\n",
       "      <th>38465</th>\n",
       "      <td>0.34</td>\n",
       "      <td>61.6</td>\n",
       "      <td>55.0</td>\n",
       "      <td>4.50</td>\n",
       "      <td>4.52</td>\n",
       "      <td>2.78</td>\n",
       "    </tr>\n",
       "    <tr>\n",
       "      <th>7823</th>\n",
       "      <td>1.00</td>\n",
       "      <td>60.3</td>\n",
       "      <td>58.0</td>\n",
       "      <td>6.48</td>\n",
       "      <td>6.45</td>\n",
       "      <td>3.90</td>\n",
       "    </tr>\n",
       "    <tr>\n",
       "      <th>11997</th>\n",
       "      <td>1.13</td>\n",
       "      <td>63.4</td>\n",
       "      <td>59.0</td>\n",
       "      <td>6.53</td>\n",
       "      <td>6.59</td>\n",
       "      <td>4.16</td>\n",
       "    </tr>\n",
       "    <tr>\n",
       "      <th>26166</th>\n",
       "      <td>2.06</td>\n",
       "      <td>60.8</td>\n",
       "      <td>60.0</td>\n",
       "      <td>8.25</td>\n",
       "      <td>8.16</td>\n",
       "      <td>4.99</td>\n",
       "    </tr>\n",
       "  </tbody>\n",
       "</table>\n",
       "</div>"
      ],
      "text/plain": [
       "       carat  depth  table     x     y     z\n",
       "10508   1.02   62.1   53.0  6.43  6.38  3.98\n",
       "38465   0.34   61.6   55.0  4.50  4.52  2.78\n",
       "7823    1.00   60.3   58.0  6.48  6.45  3.90\n",
       "11997   1.13   63.4   59.0  6.53  6.59  4.16\n",
       "26166   2.06   60.8   60.0  8.25  8.16  4.99"
      ]
     },
     "execution_count": 15,
     "metadata": {},
     "output_type": "execute_result"
    }
   ],
   "source": [
    "x_train.head()"
   ]
  },
  {
   "cell_type": "code",
   "execution_count": 16,
   "metadata": {},
   "outputs": [
    {
     "data": {
      "text/html": [
       "<div>\n",
       "<style scoped>\n",
       "    .dataframe tbody tr th:only-of-type {\n",
       "        vertical-align: middle;\n",
       "    }\n",
       "\n",
       "    .dataframe tbody tr th {\n",
       "        vertical-align: top;\n",
       "    }\n",
       "\n",
       "    .dataframe thead th {\n",
       "        text-align: right;\n",
       "    }\n",
       "</style>\n",
       "<table border=\"1\" class=\"dataframe\">\n",
       "  <thead>\n",
       "    <tr style=\"text-align: right;\">\n",
       "      <th></th>\n",
       "      <th>carat</th>\n",
       "      <th>depth</th>\n",
       "      <th>table</th>\n",
       "      <th>x</th>\n",
       "      <th>y</th>\n",
       "      <th>z</th>\n",
       "    </tr>\n",
       "  </thead>\n",
       "  <tbody>\n",
       "    <tr>\n",
       "      <th>53195</th>\n",
       "      <td>0.70</td>\n",
       "      <td>61.4</td>\n",
       "      <td>57.0</td>\n",
       "      <td>5.76</td>\n",
       "      <td>5.80</td>\n",
       "      <td>3.55</td>\n",
       "    </tr>\n",
       "    <tr>\n",
       "      <th>3726</th>\n",
       "      <td>0.36</td>\n",
       "      <td>62.1</td>\n",
       "      <td>56.0</td>\n",
       "      <td>4.55</td>\n",
       "      <td>4.59</td>\n",
       "      <td>2.84</td>\n",
       "    </tr>\n",
       "    <tr>\n",
       "      <th>11377</th>\n",
       "      <td>0.34</td>\n",
       "      <td>60.3</td>\n",
       "      <td>57.0</td>\n",
       "      <td>4.53</td>\n",
       "      <td>4.56</td>\n",
       "      <td>2.74</td>\n",
       "    </tr>\n",
       "    <tr>\n",
       "      <th>25639</th>\n",
       "      <td>2.04</td>\n",
       "      <td>60.9</td>\n",
       "      <td>57.0</td>\n",
       "      <td>8.14</td>\n",
       "      <td>8.19</td>\n",
       "      <td>4.97</td>\n",
       "    </tr>\n",
       "    <tr>\n",
       "      <th>43556</th>\n",
       "      <td>0.52</td>\n",
       "      <td>62.2</td>\n",
       "      <td>54.0</td>\n",
       "      <td>5.14</td>\n",
       "      <td>5.18</td>\n",
       "      <td>3.21</td>\n",
       "    </tr>\n",
       "  </tbody>\n",
       "</table>\n",
       "</div>"
      ],
      "text/plain": [
       "       carat  depth  table     x     y     z\n",
       "53195   0.70   61.4   57.0  5.76  5.80  3.55\n",
       "3726    0.36   62.1   56.0  4.55  4.59  2.84\n",
       "11377   0.34   60.3   57.0  4.53  4.56  2.74\n",
       "25639   2.04   60.9   57.0  8.14  8.19  4.97\n",
       "43556   0.52   62.2   54.0  5.14  5.18  3.21"
      ]
     },
     "execution_count": 16,
     "metadata": {},
     "output_type": "execute_result"
    }
   ],
   "source": [
    "x_test.head()"
   ]
  },
  {
   "cell_type": "code",
   "execution_count": 17,
   "metadata": {},
   "outputs": [],
   "source": [
    "x_train_norm = pd.DataFrame(x_scaler.transform(x_train), columns=x_train.columns, index=x_train.index)\n",
    "x_validation_norm = pd.DataFrame(x_scaler.transform(x_validation), columns=x_validation.columns, index=x_validation.index)\n",
    "x_test_norm = pd.DataFrame(x_scaler.transform(x_test), columns=x_test.columns, index=x_test.index)"
   ]
  },
  {
   "cell_type": "code",
   "execution_count": 18,
   "metadata": {},
   "outputs": [
    {
     "data": {
      "text/html": [
       "<div>\n",
       "<style scoped>\n",
       "    .dataframe tbody tr th:only-of-type {\n",
       "        vertical-align: middle;\n",
       "    }\n",
       "\n",
       "    .dataframe tbody tr th {\n",
       "        vertical-align: top;\n",
       "    }\n",
       "\n",
       "    .dataframe thead th {\n",
       "        text-align: right;\n",
       "    }\n",
       "</style>\n",
       "<table border=\"1\" class=\"dataframe\">\n",
       "  <thead>\n",
       "    <tr style=\"text-align: right;\">\n",
       "      <th></th>\n",
       "      <th>carat</th>\n",
       "      <th>depth</th>\n",
       "      <th>table</th>\n",
       "      <th>x</th>\n",
       "      <th>y</th>\n",
       "      <th>z</th>\n",
       "    </tr>\n",
       "  </thead>\n",
       "  <tbody>\n",
       "    <tr>\n",
       "      <th>10508</th>\n",
       "      <td>0.473443</td>\n",
       "      <td>0.243239</td>\n",
       "      <td>-1.984514</td>\n",
       "      <td>0.627836</td>\n",
       "      <td>0.568465</td>\n",
       "      <td>0.626544</td>\n",
       "    </tr>\n",
       "    <tr>\n",
       "      <th>38465</th>\n",
       "      <td>-0.963544</td>\n",
       "      <td>-0.106377</td>\n",
       "      <td>-1.092911</td>\n",
       "      <td>-1.095944</td>\n",
       "      <td>-1.058754</td>\n",
       "      <td>-1.068344</td>\n",
       "    </tr>\n",
       "    <tr>\n",
       "      <th>7823</th>\n",
       "      <td>0.431179</td>\n",
       "      <td>-1.015378</td>\n",
       "      <td>0.244494</td>\n",
       "      <td>0.672494</td>\n",
       "      <td>0.629704</td>\n",
       "      <td>0.513551</td>\n",
       "    </tr>\n",
       "    <tr>\n",
       "      <th>11997</th>\n",
       "      <td>0.705897</td>\n",
       "      <td>1.152240</td>\n",
       "      <td>0.690295</td>\n",
       "      <td>0.717151</td>\n",
       "      <td>0.752183</td>\n",
       "      <td>0.880777</td>\n",
       "    </tr>\n",
       "    <tr>\n",
       "      <th>26166</th>\n",
       "      <td>2.671189</td>\n",
       "      <td>-0.665762</td>\n",
       "      <td>1.136097</td>\n",
       "      <td>2.253370</td>\n",
       "      <td>2.125695</td>\n",
       "      <td>2.053074</td>\n",
       "    </tr>\n",
       "  </tbody>\n",
       "</table>\n",
       "</div>"
      ],
      "text/plain": [
       "          carat     depth     table         x         y         z\n",
       "10508  0.473443  0.243239 -1.984514  0.627836  0.568465  0.626544\n",
       "38465 -0.963544 -0.106377 -1.092911 -1.095944 -1.058754 -1.068344\n",
       "7823   0.431179 -1.015378  0.244494  0.672494  0.629704  0.513551\n",
       "11997  0.705897  1.152240  0.690295  0.717151  0.752183  0.880777\n",
       "26166  2.671189 -0.665762  1.136097  2.253370  2.125695  2.053074"
      ]
     },
     "execution_count": 18,
     "metadata": {},
     "output_type": "execute_result"
    }
   ],
   "source": [
    "x_train_norm.head()"
   ]
  },
  {
   "cell_type": "code",
   "execution_count": 19,
   "metadata": {},
   "outputs": [
    {
     "data": {
      "text/html": [
       "<div>\n",
       "<style scoped>\n",
       "    .dataframe tbody tr th:only-of-type {\n",
       "        vertical-align: middle;\n",
       "    }\n",
       "\n",
       "    .dataframe tbody tr th {\n",
       "        vertical-align: top;\n",
       "    }\n",
       "\n",
       "    .dataframe thead th {\n",
       "        text-align: right;\n",
       "    }\n",
       "</style>\n",
       "<table border=\"1\" class=\"dataframe\">\n",
       "  <thead>\n",
       "    <tr style=\"text-align: right;\">\n",
       "      <th></th>\n",
       "      <th>carat</th>\n",
       "      <th>depth</th>\n",
       "      <th>table</th>\n",
       "      <th>x</th>\n",
       "      <th>y</th>\n",
       "      <th>z</th>\n",
       "    </tr>\n",
       "  </thead>\n",
       "  <tbody>\n",
       "    <tr>\n",
       "      <th>53195</th>\n",
       "      <td>-0.202786</td>\n",
       "      <td>-0.246223</td>\n",
       "      <td>-0.201308</td>\n",
       "      <td>0.029426</td>\n",
       "      <td>0.061052</td>\n",
       "      <td>0.019209</td>\n",
       "    </tr>\n",
       "    <tr>\n",
       "      <th>3726</th>\n",
       "      <td>-0.921280</td>\n",
       "      <td>0.243239</td>\n",
       "      <td>-0.647110</td>\n",
       "      <td>-1.051286</td>\n",
       "      <td>-0.997514</td>\n",
       "      <td>-0.983599</td>\n",
       "    </tr>\n",
       "    <tr>\n",
       "      <th>11377</th>\n",
       "      <td>-0.963544</td>\n",
       "      <td>-1.015378</td>\n",
       "      <td>-0.201308</td>\n",
       "      <td>-1.069149</td>\n",
       "      <td>-1.023760</td>\n",
       "      <td>-1.124840</td>\n",
       "    </tr>\n",
       "    <tr>\n",
       "      <th>25639</th>\n",
       "      <td>2.628925</td>\n",
       "      <td>-0.595839</td>\n",
       "      <td>-0.201308</td>\n",
       "      <td>2.155123</td>\n",
       "      <td>2.151940</td>\n",
       "      <td>2.024826</td>\n",
       "    </tr>\n",
       "    <tr>\n",
       "      <th>43556</th>\n",
       "      <td>-0.583165</td>\n",
       "      <td>0.313162</td>\n",
       "      <td>-1.538713</td>\n",
       "      <td>-0.524328</td>\n",
       "      <td>-0.481354</td>\n",
       "      <td>-0.461009</td>\n",
       "    </tr>\n",
       "  </tbody>\n",
       "</table>\n",
       "</div>"
      ],
      "text/plain": [
       "          carat     depth     table         x         y         z\n",
       "53195 -0.202786 -0.246223 -0.201308  0.029426  0.061052  0.019209\n",
       "3726  -0.921280  0.243239 -0.647110 -1.051286 -0.997514 -0.983599\n",
       "11377 -0.963544 -1.015378 -0.201308 -1.069149 -1.023760 -1.124840\n",
       "25639  2.628925 -0.595839 -0.201308  2.155123  2.151940  2.024826\n",
       "43556 -0.583165  0.313162 -1.538713 -0.524328 -0.481354 -0.461009"
      ]
     },
     "execution_count": 19,
     "metadata": {},
     "output_type": "execute_result"
    }
   ],
   "source": [
    "x_test_norm.head()"
   ]
  },
  {
   "cell_type": "code",
   "execution_count": 20,
   "metadata": {},
   "outputs": [],
   "source": [
    "x_train_norm = x_train_norm.join(train_one_hot_cut)\n",
    "x_train_norm = x_train_norm.join(train_one_hot_color)\n",
    "x_train_norm = x_train_norm.join(train_one_hot_clarity)"
   ]
  },
  {
   "cell_type": "code",
   "execution_count": 21,
   "metadata": {},
   "outputs": [],
   "source": [
    "x_validation_norm = x_validation_norm.join(validation_one_hot_cut)\n",
    "x_validation_norm = x_validation_norm.join(validation_one_hot_color)\n",
    "x_validation_norm = x_validation_norm.join(validation_one_hot_clarity)"
   ]
  },
  {
   "cell_type": "code",
   "execution_count": 22,
   "metadata": {},
   "outputs": [],
   "source": [
    "x_test_norm = x_test_norm.join(test_one_hot_cut)\n",
    "x_test_norm = x_test_norm.join(test_one_hot_color)\n",
    "x_test_norm = x_test_norm.join(test_one_hot_clarity)"
   ]
  },
  {
   "cell_type": "code",
   "execution_count": 23,
   "metadata": {},
   "outputs": [
    {
     "data": {
      "text/html": [
       "<div>\n",
       "<style scoped>\n",
       "    .dataframe tbody tr th:only-of-type {\n",
       "        vertical-align: middle;\n",
       "    }\n",
       "\n",
       "    .dataframe tbody tr th {\n",
       "        vertical-align: top;\n",
       "    }\n",
       "\n",
       "    .dataframe thead th {\n",
       "        text-align: right;\n",
       "    }\n",
       "</style>\n",
       "<table border=\"1\" class=\"dataframe\">\n",
       "  <thead>\n",
       "    <tr style=\"text-align: right;\">\n",
       "      <th></th>\n",
       "      <th>carat</th>\n",
       "      <th>depth</th>\n",
       "      <th>table</th>\n",
       "      <th>x</th>\n",
       "      <th>y</th>\n",
       "      <th>z</th>\n",
       "      <th>Fair</th>\n",
       "      <th>Good</th>\n",
       "      <th>Ideal</th>\n",
       "      <th>Premium</th>\n",
       "      <th>...</th>\n",
       "      <th>I</th>\n",
       "      <th>J</th>\n",
       "      <th>I1</th>\n",
       "      <th>IF</th>\n",
       "      <th>SI1</th>\n",
       "      <th>SI2</th>\n",
       "      <th>VS1</th>\n",
       "      <th>VS2</th>\n",
       "      <th>VVS1</th>\n",
       "      <th>VVS2</th>\n",
       "    </tr>\n",
       "  </thead>\n",
       "  <tbody>\n",
       "    <tr>\n",
       "      <th>10508</th>\n",
       "      <td>0.473443</td>\n",
       "      <td>0.243239</td>\n",
       "      <td>-1.984514</td>\n",
       "      <td>0.627836</td>\n",
       "      <td>0.568465</td>\n",
       "      <td>0.626544</td>\n",
       "      <td>0</td>\n",
       "      <td>0</td>\n",
       "      <td>1</td>\n",
       "      <td>0</td>\n",
       "      <td>...</td>\n",
       "      <td>0</td>\n",
       "      <td>0</td>\n",
       "      <td>0</td>\n",
       "      <td>0</td>\n",
       "      <td>1</td>\n",
       "      <td>0</td>\n",
       "      <td>0</td>\n",
       "      <td>0</td>\n",
       "      <td>0</td>\n",
       "      <td>0</td>\n",
       "    </tr>\n",
       "    <tr>\n",
       "      <th>38465</th>\n",
       "      <td>-0.963544</td>\n",
       "      <td>-0.106377</td>\n",
       "      <td>-1.092911</td>\n",
       "      <td>-1.095944</td>\n",
       "      <td>-1.058754</td>\n",
       "      <td>-1.068344</td>\n",
       "      <td>0</td>\n",
       "      <td>0</td>\n",
       "      <td>1</td>\n",
       "      <td>0</td>\n",
       "      <td>...</td>\n",
       "      <td>0</td>\n",
       "      <td>0</td>\n",
       "      <td>0</td>\n",
       "      <td>0</td>\n",
       "      <td>0</td>\n",
       "      <td>0</td>\n",
       "      <td>0</td>\n",
       "      <td>0</td>\n",
       "      <td>1</td>\n",
       "      <td>0</td>\n",
       "    </tr>\n",
       "    <tr>\n",
       "      <th>7823</th>\n",
       "      <td>0.431179</td>\n",
       "      <td>-1.015378</td>\n",
       "      <td>0.244494</td>\n",
       "      <td>0.672494</td>\n",
       "      <td>0.629704</td>\n",
       "      <td>0.513551</td>\n",
       "      <td>0</td>\n",
       "      <td>0</td>\n",
       "      <td>0</td>\n",
       "      <td>1</td>\n",
       "      <td>...</td>\n",
       "      <td>0</td>\n",
       "      <td>0</td>\n",
       "      <td>0</td>\n",
       "      <td>0</td>\n",
       "      <td>0</td>\n",
       "      <td>1</td>\n",
       "      <td>0</td>\n",
       "      <td>0</td>\n",
       "      <td>0</td>\n",
       "      <td>0</td>\n",
       "    </tr>\n",
       "    <tr>\n",
       "      <th>11997</th>\n",
       "      <td>0.705897</td>\n",
       "      <td>1.152240</td>\n",
       "      <td>0.690295</td>\n",
       "      <td>0.717151</td>\n",
       "      <td>0.752183</td>\n",
       "      <td>0.880777</td>\n",
       "      <td>0</td>\n",
       "      <td>0</td>\n",
       "      <td>0</td>\n",
       "      <td>0</td>\n",
       "      <td>...</td>\n",
       "      <td>0</td>\n",
       "      <td>0</td>\n",
       "      <td>0</td>\n",
       "      <td>0</td>\n",
       "      <td>0</td>\n",
       "      <td>1</td>\n",
       "      <td>0</td>\n",
       "      <td>0</td>\n",
       "      <td>0</td>\n",
       "      <td>0</td>\n",
       "    </tr>\n",
       "    <tr>\n",
       "      <th>26166</th>\n",
       "      <td>2.671189</td>\n",
       "      <td>-0.665762</td>\n",
       "      <td>1.136097</td>\n",
       "      <td>2.253370</td>\n",
       "      <td>2.125695</td>\n",
       "      <td>2.053074</td>\n",
       "      <td>0</td>\n",
       "      <td>0</td>\n",
       "      <td>0</td>\n",
       "      <td>1</td>\n",
       "      <td>...</td>\n",
       "      <td>1</td>\n",
       "      <td>0</td>\n",
       "      <td>0</td>\n",
       "      <td>0</td>\n",
       "      <td>1</td>\n",
       "      <td>0</td>\n",
       "      <td>0</td>\n",
       "      <td>0</td>\n",
       "      <td>0</td>\n",
       "      <td>0</td>\n",
       "    </tr>\n",
       "  </tbody>\n",
       "</table>\n",
       "<p>5 rows × 26 columns</p>\n",
       "</div>"
      ],
      "text/plain": [
       "          carat     depth     table         x         y         z  Fair  Good  \\\n",
       "10508  0.473443  0.243239 -1.984514  0.627836  0.568465  0.626544     0     0   \n",
       "38465 -0.963544 -0.106377 -1.092911 -1.095944 -1.058754 -1.068344     0     0   \n",
       "7823   0.431179 -1.015378  0.244494  0.672494  0.629704  0.513551     0     0   \n",
       "11997  0.705897  1.152240  0.690295  0.717151  0.752183  0.880777     0     0   \n",
       "26166  2.671189 -0.665762  1.136097  2.253370  2.125695  2.053074     0     0   \n",
       "\n",
       "       Ideal  Premium  ...   I  J  I1  IF  SI1  SI2  VS1  VS2  VVS1  VVS2  \n",
       "10508      1        0  ...   0  0   0   0    1    0    0    0     0     0  \n",
       "38465      1        0  ...   0  0   0   0    0    0    0    0     1     0  \n",
       "7823       0        1  ...   0  0   0   0    0    1    0    0     0     0  \n",
       "11997      0        0  ...   0  0   0   0    0    1    0    0     0     0  \n",
       "26166      0        1  ...   1  0   0   0    1    0    0    0     0     0  \n",
       "\n",
       "[5 rows x 26 columns]"
      ]
     },
     "execution_count": 23,
     "metadata": {},
     "output_type": "execute_result"
    }
   ],
   "source": [
    "x_train_norm.head()"
   ]
  },
  {
   "cell_type": "code",
   "execution_count": 24,
   "metadata": {},
   "outputs": [
    {
     "data": {
      "text/html": [
       "<div>\n",
       "<style scoped>\n",
       "    .dataframe tbody tr th:only-of-type {\n",
       "        vertical-align: middle;\n",
       "    }\n",
       "\n",
       "    .dataframe tbody tr th {\n",
       "        vertical-align: top;\n",
       "    }\n",
       "\n",
       "    .dataframe thead th {\n",
       "        text-align: right;\n",
       "    }\n",
       "</style>\n",
       "<table border=\"1\" class=\"dataframe\">\n",
       "  <thead>\n",
       "    <tr style=\"text-align: right;\">\n",
       "      <th></th>\n",
       "      <th>carat</th>\n",
       "      <th>depth</th>\n",
       "      <th>table</th>\n",
       "      <th>x</th>\n",
       "      <th>y</th>\n",
       "      <th>z</th>\n",
       "      <th>Fair</th>\n",
       "      <th>Good</th>\n",
       "      <th>Ideal</th>\n",
       "      <th>Premium</th>\n",
       "      <th>...</th>\n",
       "      <th>I</th>\n",
       "      <th>J</th>\n",
       "      <th>I1</th>\n",
       "      <th>IF</th>\n",
       "      <th>SI1</th>\n",
       "      <th>SI2</th>\n",
       "      <th>VS1</th>\n",
       "      <th>VS2</th>\n",
       "      <th>VVS1</th>\n",
       "      <th>VVS2</th>\n",
       "    </tr>\n",
       "  </thead>\n",
       "  <tbody>\n",
       "    <tr>\n",
       "      <th>53195</th>\n",
       "      <td>-0.202786</td>\n",
       "      <td>-0.246223</td>\n",
       "      <td>-0.201308</td>\n",
       "      <td>0.029426</td>\n",
       "      <td>0.061052</td>\n",
       "      <td>0.019209</td>\n",
       "      <td>0</td>\n",
       "      <td>0</td>\n",
       "      <td>1</td>\n",
       "      <td>0</td>\n",
       "      <td>...</td>\n",
       "      <td>0</td>\n",
       "      <td>0</td>\n",
       "      <td>0</td>\n",
       "      <td>0</td>\n",
       "      <td>0</td>\n",
       "      <td>0</td>\n",
       "      <td>0</td>\n",
       "      <td>1</td>\n",
       "      <td>0</td>\n",
       "      <td>0</td>\n",
       "    </tr>\n",
       "    <tr>\n",
       "      <th>3726</th>\n",
       "      <td>-0.921280</td>\n",
       "      <td>0.243239</td>\n",
       "      <td>-0.647110</td>\n",
       "      <td>-1.051286</td>\n",
       "      <td>-0.997514</td>\n",
       "      <td>-0.983599</td>\n",
       "      <td>0</td>\n",
       "      <td>0</td>\n",
       "      <td>1</td>\n",
       "      <td>0</td>\n",
       "      <td>...</td>\n",
       "      <td>1</td>\n",
       "      <td>0</td>\n",
       "      <td>0</td>\n",
       "      <td>0</td>\n",
       "      <td>0</td>\n",
       "      <td>0</td>\n",
       "      <td>1</td>\n",
       "      <td>0</td>\n",
       "      <td>0</td>\n",
       "      <td>0</td>\n",
       "    </tr>\n",
       "    <tr>\n",
       "      <th>11377</th>\n",
       "      <td>-0.963544</td>\n",
       "      <td>-1.015378</td>\n",
       "      <td>-0.201308</td>\n",
       "      <td>-1.069149</td>\n",
       "      <td>-1.023760</td>\n",
       "      <td>-1.124840</td>\n",
       "      <td>0</td>\n",
       "      <td>0</td>\n",
       "      <td>0</td>\n",
       "      <td>0</td>\n",
       "      <td>...</td>\n",
       "      <td>0</td>\n",
       "      <td>0</td>\n",
       "      <td>0</td>\n",
       "      <td>0</td>\n",
       "      <td>1</td>\n",
       "      <td>0</td>\n",
       "      <td>0</td>\n",
       "      <td>0</td>\n",
       "      <td>0</td>\n",
       "      <td>0</td>\n",
       "    </tr>\n",
       "    <tr>\n",
       "      <th>25639</th>\n",
       "      <td>2.628925</td>\n",
       "      <td>-0.595839</td>\n",
       "      <td>-0.201308</td>\n",
       "      <td>2.155123</td>\n",
       "      <td>2.151940</td>\n",
       "      <td>2.024826</td>\n",
       "      <td>0</td>\n",
       "      <td>0</td>\n",
       "      <td>0</td>\n",
       "      <td>0</td>\n",
       "      <td>...</td>\n",
       "      <td>1</td>\n",
       "      <td>0</td>\n",
       "      <td>0</td>\n",
       "      <td>0</td>\n",
       "      <td>0</td>\n",
       "      <td>1</td>\n",
       "      <td>0</td>\n",
       "      <td>0</td>\n",
       "      <td>0</td>\n",
       "      <td>0</td>\n",
       "    </tr>\n",
       "    <tr>\n",
       "      <th>43556</th>\n",
       "      <td>-0.583165</td>\n",
       "      <td>0.313162</td>\n",
       "      <td>-1.538713</td>\n",
       "      <td>-0.524328</td>\n",
       "      <td>-0.481354</td>\n",
       "      <td>-0.461009</td>\n",
       "      <td>0</td>\n",
       "      <td>0</td>\n",
       "      <td>1</td>\n",
       "      <td>0</td>\n",
       "      <td>...</td>\n",
       "      <td>0</td>\n",
       "      <td>0</td>\n",
       "      <td>0</td>\n",
       "      <td>0</td>\n",
       "      <td>1</td>\n",
       "      <td>0</td>\n",
       "      <td>0</td>\n",
       "      <td>0</td>\n",
       "      <td>0</td>\n",
       "      <td>0</td>\n",
       "    </tr>\n",
       "  </tbody>\n",
       "</table>\n",
       "<p>5 rows × 26 columns</p>\n",
       "</div>"
      ],
      "text/plain": [
       "          carat     depth     table         x         y         z  Fair  Good  \\\n",
       "53195 -0.202786 -0.246223 -0.201308  0.029426  0.061052  0.019209     0     0   \n",
       "3726  -0.921280  0.243239 -0.647110 -1.051286 -0.997514 -0.983599     0     0   \n",
       "11377 -0.963544 -1.015378 -0.201308 -1.069149 -1.023760 -1.124840     0     0   \n",
       "25639  2.628925 -0.595839 -0.201308  2.155123  2.151940  2.024826     0     0   \n",
       "43556 -0.583165  0.313162 -1.538713 -0.524328 -0.481354 -0.461009     0     0   \n",
       "\n",
       "       Ideal  Premium  ...   I  J  I1  IF  SI1  SI2  VS1  VS2  VVS1  VVS2  \n",
       "53195      1        0  ...   0  0   0   0    0    0    0    1     0     0  \n",
       "3726       1        0  ...   1  0   0   0    0    0    1    0     0     0  \n",
       "11377      0        0  ...   0  0   0   0    1    0    0    0     0     0  \n",
       "25639      0        0  ...   1  0   0   0    0    1    0    0     0     0  \n",
       "43556      1        0  ...   0  0   0   0    1    0    0    0     0     0  \n",
       "\n",
       "[5 rows x 26 columns]"
      ]
     },
     "execution_count": 24,
     "metadata": {},
     "output_type": "execute_result"
    }
   ],
   "source": [
    "x_test_norm.head()"
   ]
  },
  {
   "cell_type": "markdown",
   "metadata": {},
   "source": [
    "# Normal Equation"
   ]
  },
  {
   "cell_type": "code",
   "execution_count": 25,
   "metadata": {},
   "outputs": [],
   "source": [
    "theta_norm = np.dot(np.linalg.pinv(np.dot(np.transpose(x_train_norm),x_train_norm)),np.dot(np.transpose(x_train_norm),y_train))"
   ]
  },
  {
   "cell_type": "code",
   "execution_count": 26,
   "metadata": {},
   "outputs": [],
   "source": [
    "y_validation_pred_normal = np.dot(theta_norm, np.transpose(x_validation_norm))"
   ]
  },
  {
   "cell_type": "code",
   "execution_count": 27,
   "metadata": {},
   "outputs": [
    {
     "data": {
      "text/plain": [
       "0.9199965643221781"
      ]
     },
     "execution_count": 27,
     "metadata": {},
     "output_type": "execute_result"
    }
   ],
   "source": [
    "metrics.r2_score(y_validation, y_validation_pred_normal)"
   ]
  },
  {
   "cell_type": "code",
   "execution_count": 28,
   "metadata": {},
   "outputs": [
    {
     "data": {
      "text/plain": [
       "750.9017180137666"
      ]
     },
     "execution_count": 28,
     "metadata": {},
     "output_type": "execute_result"
    }
   ],
   "source": [
    "metrics.mean_absolute_error(y_validation, y_validation_pred_normal)"
   ]
  },
  {
   "cell_type": "markdown",
   "metadata": {},
   "source": [
    "#### Test Dataset - Normal Equation"
   ]
  },
  {
   "cell_type": "code",
   "execution_count": 29,
   "metadata": {},
   "outputs": [],
   "source": [
    "y_test_pred_normal = np.dot(theta_norm, np.transpose(x_test_norm))"
   ]
  },
  {
   "cell_type": "code",
   "execution_count": 30,
   "metadata": {},
   "outputs": [
    {
     "data": {
      "text/plain": [
       "0.9246269126589215"
      ]
     },
     "execution_count": 30,
     "metadata": {},
     "output_type": "execute_result"
    }
   ],
   "source": [
    "metrics.r2_score(y_test, y_test_pred_normal)"
   ]
  },
  {
   "cell_type": "code",
   "execution_count": 31,
   "metadata": {},
   "outputs": [
    {
     "data": {
      "text/plain": [
       "730.0678729019643"
      ]
     },
     "execution_count": 31,
     "metadata": {},
     "output_type": "execute_result"
    }
   ],
   "source": [
    "metrics.mean_absolute_error(y_test, y_test_pred_normal)"
   ]
  },
  {
   "cell_type": "markdown",
   "metadata": {},
   "source": [
    "# Linear Regression"
   ]
  },
  {
   "cell_type": "code",
   "execution_count": 32,
   "metadata": {},
   "outputs": [],
   "source": [
    "learning_rate=0.001\n",
    "iterations=25"
   ]
  },
  {
   "cell_type": "markdown",
   "metadata": {},
   "source": [
    "### Scikit-learn implementation"
   ]
  },
  {
   "cell_type": "code",
   "execution_count": 33,
   "metadata": {},
   "outputs": [],
   "source": [
    "clf = SGDRegressor(eta0=learning_rate, max_iter=iterations,verbose=True, penalty=\"None\", loss=\"squared_loss\", learning_rate=\"constant\", tol=None, shuffle=False, fit_intercept=False)"
   ]
  },
  {
   "cell_type": "code",
   "execution_count": 34,
   "metadata": {},
   "outputs": [],
   "source": [
    "initial_theta = np.zeros_like(theta_norm)"
   ]
  },
  {
   "cell_type": "code",
   "execution_count": 35,
   "metadata": {
    "scrolled": true
   },
   "outputs": [
    {
     "name": "stdout",
     "output_type": "stream",
     "text": [
      "-- Epoch 1\n",
      "Norm: 7549.12, NNZs: 26, Bias: 0.000000, T: 38971, Avg. loss: 1122452.998972\n",
      "Total training time: 0.01 seconds.\n",
      "-- Epoch 2\n",
      "Norm: 8096.73, NNZs: 26, Bias: 0.000000, T: 77942, Avg. loss: 708687.019940\n",
      "Total training time: 0.01 seconds.\n",
      "-- Epoch 3\n",
      "Norm: 8479.05, NNZs: 26, Bias: 0.000000, T: 116913, Avg. loss: 665344.989374\n",
      "Total training time: 0.02 seconds.\n",
      "-- Epoch 4\n",
      "Norm: 8680.52, NNZs: 26, Bias: 0.000000, T: 155884, Avg. loss: 654187.765279\n",
      "Total training time: 0.03 seconds.\n",
      "-- Epoch 5\n",
      "Norm: 8790.99, NNZs: 26, Bias: 0.000000, T: 194855, Avg. loss: 651855.261582\n",
      "Total training time: 0.04 seconds.\n",
      "-- Epoch 6\n",
      "Norm: 8851.08, NNZs: 26, Bias: 0.000000, T: 233826, Avg. loss: 651070.718684\n",
      "Total training time: 0.05 seconds.\n",
      "-- Epoch 7\n",
      "Norm: 8883.81, NNZs: 26, Bias: 0.000000, T: 272797, Avg. loss: 650852.381900\n",
      "Total training time: 0.05 seconds.\n",
      "-- Epoch 8\n",
      "Norm: 8901.74, NNZs: 26, Bias: 0.000000, T: 311768, Avg. loss: 650777.696708\n",
      "Total training time: 0.06 seconds.\n",
      "-- Epoch 9\n",
      "Norm: 8911.61, NNZs: 26, Bias: 0.000000, T: 350739, Avg. loss: 650751.806301\n",
      "Total training time: 0.06 seconds.\n",
      "-- Epoch 10\n",
      "Norm: 8917.06, NNZs: 26, Bias: 0.000000, T: 389710, Avg. loss: 650741.531847\n",
      "Total training time: 0.06 seconds.\n",
      "-- Epoch 11\n",
      "Norm: 8920.08, NNZs: 26, Bias: 0.000000, T: 428681, Avg. loss: 650737.055067\n",
      "Total training time: 0.07 seconds.\n",
      "-- Epoch 12\n",
      "Norm: 8921.77, NNZs: 26, Bias: 0.000000, T: 467652, Avg. loss: 650734.892350\n",
      "Total training time: 0.08 seconds.\n",
      "-- Epoch 13\n",
      "Norm: 8922.71, NNZs: 26, Bias: 0.000000, T: 506623, Avg. loss: 650733.769787\n",
      "Total training time: 0.09 seconds.\n",
      "-- Epoch 14\n",
      "Norm: 8923.24, NNZs: 26, Bias: 0.000000, T: 545594, Avg. loss: 650733.158101\n",
      "Total training time: 0.09 seconds.\n",
      "-- Epoch 15\n",
      "Norm: 8923.53, NNZs: 26, Bias: 0.000000, T: 584565, Avg. loss: 650732.815361\n",
      "Total training time: 0.10 seconds.\n",
      "-- Epoch 16\n",
      "Norm: 8923.70, NNZs: 26, Bias: 0.000000, T: 623536, Avg. loss: 650732.620441\n",
      "Total training time: 0.11 seconds.\n",
      "-- Epoch 17\n",
      "Norm: 8923.80, NNZs: 26, Bias: 0.000000, T: 662507, Avg. loss: 650732.508791\n",
      "Total training time: 0.11 seconds.\n",
      "-- Epoch 18\n",
      "Norm: 8923.85, NNZs: 26, Bias: 0.000000, T: 701478, Avg. loss: 650732.444652\n",
      "Total training time: 0.12 seconds.\n",
      "-- Epoch 19\n",
      "Norm: 8923.88, NNZs: 26, Bias: 0.000000, T: 740449, Avg. loss: 650732.407780\n",
      "Total training time: 0.12 seconds.\n",
      "-- Epoch 20\n",
      "Norm: 8923.90, NNZs: 26, Bias: 0.000000, T: 779420, Avg. loss: 650732.386590\n",
      "Total training time: 0.12 seconds.\n",
      "-- Epoch 21\n",
      "Norm: 8923.91, NNZs: 26, Bias: 0.000000, T: 818391, Avg. loss: 650732.374421\n",
      "Total training time: 0.13 seconds.\n",
      "-- Epoch 22\n",
      "Norm: 8923.91, NNZs: 26, Bias: 0.000000, T: 857362, Avg. loss: 650732.367440\n",
      "Total training time: 0.13 seconds.\n",
      "-- Epoch 23\n",
      "Norm: 8923.92, NNZs: 26, Bias: 0.000000, T: 896333, Avg. loss: 650732.363439\n",
      "Total training time: 0.14 seconds.\n",
      "-- Epoch 24\n",
      "Norm: 8923.92, NNZs: 26, Bias: 0.000000, T: 935304, Avg. loss: 650732.361148\n",
      "Total training time: 0.14 seconds.\n",
      "-- Epoch 25\n",
      "Norm: 8923.92, NNZs: 26, Bias: 0.000000, T: 974275, Avg. loss: 650732.359836\n",
      "Total training time: 0.15 seconds.\n"
     ]
    },
    {
     "data": {
      "text/plain": [
       "SGDRegressor(alpha=0.0001, average=False, epsilon=0.1, eta0=0.001,\n",
       "       fit_intercept=False, l1_ratio=0.15, learning_rate='constant',\n",
       "       loss='squared_loss', max_iter=25, n_iter=None, penalty='None',\n",
       "       power_t=0.25, random_state=None, shuffle=False, tol=None,\n",
       "       verbose=True, warm_start=False)"
      ]
     },
     "execution_count": 35,
     "metadata": {},
     "output_type": "execute_result"
    }
   ],
   "source": [
    "clf.fit(x_train_norm, y_train, coef_init=initial_theta)"
   ]
  },
  {
   "cell_type": "code",
   "execution_count": 36,
   "metadata": {},
   "outputs": [],
   "source": [
    "y_validation_pred_SKlearn = clf.predict(x_validation_norm)"
   ]
  },
  {
   "cell_type": "code",
   "execution_count": 37,
   "metadata": {},
   "outputs": [
    {
     "data": {
      "text/plain": [
       "0.9191048455573211"
      ]
     },
     "execution_count": 37,
     "metadata": {},
     "output_type": "execute_result"
    }
   ],
   "source": [
    "metrics.r2_score(y_validation, y_validation_pred_SKlearn)"
   ]
  },
  {
   "cell_type": "code",
   "execution_count": 38,
   "metadata": {},
   "outputs": [
    {
     "data": {
      "text/plain": [
       "750.6755377637807"
      ]
     },
     "execution_count": 38,
     "metadata": {},
     "output_type": "execute_result"
    }
   ],
   "source": [
    "metrics.mean_absolute_error(y_validation, y_validation_pred_SKlearn)"
   ]
  },
  {
   "cell_type": "markdown",
   "metadata": {},
   "source": [
    "#### Test Dataset - Sklearn"
   ]
  },
  {
   "cell_type": "code",
   "execution_count": 39,
   "metadata": {},
   "outputs": [],
   "source": [
    "y_test_pred_SKlearn = clf.predict(x_test_norm)"
   ]
  },
  {
   "cell_type": "code",
   "execution_count": 40,
   "metadata": {},
   "outputs": [
    {
     "data": {
      "text/plain": [
       "0.9237086503457477"
      ]
     },
     "execution_count": 40,
     "metadata": {},
     "output_type": "execute_result"
    }
   ],
   "source": [
    "metrics.r2_score(y_test, y_test_pred_SKlearn)"
   ]
  },
  {
   "cell_type": "code",
   "execution_count": 41,
   "metadata": {},
   "outputs": [
    {
     "data": {
      "text/plain": [
       "730.824035185564"
      ]
     },
     "execution_count": 41,
     "metadata": {},
     "output_type": "execute_result"
    }
   ],
   "source": [
    "metrics.mean_absolute_error(y_test, y_test_pred_SKlearn)"
   ]
  },
  {
   "cell_type": "markdown",
   "metadata": {},
   "source": [
    "### Our implementation"
   ]
  },
  {
   "cell_type": "code",
   "execution_count": 65,
   "metadata": {},
   "outputs": [],
   "source": [
    "%matplotlib inline\n",
    "def SGD(theta, x, y, learning_rate, iterations):\n",
    "    m = x.shape[0]\n",
    "    iter_average_cost_list =[]\n",
    "    for i in range(1,iterations+1):\n",
    "        iter_total_cost = 0\n",
    "        for item,price in zip(x.values, y.values):\n",
    "            y_pred = np.dot(item, theta)\n",
    "            loss = y_pred - price\n",
    "            cost = np.sum(loss ** 2)/2\n",
    "            gradient = np.dot(item.transpose(), loss)\n",
    "            theta = theta - learning_rate * gradient\n",
    "            iter_total_cost += cost\n",
    "        iter_average_cost = iter_total_cost/m\n",
    "        iter_average_cost_list.append(iter_average_cost)\n",
    "        print(\"Epoch {}\".format(i))\n",
    "        print(\"Cost {}\".format(iter_average_cost))\n",
    "        \n",
    "    fig = plt.figure(1)\n",
    "    plt.ticklabel_format(style='sci', axis='y', scilimits=(0,0))\n",
    "    plt.xlabel('Iterations')\n",
    "    plt.ylabel('Average Cost')\n",
    "    plt.plot(range(1,iterations+1),iter_average_cost_list, '-bo')\n",
    "    plt.show()\n",
    "        \n",
    "    return theta"
   ]
  },
  {
   "cell_type": "code",
   "execution_count": 66,
   "metadata": {},
   "outputs": [],
   "source": [
    "initial_theta = np.zeros_like(theta_norm)"
   ]
  },
  {
   "cell_type": "code",
   "execution_count": 67,
   "metadata": {
    "scrolled": false
   },
   "outputs": [
    {
     "name": "stdout",
     "output_type": "stream",
     "text": [
      "Epoch 1\n",
      "Cost 1122452.9989715246\n",
      "Epoch 2\n",
      "Cost 708687.0199402953\n",
      "Epoch 3\n",
      "Cost 665344.9893741313\n",
      "Epoch 4\n",
      "Cost 654187.765279229\n",
      "Epoch 5\n",
      "Cost 651855.2615815989\n",
      "Epoch 6\n",
      "Cost 651070.7186839299\n",
      "Epoch 7\n",
      "Cost 650852.3818998894\n",
      "Epoch 8\n",
      "Cost 650777.6967076014\n",
      "Epoch 9\n",
      "Cost 650751.8063012393\n",
      "Epoch 10\n",
      "Cost 650741.531846708\n",
      "Epoch 11\n",
      "Cost 650737.0550667058\n",
      "Epoch 12\n",
      "Cost 650734.89234953\n",
      "Epoch 13\n",
      "Cost 650733.7697866405\n",
      "Epoch 14\n",
      "Cost 650733.1581008974\n",
      "Epoch 15\n",
      "Cost 650732.8153611313\n",
      "Epoch 16\n",
      "Cost 650732.620440589\n",
      "Epoch 17\n",
      "Cost 650732.508790891\n",
      "Epoch 18\n",
      "Cost 650732.4446521248\n",
      "Epoch 19\n",
      "Cost 650732.4077798076\n",
      "Epoch 20\n",
      "Cost 650732.3865896118\n",
      "Epoch 21\n",
      "Cost 650732.3744213847\n",
      "Epoch 22\n",
      "Cost 650732.3674404335\n",
      "Epoch 23\n",
      "Cost 650732.3634391422\n",
      "Epoch 24\n",
      "Cost 650732.3611476722\n",
      "Epoch 25\n",
      "Cost 650732.3598363453\n"
     ]
    },
    {
     "data": {
      "image/png": "[encoded data removed]",
      "text/plain": [
       "<Figure size 432x288 with 1 Axes>"
      ]
     },
     "metadata": {},
     "output_type": "display_data"
    }
   ],
   "source": [
    "theta_sgd = SGD(initial_theta, x_train_norm, y_train, learning_rate, iterations)"
   ]
  },
  {
   "cell_type": "code",
   "execution_count": 68,
   "metadata": {},
   "outputs": [],
   "source": [
    "y_validation_pred_our = np.dot(theta_sgd, np.transpose(x_validation_norm))"
   ]
  },
  {
   "cell_type": "code",
   "execution_count": 69,
   "metadata": {},
   "outputs": [
    {
     "data": {
      "text/plain": [
       "0.9191048455573211"
      ]
     },
     "execution_count": 69,
     "metadata": {},
     "output_type": "execute_result"
    }
   ],
   "source": [
    "metrics.r2_score(y_validation, y_validation_pred_our)"
   ]
  },
  {
   "cell_type": "code",
   "execution_count": 70,
   "metadata": {},
   "outputs": [
    {
     "data": {
      "text/plain": [
       "750.6755377637807"
      ]
     },
     "execution_count": 70,
     "metadata": {},
     "output_type": "execute_result"
    }
   ],
   "source": [
    "metrics.mean_absolute_error(y_validation, y_validation_pred_our)"
   ]
  },
  {
   "cell_type": "markdown",
   "metadata": {},
   "source": [
    "#### Test Dataset - Our Implementation"
   ]
  },
  {
   "cell_type": "code",
   "execution_count": 71,
   "metadata": {},
   "outputs": [],
   "source": [
    "y_test_pred_our = np.dot(theta_sgd, np.transpose(x_test_norm))"
   ]
  },
  {
   "cell_type": "code",
   "execution_count": 72,
   "metadata": {},
   "outputs": [
    {
     "data": {
      "text/plain": [
       "0.9237086503457477"
      ]
     },
     "execution_count": 72,
     "metadata": {},
     "output_type": "execute_result"
    }
   ],
   "source": [
    "metrics.r2_score(y_test, y_test_pred_our)"
   ]
  },
  {
   "cell_type": "code",
   "execution_count": 73,
   "metadata": {},
   "outputs": [
    {
     "data": {
      "text/plain": [
       "730.8240351855641"
      ]
     },
     "execution_count": 73,
     "metadata": {},
     "output_type": "execute_result"
    }
   ],
   "source": [
    "metrics.mean_absolute_error(y_test, y_test_pred_our)"
   ]
  },
  {
   "cell_type": "markdown",
   "metadata": {},
   "source": [
    "## Gridsearch"
   ]
  },
  {
   "cell_type": "code",
   "execution_count": 74,
   "metadata": {},
   "outputs": [],
   "source": [
    "learning_rate_list = [10**i for i in range(-6,-2)]"
   ]
  },
  {
   "cell_type": "code",
   "execution_count": 75,
   "metadata": {},
   "outputs": [
    {
     "data": {
      "text/plain": [
       "[1e-06, 1e-05, 0.0001, 0.001]"
      ]
     },
     "execution_count": 75,
     "metadata": {},
     "output_type": "execute_result"
    }
   ],
   "source": [
    "learning_rate_list"
   ]
  },
  {
   "cell_type": "code",
   "execution_count": 76,
   "metadata": {},
   "outputs": [],
   "source": [
    "iterations_list = np.linspace(0, 200, 9)[1:]"
   ]
  },
  {
   "cell_type": "code",
   "execution_count": 77,
   "metadata": {},
   "outputs": [
    {
     "data": {
      "text/plain": [
       "array([ 25.,  50.,  75., 100., 125., 150., 175., 200.])"
      ]
     },
     "execution_count": 77,
     "metadata": {},
     "output_type": "execute_result"
    }
   ],
   "source": [
    "iterations_list"
   ]
  },
  {
   "cell_type": "code",
   "execution_count": 78,
   "metadata": {},
   "outputs": [],
   "source": [
    "results_gridsearch = []\n",
    "for learning_rate in learning_rate_list:\n",
    "    for iteration in iterations_list:\n",
    "        clf = SGDRegressor(eta0=learning_rate, max_iter=iteration,verbose=False, penalty=\"None\", loss=\"squared_loss\", learning_rate=\"constant\", tol=None, shuffle=False, fit_intercept=False)\n",
    "        initial_theta = np.zeros_like(theta_norm)\n",
    "        clf.fit(x_train_norm, y_train, coef_init=initial_theta)\n",
    "        y_validation_pred_SKlearn = clf.predict(x_validation_norm)\n",
    "        r2_metric = metrics.r2_score(y_validation, y_validation_pred_SKlearn)\n",
    "        mae_metric = metrics.mean_absolute_error(y_validation, y_validation_pred_SKlearn)\n",
    "        results_gridsearch.append([learning_rate,iteration,r2_metric,mae_metric])"
   ]
  },
  {
   "cell_type": "code",
   "execution_count": 79,
   "metadata": {
    "scrolled": true
   },
   "outputs": [],
   "source": [
    "results = np.array(results_gridsearch)"
   ]
  },
  {
   "cell_type": "code",
   "execution_count": 80,
   "metadata": {},
   "outputs": [],
   "source": [
    "result_idx = results[:,3].argsort()\n",
    "results = results[result_idx]\n",
    "results = results[results[..., 2] >= 0.7]"
   ]
  },
  {
   "cell_type": "code",
   "execution_count": 81,
   "metadata": {},
   "outputs": [
    {
     "name": "stdout",
     "output_type": "stream",
     "text": [
      "[[1.00000000e-03 2.50000000e+01 9.19104846e-01 7.50675538e+02]\n",
      " [1.00000000e-03 5.00000000e+01 9.19104846e-01 7.50675552e+02]\n",
      " [1.00000000e-03 2.00000000e+02 9.19104846e-01 7.50675552e+02]\n",
      " [1.00000000e-03 1.25000000e+02 9.19104846e-01 7.50675552e+02]\n",
      " [1.00000000e-03 7.50000000e+01 9.19104846e-01 7.50675552e+02]\n",
      " [1.00000000e-03 1.50000000e+02 9.19104846e-01 7.50675552e+02]\n",
      " [1.00000000e-03 1.00000000e+02 9.19104846e-01 7.50675552e+02]\n",
      " [1.00000000e-03 1.75000000e+02 9.19104846e-01 7.50675552e+02]\n",
      " [1.00000000e-04 2.00000000e+02 9.19897296e-01 7.51255841e+02]\n",
      " [1.00000000e-04 1.75000000e+02 9.19897241e-01 7.51256809e+02]\n",
      " [1.00000000e-04 1.50000000e+02 9.19897017e-01 7.51260610e+02]\n",
      " [1.00000000e-04 1.25000000e+02 9.19896103e-01 7.51275556e+02]\n",
      " [1.00000000e-04 1.00000000e+02 9.19892251e-01 7.51334658e+02]\n",
      " [1.00000000e-04 7.50000000e+01 9.19874123e-01 7.51579788e+02]\n",
      " [1.00000000e-04 5.00000000e+01 9.19758842e-01 7.52726790e+02]\n",
      " [1.00000000e-04 2.50000000e+01 9.18543941e-01 7.59837776e+02]\n",
      " [1.00000000e-05 2.00000000e+02 9.17638981e-01 7.65001277e+02]\n",
      " [1.00000000e-05 1.75000000e+02 9.16834893e-01 7.69335372e+02]\n",
      " [1.00000000e-05 1.50000000e+02 9.15660146e-01 7.75396476e+02]\n",
      " [1.00000000e-05 1.25000000e+02 9.13859057e-01 7.85229575e+02]\n",
      " [1.00000000e-05 1.00000000e+02 9.10909050e-01 8.02836036e+02]\n",
      " [1.00000000e-05 7.50000000e+01 9.05615569e-01 8.36133670e+02]\n",
      " [1.00000000e-05 5.00000000e+01 8.94814165e-01 8.99760044e+02]\n",
      " [1.00000000e-05 2.50000000e+01 8.68094685e-01 1.03688534e+03]\n",
      " [1.00000000e-06 2.00000000e+02 8.58101678e-01 1.08040585e+03]\n",
      " [1.00000000e-06 1.75000000e+02 8.51955278e-01 1.10533635e+03]\n",
      " [1.00000000e-06 1.50000000e+02 8.44600165e-01 1.13209578e+03]\n",
      " [1.00000000e-06 1.25000000e+02 8.35134055e-01 1.16228008e+03]\n",
      " [1.00000000e-06 1.00000000e+02 8.20965145e-01 1.20349318e+03]\n",
      " [1.00000000e-06 7.50000000e+01 7.93872763e-01 1.28099691e+03]\n",
      " [1.00000000e-06 5.00000000e+01 7.26222450e-01 1.49845737e+03]]\n"
     ]
    }
   ],
   "source": [
    "print(results)"
   ]
  },
  {
   "cell_type": "code",
   "execution_count": 82,
   "metadata": {},
   "outputs": [
    {
     "data": {
      "image/png": "[encoded data removed]",
      "text/plain": [
       "<Figure size 432x288 with 1 Axes>"
      ]
     },
     "metadata": {},
     "output_type": "display_data"
    }
   ],
   "source": [
    "plt.semilogx(results[:,0],results[:,3],'.')\n",
    "plt.xlabel('Learning Rate')\n",
    "plt.ylabel('MAE')\n",
    "plt.grid()\n",
    "plt.show()"
   ]
  },
  {
   "cell_type": "code",
   "execution_count": 83,
   "metadata": {},
   "outputs": [
    {
     "data": {
      "image/png": "[encoded data removed]",
      "text/plain": [
       "<Figure size 432x288 with 1 Axes>"
      ]
     },
     "metadata": {},
     "output_type": "display_data"
    }
   ],
   "source": [
    "plt.semilogx(results[:,0],results[:,2],'.')\n",
    "plt.xlabel('Learning Rate')\n",
    "plt.ylabel('R2')\n",
    "plt.grid()\n",
    "plt.show()"
   ]
  },
  {
   "cell_type": "markdown",
   "metadata": {},
   "source": [
    "## Feature Selection"
   ]
  },
  {
   "cell_type": "code",
   "execution_count": 84,
   "metadata": {},
   "outputs": [
    {
     "name": "stdout",
     "output_type": "stream",
     "text": [
      "['carat' 'Good' 'Ideal' 'Premium' 'Very Good' 'D' 'E' 'F' 'I1' 'IF' 'VS1'\n",
      " 'VVS1' 'VVS2']\n"
     ]
    }
   ],
   "source": [
    "model_sfm = SelectFromModel(clf, prefit=True)\n",
    "feature_mask = model_sfm.get_support()\n",
    "feature_name = np.array(x_train_norm.columns)\n",
    "print(np.array(feature_name)[feature_mask==True])"
   ]
  },
  {
   "cell_type": "code",
   "execution_count": 85,
   "metadata": {},
   "outputs": [],
   "source": [
    "x_train_selected = model_sfm.transform(x_train_norm)\n",
    "x_test_selected = model_sfm.transform(x_test_norm)"
   ]
  },
  {
   "cell_type": "code",
   "execution_count": 86,
   "metadata": {},
   "outputs": [
    {
     "data": {
      "text/plain": [
       "SGDRegressor(alpha=0.0001, average=False, epsilon=0.1, eta0=0.001,\n",
       "       fit_intercept=False, l1_ratio=0.15, learning_rate='constant',\n",
       "       loss='squared_loss', max_iter=200.0, n_iter=None, penalty='None',\n",
       "       power_t=0.25, random_state=None, shuffle=False, tol=None,\n",
       "       verbose=False, warm_start=False)"
      ]
     },
     "execution_count": 86,
     "metadata": {},
     "output_type": "execute_result"
    }
   ],
   "source": [
    "clf.fit(x_train_selected, y_train)"
   ]
  },
  {
   "cell_type": "code",
   "execution_count": 87,
   "metadata": {},
   "outputs": [
    {
     "data": {
      "text/plain": [
       "0.888415804394709"
      ]
     },
     "execution_count": 87,
     "metadata": {},
     "output_type": "execute_result"
    }
   ],
   "source": [
    "clf.score(x_test_selected, y_test)"
   ]
  },
  {
   "cell_type": "code",
   "execution_count": null,
   "metadata": {},
   "outputs": [],
   "source": []
  }
 ],
 "metadata": {
  "kernelspec": {
   "display_name": "Python 3",
   "language": "python",
   "name": "python3"
  },
  "language_info": {
   "codemirror_mode": {
    "name": "ipython",
    "version": 3
   },
   "file_extension": ".py",
   "mimetype": "text/x-python",
   "name": "python",
   "nbconvert_exporter": "python",
   "pygments_lexer": "ipython3",
   "version": "3.6.5"
  }
 },
 "nbformat": 4,
 "nbformat_minor": 2
}
