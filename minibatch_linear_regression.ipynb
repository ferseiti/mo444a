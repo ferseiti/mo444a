{
 "cells": [
  {
   "cell_type": "code",
   "execution_count": null,
   "metadata": {},
   "outputs": [],
   "source": [
    "import pandas as pd\n",
    "import numpy as np\n",
    "from sklearn import preprocessing\n",
    "from sklearn.model_selection import train_test_split\n",
    "from sklearn.linear_model import SGDRegressor\n",
    "from sklearn import metrics"
   ]
  },
  {
   "cell_type": "code",
   "execution_count": null,
   "metadata": {},
   "outputs": [],
   "source": [
    "def step_gradient(learning_rate, theta, x_sample, y_sample):\n",
    "\n",
    "    N = float(x_sample.values[:,0].size)\n",
    "    \n",
    "    h = theta.dot(x_sample.transpose())\n",
    "    error = h - y_sample\n",
    "    \n",
    "    gradients = ((x_sample.T * (error)).T)/N\n",
    "    \n",
    "    somatorio_louco = np.sum(gradients, axis=0)\n",
    "\n",
    "    direction = learning_rate * somatorio_louco\n",
    "    \n",
    "    #theta = theta - minimization\n",
    "    \n",
    "    return -direction, np.linalg.norm(direction)"
   ]
  },
  {
   "cell_type": "code",
   "execution_count": null,
   "metadata": {},
   "outputs": [],
   "source": [
    "def descent(learning_rate, initial_theta, iterations, x_sample, y_sample, batch_size='full'):\n",
    "    if iterations == 'stochastic':\n",
    "        iterations = len(x_sample)\n",
    "        batch_size = 1\n",
    "    theta = initial_theta\n",
    "    if batch_size == 'full':\n",
    "        for i in range(iterations):\n",
    "            aiseeutepego = step_gradient(learning_rate, theta, x_sample, y_sample)\n",
    "            theta += aiseeutepego[0]\n",
    "            if i % (iterations//50) == 0:\n",
    "                print('Iteration {}: {}'.format(i, aiseeutepego[1]))\n",
    "    elif type(batch_size) is int:\n",
    "        i = 0\n",
    "        while i < iterations:\n",
    "            j = 0\n",
    "            while j < len(x_sample) or j < iterations:\n",
    "                aiseeutepego = step_gradient(learning_rate, theta, x_sample[j:j+batch_size], y_sample[j:j+batch_size])\n",
    "                theta += aiseeutepego[0]\n",
    "                if i % (iterations//50) == 0:\n",
    "                    print('Iteration {}: {}'.format(i, aiseeutepego[1]))\n",
    "                j += batch_size\n",
    "                i += 1\n",
    "    return theta"
   ]
  },
  {
   "cell_type": "markdown",
   "metadata": {},
   "source": [
    "### one_hot = False, not using one-hot encoding"
   ]
  },
  {
   "cell_type": "code",
   "execution_count": null,
   "metadata": {},
   "outputs": [],
   "source": [
    "one_hot = False\n",
    "data = pd.read_csv('diamonds.csv', index_col=0)"
   ]
  },
  {
   "cell_type": "code",
   "execution_count": null,
   "metadata": {},
   "outputs": [],
   "source": [
    "data.head()"
   ]
  },
  {
   "cell_type": "code",
   "execution_count": null,
   "metadata": {},
   "outputs": [],
   "source": [
    "if one_hot:\n",
    "    one_hot_cut = pd.get_dummies(data['cut'])\n",
    "    one_hot_color = pd.get_dummies(data['color'])\n",
    "    one_hot_clarity = pd.get_dummies(data['clarity'])\n",
    "    data = data.drop('cut', axis=1)\n",
    "    data = data.drop('color', axis=1)\n",
    "    data = data.drop('clarity', axis=1)\n",
    "    data = data.join(one_hot_cut)\n",
    "    data = data.join(one_hot_color)\n",
    "    data = data.join(one_hot_clarity)"
   ]
  },
  {
   "cell_type": "code",
   "execution_count": null,
   "metadata": {},
   "outputs": [],
   "source": [
    "train, test = train_test_split(data, test_size=0.15)"
   ]
  },
  {
   "cell_type": "code",
   "execution_count": null,
   "metadata": {},
   "outputs": [],
   "source": [
    "train_x = train.drop('price', axis=1)\n",
    "test_x = test.drop('price', axis=1)"
   ]
  },
  {
   "cell_type": "code",
   "execution_count": null,
   "metadata": {},
   "outputs": [],
   "source": [
    "if not one_hot:\n",
    "    # Removing features\n",
    "    train_x = train_x.drop('cut', axis=1)\n",
    "    train_x = train_x.drop('color', axis=1)\n",
    "    train_x = train_x.drop('clarity', axis=1)\n",
    "    test_x = test_x.drop('cut', axis=1)\n",
    "    test_x = test_x.drop('color', axis=1)\n",
    "    test_x = test_x.drop('clarity', axis=1)"
   ]
  },
  {
   "cell_type": "code",
   "execution_count": null,
   "metadata": {},
   "outputs": [],
   "source": [
    "train_x.head()"
   ]
  },
  {
   "cell_type": "code",
   "execution_count": null,
   "metadata": {},
   "outputs": [],
   "source": [
    "train_y = train.loc[:,'price']\n",
    "test_y = test.loc[:,'price']"
   ]
  },
  {
   "cell_type": "code",
   "execution_count": null,
   "metadata": {},
   "outputs": [],
   "source": [
    "train_x=(train_x-train_x.min())/(train_x.max()-train_x.min())\n",
    "test_x=(test_x-test_x.min())/(test_x.max()-test_x.min())"
   ]
  },
  {
   "cell_type": "code",
   "execution_count": null,
   "metadata": {},
   "outputs": [],
   "source": [
    "train_x.head()"
   ]
  },
  {
   "cell_type": "markdown",
   "metadata": {},
   "source": [
    "#### descent(learning_rate, initial_theta, iterations, x_sample, y_sample, batch_size='full')\n",
    "\n",
    "**Parameters:**\n",
    "* **learning_rate: float**  \n",
    "    The descent step size.\n",
    "    \n",
    "\n",
    "* **initial_theta: array-like object**  \n",
    "    The coefficients (also known as $\\theta$).\n",
    "    \n",
    "\n",
    "* **iterations: int or the string 'stochastic'**  \n",
    "    Amount of iterations to be executed.\n",
    "    \n",
    "\n",
    "* **x_sample: array-like object**  \n",
    "    Features of the training data.\n",
    "    \n",
    "    \n",
    "* **y_sample: array-like object**  \n",
    "    Target of the training data.\n",
    "    \n",
    "    \n",
    "* **batch_size: int or the string 'full'**  \n",
    "    Batch size of eatch step. If _iterations_ is set to 'stochastic', defaults to 1.\n",
    "    \n",
    "**Returns:**\n",
    "* **theta** \n",
    "    The model extracted from the training.\n",
    "\n",
    "### Examples:\n",
    "descent(0.1, initial_theta, 10000, x_sample, y_sample, 1000)\n",
    "\n",
    "Will run 10 thousand iterations with batch size of 1000."
   ]
  },
  {
   "cell_type": "code",
   "execution_count": null,
   "metadata": {},
   "outputs": [],
   "source": [
    "initial_theta = np.ones(train_x.values[0].size)\n",
    "new_theta = descent(0.1, initial_theta, 20000, train_x, train_y, 'full')\n",
    "print(new_theta)"
   ]
  },
  {
   "cell_type": "code",
   "execution_count": null,
   "metadata": {},
   "outputs": [],
   "source": [
    "y_train_pred = new_theta.dot(train_x.transpose())"
   ]
  },
  {
   "cell_type": "code",
   "execution_count": null,
   "metadata": {},
   "outputs": [],
   "source": [
    "y_test_pred = test_x.dot(new_theta)"
   ]
  },
  {
   "cell_type": "code",
   "execution_count": null,
   "metadata": {},
   "outputs": [],
   "source": [
    "print(train_y.values[:10], y_train_pred.values[:10])"
   ]
  },
  {
   "cell_type": "code",
   "execution_count": null,
   "metadata": {},
   "outputs": [],
   "source": [
    "metrics.r2_score(train_y, y_train_pred)"
   ]
  },
  {
   "cell_type": "code",
   "execution_count": null,
   "metadata": {},
   "outputs": [],
   "source": [
    "metrics.r2_score(test_y, y_test_pred)"
   ]
  },
  {
   "cell_type": "code",
   "execution_count": null,
   "metadata": {},
   "outputs": [],
   "source": [
    "#np.savetxt('/home/furusato/tests/jupyter/mo444a/batch_model.txt', new_theta)"
   ]
  }
 ],
 "metadata": {
  "kernelspec": {
   "display_name": "Python 3",
   "language": "python",
   "name": "python3"
  },
  "language_info": {
   "codemirror_mode": {
    "name": "ipython",
    "version": 3
   },
   "file_extension": ".py",
   "mimetype": "text/x-python",
   "name": "python",
   "nbconvert_exporter": "python",
   "pygments_lexer": "ipython3",
   "version": "3.6.5"
  }
 },
 "nbformat": 4,
 "nbformat_minor": 2
}
