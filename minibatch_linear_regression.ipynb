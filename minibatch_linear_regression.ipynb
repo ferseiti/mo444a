{
 "cells": [
  {
   "cell_type": "code",
   "execution_count": 1,
   "metadata": {},
   "outputs": [],
   "source": [
    "import pandas as pd\n",
    "import numpy as np\n",
    "from sklearn import preprocessing\n",
    "from sklearn.model_selection import train_test_split\n",
    "from sklearn.linear_model import SGDRegressor\n",
    "from sklearn import metrics"
   ]
  },
  {
   "cell_type": "code",
   "execution_count": 2,
   "metadata": {},
   "outputs": [],
   "source": [
    "def step_gradient(learning_rate, theta, x_sample, y_sample):\n",
    "\n",
    "    N = float(x_sample.values[:,0].size)\n",
    "    \n",
    "    h = theta.dot(x_sample.transpose())\n",
    "    error = h - y_sample\n",
    "    \n",
    "    gradients = ((x_sample.T * (error)).T)/N\n",
    "    \n",
    "    somatorio_louco = np.sum(gradients, axis=0)\n",
    "\n",
    "    direction = learning_rate * somatorio_louco\n",
    "    \n",
    "    #theta = theta - minimization\n",
    "    \n",
    "    return -direction, np.linalg.norm(direction)"
   ]
  },
  {
   "cell_type": "code",
   "execution_count": 3,
   "metadata": {},
   "outputs": [],
   "source": [
    "def descent(learning_rate, initial_theta, iterations, x_sample, y_sample, batch_size='full'):\n",
    "    if iterations == 'stochastic':\n",
    "        iterations = len(x_sample)\n",
    "        batch_size = 1\n",
    "    theta = initial_theta\n",
    "    if batch_size == 'full':\n",
    "        for i in range(iterations):\n",
    "            aiseeutepego = step_gradient(learning_rate, theta, x_sample, y_sample)\n",
    "            theta += aiseeutepego[0]\n",
    "            if i % (iterations//50) == 0:\n",
    "                print('Iteration {}: {}'.format(i, aiseeutepego[1]))\n",
    "    elif type(batch_size) is int:\n",
    "        i = 0\n",
    "        while i < iterations:\n",
    "            j = 0\n",
    "            while j < len(x_sample) or j < iterations:\n",
    "                aiseeutepego = step_gradient(learning_rate, theta, x_sample[j:j+batch_size], y_sample[j:j+batch_size])\n",
    "                theta += aiseeutepego[0]\n",
    "                if i % (iterations//50) == 0:\n",
    "                    print('Iteration {}: {}'.format(i, aiseeutepego[1]))\n",
    "                j += batch_size\n",
    "                i += 1\n",
    "    return theta"
   ]
  },
  {
   "cell_type": "markdown",
   "metadata": {},
   "source": [
    "### one_hot = False, not using one-hot encoding"
   ]
  },
  {
   "cell_type": "code",
   "execution_count": 4,
   "metadata": {},
   "outputs": [],
   "source": [
    "one_hot = False\n",
    "data = pd.read_csv('diamonds.csv', index_col=0)"
   ]
  },
  {
   "cell_type": "code",
   "execution_count": 5,
   "metadata": {},
   "outputs": [
    {
     "data": {
      "text/html": [
       "<div>\n",
       "<style scoped>\n",
       "    .dataframe tbody tr th:only-of-type {\n",
       "        vertical-align: middle;\n",
       "    }\n",
       "\n",
       "    .dataframe tbody tr th {\n",
       "        vertical-align: top;\n",
       "    }\n",
       "\n",
       "    .dataframe thead th {\n",
       "        text-align: right;\n",
       "    }\n",
       "</style>\n",
       "<table border=\"1\" class=\"dataframe\">\n",
       "  <thead>\n",
       "    <tr style=\"text-align: right;\">\n",
       "      <th></th>\n",
       "      <th>carat</th>\n",
       "      <th>cut</th>\n",
       "      <th>color</th>\n",
       "      <th>clarity</th>\n",
       "      <th>depth</th>\n",
       "      <th>table</th>\n",
       "      <th>price</th>\n",
       "      <th>x</th>\n",
       "      <th>y</th>\n",
       "      <th>z</th>\n",
       "    </tr>\n",
       "  </thead>\n",
       "  <tbody>\n",
       "    <tr>\n",
       "      <th>1</th>\n",
       "      <td>0.23</td>\n",
       "      <td>Ideal</td>\n",
       "      <td>E</td>\n",
       "      <td>SI2</td>\n",
       "      <td>61.5</td>\n",
       "      <td>55.0</td>\n",
       "      <td>326</td>\n",
       "      <td>3.95</td>\n",
       "      <td>3.98</td>\n",
       "      <td>2.43</td>\n",
       "    </tr>\n",
       "    <tr>\n",
       "      <th>2</th>\n",
       "      <td>0.21</td>\n",
       "      <td>Premium</td>\n",
       "      <td>E</td>\n",
       "      <td>SI1</td>\n",
       "      <td>59.8</td>\n",
       "      <td>61.0</td>\n",
       "      <td>326</td>\n",
       "      <td>3.89</td>\n",
       "      <td>3.84</td>\n",
       "      <td>2.31</td>\n",
       "    </tr>\n",
       "    <tr>\n",
       "      <th>3</th>\n",
       "      <td>0.23</td>\n",
       "      <td>Good</td>\n",
       "      <td>E</td>\n",
       "      <td>VS1</td>\n",
       "      <td>56.9</td>\n",
       "      <td>65.0</td>\n",
       "      <td>327</td>\n",
       "      <td>4.05</td>\n",
       "      <td>4.07</td>\n",
       "      <td>2.31</td>\n",
       "    </tr>\n",
       "    <tr>\n",
       "      <th>4</th>\n",
       "      <td>0.29</td>\n",
       "      <td>Premium</td>\n",
       "      <td>I</td>\n",
       "      <td>VS2</td>\n",
       "      <td>62.4</td>\n",
       "      <td>58.0</td>\n",
       "      <td>334</td>\n",
       "      <td>4.20</td>\n",
       "      <td>4.23</td>\n",
       "      <td>2.63</td>\n",
       "    </tr>\n",
       "    <tr>\n",
       "      <th>5</th>\n",
       "      <td>0.31</td>\n",
       "      <td>Good</td>\n",
       "      <td>J</td>\n",
       "      <td>SI2</td>\n",
       "      <td>63.3</td>\n",
       "      <td>58.0</td>\n",
       "      <td>335</td>\n",
       "      <td>4.34</td>\n",
       "      <td>4.35</td>\n",
       "      <td>2.75</td>\n",
       "    </tr>\n",
       "  </tbody>\n",
       "</table>\n",
       "</div>"
      ],
      "text/plain": [
       "   carat      cut color clarity  depth  table  price     x     y     z\n",
       "1   0.23    Ideal     E     SI2   61.5   55.0    326  3.95  3.98  2.43\n",
       "2   0.21  Premium     E     SI1   59.8   61.0    326  3.89  3.84  2.31\n",
       "3   0.23     Good     E     VS1   56.9   65.0    327  4.05  4.07  2.31\n",
       "4   0.29  Premium     I     VS2   62.4   58.0    334  4.20  4.23  2.63\n",
       "5   0.31     Good     J     SI2   63.3   58.0    335  4.34  4.35  2.75"
      ]
     },
     "execution_count": 5,
     "metadata": {},
     "output_type": "execute_result"
    }
   ],
   "source": [
    "data.head()"
   ]
  },
  {
   "cell_type": "code",
   "execution_count": 6,
   "metadata": {},
   "outputs": [],
   "source": [
    "if one_hot:\n",
    "    one_hot_cut = pd.get_dummies(data['cut'])\n",
    "    one_hot_color = pd.get_dummies(data['color'])\n",
    "    one_hot_clarity = pd.get_dummies(data['clarity'])\n",
    "    data = data.drop('cut', axis=1)\n",
    "    data = data.drop('color', axis=1)\n",
    "    data = data.drop('clarity', axis=1)\n",
    "    data = data.join(one_hot_cut)\n",
    "    data = data.join(one_hot_color)\n",
    "    data = data.join(one_hot_clarity)"
   ]
  },
  {
   "cell_type": "code",
   "execution_count": 7,
   "metadata": {},
   "outputs": [],
   "source": [
    "train, test = train_test_split(data, test_size=0.15)"
   ]
  },
  {
   "cell_type": "code",
   "execution_count": 8,
   "metadata": {},
   "outputs": [],
   "source": [
    "train_x = train.drop('price', axis=1)\n",
    "test_x = test.drop('price', axis=1)"
   ]
  },
  {
   "cell_type": "code",
   "execution_count": 9,
   "metadata": {},
   "outputs": [],
   "source": [
    "if not one_hot:\n",
    "    # Removing features\n",
    "    train_x = train_x.drop('cut', axis=1)\n",
    "    train_x = train_x.drop('color', axis=1)\n",
    "    train_x = train_x.drop('clarity', axis=1)\n",
    "    test_x = test_x.drop('cut', axis=1)\n",
    "    test_x = test_x.drop('color', axis=1)\n",
    "    test_x = test_x.drop('clarity', axis=1)"
   ]
  },
  {
   "cell_type": "code",
   "execution_count": 10,
   "metadata": {},
   "outputs": [
    {
     "data": {
      "text/html": [
       "<div>\n",
       "<style scoped>\n",
       "    .dataframe tbody tr th:only-of-type {\n",
       "        vertical-align: middle;\n",
       "    }\n",
       "\n",
       "    .dataframe tbody tr th {\n",
       "        vertical-align: top;\n",
       "    }\n",
       "\n",
       "    .dataframe thead th {\n",
       "        text-align: right;\n",
       "    }\n",
       "</style>\n",
       "<table border=\"1\" class=\"dataframe\">\n",
       "  <thead>\n",
       "    <tr style=\"text-align: right;\">\n",
       "      <th></th>\n",
       "      <th>carat</th>\n",
       "      <th>depth</th>\n",
       "      <th>table</th>\n",
       "      <th>x</th>\n",
       "      <th>y</th>\n",
       "      <th>z</th>\n",
       "    </tr>\n",
       "  </thead>\n",
       "  <tbody>\n",
       "    <tr>\n",
       "      <th>33616</th>\n",
       "      <td>0.31</td>\n",
       "      <td>60.7</td>\n",
       "      <td>60.0</td>\n",
       "      <td>4.34</td>\n",
       "      <td>4.36</td>\n",
       "      <td>2.64</td>\n",
       "    </tr>\n",
       "    <tr>\n",
       "      <th>16004</th>\n",
       "      <td>1.05</td>\n",
       "      <td>62.7</td>\n",
       "      <td>56.0</td>\n",
       "      <td>6.52</td>\n",
       "      <td>6.59</td>\n",
       "      <td>4.11</td>\n",
       "    </tr>\n",
       "    <tr>\n",
       "      <th>11495</th>\n",
       "      <td>1.28</td>\n",
       "      <td>63.6</td>\n",
       "      <td>56.0</td>\n",
       "      <td>6.92</td>\n",
       "      <td>6.78</td>\n",
       "      <td>4.37</td>\n",
       "    </tr>\n",
       "    <tr>\n",
       "      <th>46529</th>\n",
       "      <td>0.51</td>\n",
       "      <td>61.9</td>\n",
       "      <td>56.0</td>\n",
       "      <td>5.14</td>\n",
       "      <td>5.10</td>\n",
       "      <td>3.17</td>\n",
       "    </tr>\n",
       "    <tr>\n",
       "      <th>3376</th>\n",
       "      <td>0.24</td>\n",
       "      <td>61.8</td>\n",
       "      <td>57.0</td>\n",
       "      <td>3.97</td>\n",
       "      <td>3.99</td>\n",
       "      <td>2.46</td>\n",
       "    </tr>\n",
       "  </tbody>\n",
       "</table>\n",
       "</div>"
      ],
      "text/plain": [
       "       carat  depth  table     x     y     z\n",
       "33616   0.31   60.7   60.0  4.34  4.36  2.64\n",
       "16004   1.05   62.7   56.0  6.52  6.59  4.11\n",
       "11495   1.28   63.6   56.0  6.92  6.78  4.37\n",
       "46529   0.51   61.9   56.0  5.14  5.10  3.17\n",
       "3376    0.24   61.8   57.0  3.97  3.99  2.46"
      ]
     },
     "execution_count": 10,
     "metadata": {},
     "output_type": "execute_result"
    }
   ],
   "source": [
    "train_x.head()"
   ]
  },
  {
   "cell_type": "code",
   "execution_count": 11,
   "metadata": {},
   "outputs": [],
   "source": [
    "train_y = train.loc[:,'price']\n",
    "test_y = test.loc[:,'price']"
   ]
  },
  {
   "cell_type": "code",
   "execution_count": 12,
   "metadata": {},
   "outputs": [],
   "source": [
    "train_x=(train_x-train_x.min())/(train_x.max()-train_x.min())\n",
    "test_x=(test_x-test_x.min())/(test_x.max()-test_x.min())"
   ]
  },
  {
   "cell_type": "code",
   "execution_count": 13,
   "metadata": {},
   "outputs": [
    {
     "data": {
      "text/html": [
       "<div>\n",
       "<style scoped>\n",
       "    .dataframe tbody tr th:only-of-type {\n",
       "        vertical-align: middle;\n",
       "    }\n",
       "\n",
       "    .dataframe tbody tr th {\n",
       "        vertical-align: top;\n",
       "    }\n",
       "\n",
       "    .dataframe thead th {\n",
       "        text-align: right;\n",
       "    }\n",
       "</style>\n",
       "<table border=\"1\" class=\"dataframe\">\n",
       "  <thead>\n",
       "    <tr style=\"text-align: right;\">\n",
       "      <th></th>\n",
       "      <th>carat</th>\n",
       "      <th>depth</th>\n",
       "      <th>table</th>\n",
       "      <th>x</th>\n",
       "      <th>y</th>\n",
       "      <th>z</th>\n",
       "    </tr>\n",
       "  </thead>\n",
       "  <tbody>\n",
       "    <tr>\n",
       "      <th>33616</th>\n",
       "      <td>0.022869</td>\n",
       "      <td>0.491667</td>\n",
       "      <td>0.326923</td>\n",
       "      <td>0.404097</td>\n",
       "      <td>0.413662</td>\n",
       "      <td>0.083019</td>\n",
       "    </tr>\n",
       "    <tr>\n",
       "      <th>16004</th>\n",
       "      <td>0.176715</td>\n",
       "      <td>0.547222</td>\n",
       "      <td>0.250000</td>\n",
       "      <td>0.607076</td>\n",
       "      <td>0.625237</td>\n",
       "      <td>0.129245</td>\n",
       "    </tr>\n",
       "    <tr>\n",
       "      <th>11495</th>\n",
       "      <td>0.224532</td>\n",
       "      <td>0.572222</td>\n",
       "      <td>0.250000</td>\n",
       "      <td>0.644320</td>\n",
       "      <td>0.643264</td>\n",
       "      <td>0.137421</td>\n",
       "    </tr>\n",
       "    <tr>\n",
       "      <th>46529</th>\n",
       "      <td>0.064449</td>\n",
       "      <td>0.525000</td>\n",
       "      <td>0.250000</td>\n",
       "      <td>0.478585</td>\n",
       "      <td>0.483871</td>\n",
       "      <td>0.099686</td>\n",
       "    </tr>\n",
       "    <tr>\n",
       "      <th>3376</th>\n",
       "      <td>0.008316</td>\n",
       "      <td>0.522222</td>\n",
       "      <td>0.269231</td>\n",
       "      <td>0.369646</td>\n",
       "      <td>0.378558</td>\n",
       "      <td>0.077358</td>\n",
       "    </tr>\n",
       "  </tbody>\n",
       "</table>\n",
       "</div>"
      ],
      "text/plain": [
       "          carat     depth     table         x         y         z\n",
       "33616  0.022869  0.491667  0.326923  0.404097  0.413662  0.083019\n",
       "16004  0.176715  0.547222  0.250000  0.607076  0.625237  0.129245\n",
       "11495  0.224532  0.572222  0.250000  0.644320  0.643264  0.137421\n",
       "46529  0.064449  0.525000  0.250000  0.478585  0.483871  0.099686\n",
       "3376   0.008316  0.522222  0.269231  0.369646  0.378558  0.077358"
      ]
     },
     "execution_count": 13,
     "metadata": {},
     "output_type": "execute_result"
    }
   ],
   "source": [
    "train_x.head()"
   ]
  },
  {
   "cell_type": "markdown",
   "metadata": {},
   "source": [
    "#### descent(learning_rate, initial_theta, iterations, x_sample, y_sample, batch_size='full')\n",
    "\n",
    "**Parameters:**\n",
    "* **learning_rate: float**  \n",
    "    The descent step size.\n",
    "    \n",
    "\n",
    "* **initial_theta: array-like object**  \n",
    "    The coefficients (also known as $\\theta$).\n",
    "    \n",
    "\n",
    "* **iterations: int or the string 'stochastic'**  \n",
    "    Amount of iterations to be executed.\n",
    "    \n",
    "\n",
    "* **x_sample: array-like object**  \n",
    "    Features of the training data.\n",
    "    \n",
    "    \n",
    "* **y_sample: array-like object**  \n",
    "    Target of the training data.\n",
    "    \n",
    "    \n",
    "* **batch_size: int or the string 'full'**  \n",
    "    Batch size of eatch step. If _iterations_ is set to 'stochastic', defaults to 1. \n",
    "    \n",
    "**Returns:**\n",
    "* **theta**:\n",
    "    The\n",
    "\n",
    "### Examples:\n",
    "descent(0.1, initial_theta, 10000, x_sample, y_sample, 1000)\n",
    "\n",
    "Will run 10 thousand iterations with batch size of 1000.\n",
    "\n",
    "Default for batch_size is 'full'.\n",
    "\n",
    "Iterations can be set to 'stochastic', which will force batch_size to be 1."
   ]
  },
  {
   "cell_type": "code",
   "execution_count": 14,
   "metadata": {},
   "outputs": [
    {
     "name": "stdout",
     "output_type": "stream",
     "text": [
      "Iteration 0: 435.4445145463196\n",
      "Iteration 400: 20.675164294738526\n",
      "Iteration 800: 11.592824074053489\n",
      "Iteration 1200: 6.625849922085999\n",
      "Iteration 1600: 3.9780320730723973\n",
      "Iteration 2000: 2.6444189847131456\n",
      "Iteration 2400: 2.026964085801031\n",
      "Iteration 2800: 1.753141704811509\n",
      "Iteration 3200: 1.6196425941588302\n",
      "Iteration 3600: 1.5382919349175728\n",
      "Iteration 4000: 1.4766588505116707\n",
      "Iteration 4400: 1.4236031776514686\n",
      "Iteration 4800: 1.375284028642285\n",
      "Iteration 5200: 1.3302736659172525\n",
      "Iteration 5600: 1.2879434398720973\n",
      "Iteration 6000: 1.2479399296349065\n",
      "Iteration 6400: 1.210014892697283\n",
      "Iteration 6800: 1.173969036697573\n",
      "Iteration 7200: 1.1396323714029244\n",
      "Iteration 7600: 1.1068563980885675\n",
      "Iteration 8000: 1.0755102237333651\n",
      "Iteration 8400: 1.045478066996938\n",
      "Iteration 8800: 1.0166573391828064\n",
      "Iteration 9200: 0.9889570300897527\n",
      "Iteration 9600: 0.9622963026472993\n",
      "Iteration 10000: 0.9366032557338216\n",
      "Iteration 10400: 0.911813832556914\n",
      "Iteration 10800: 0.8878708581636414\n",
      "Iteration 11200: 0.8647231921832146\n",
      "Iteration 11600: 0.8423249843359546\n",
      "Iteration 12000: 0.8206350213493752\n",
      "Iteration 12400: 0.7996161549282461\n",
      "Iteration 12800: 0.7792348013852132\n",
      "Iteration 13200: 0.7594605044548329\n",
      "Iteration 13600: 0.7402655536822699\n",
      "Iteration 14000: 0.7216246515884577\n",
      "Iteration 14400: 0.7035146235646811\n",
      "Iteration 14800: 0.6859141651364334\n",
      "Iteration 15200: 0.6688036218612705\n",
      "Iteration 15600: 0.6521647976890507\n",
      "Iteration 16000: 0.6359807881184304\n",
      "Iteration 16400: 0.6202358349351138\n",
      "Iteration 16800: 0.6049151997182983\n",
      "Iteration 17200: 0.5900050536570124\n",
      "Iteration 17600: 0.5754923815315282\n",
      "Iteration 18000: 0.5613648979911198\n",
      "Iteration 18400: 0.5476109745012308\n",
      "Iteration 18800: 0.5342195755458865\n",
      "Iteration 19200: 0.5211802028564033\n",
      "Iteration 19600: 0.5084828465995757\n",
      "carat    32314.017767\n",
      "depth    -3005.624986\n",
      "table    -4278.656325\n",
      "x         1712.300747\n",
      "y         3047.921218\n",
      "z          836.355086\n",
      "dtype: float64\n"
     ]
    }
   ],
   "source": [
    "initial_theta = np.ones(train_x.values[0].size)\n",
    "new_theta = descent(0.1, initial_theta, 20000, train_x, train_y, 'full')\n",
    "print(new_theta)"
   ]
  },
  {
   "cell_type": "code",
   "execution_count": 15,
   "metadata": {},
   "outputs": [],
   "source": [
    "y_train_pred = new_theta.dot(train_x.transpose())"
   ]
  },
  {
   "cell_type": "code",
   "execution_count": 16,
   "metadata": {},
   "outputs": [],
   "source": [
    "y_test_pred = test_x.dot(new_theta)"
   ]
  },
  {
   "cell_type": "code",
   "execution_count": 17,
   "metadata": {},
   "outputs": [
    {
     "name": "stdout",
     "output_type": "stream",
     "text": [
      "[  462  6403  5018  1781   408 17265   811 11646  8810  2790] [ -115.38861861  6049.23443489  7644.80925742  1812.64509847\n",
      "  -601.36727249 13287.19184091   670.07361271 12980.95842304\n",
      "  9044.73714476  4441.85552563]\n"
     ]
    }
   ],
   "source": [
    "print(train_y.values[:10], y_train_pred.values[:10])"
   ]
  },
  {
   "cell_type": "code",
   "execution_count": 18,
   "metadata": {},
   "outputs": [
    {
     "data": {
      "text/plain": [
       "0.8487489022929419"
      ]
     },
     "execution_count": 18,
     "metadata": {},
     "output_type": "execute_result"
    }
   ],
   "source": [
    "metrics.r2_score(train_y, y_train_pred)"
   ]
  },
  {
   "cell_type": "code",
   "execution_count": 19,
   "metadata": {},
   "outputs": [
    {
     "data": {
      "text/plain": [
       "0.8341743996162995"
      ]
     },
     "execution_count": 19,
     "metadata": {},
     "output_type": "execute_result"
    }
   ],
   "source": [
    "metrics.r2_score(test_y, y_test_pred)"
   ]
  },
  {
   "cell_type": "code",
   "execution_count": 20,
   "metadata": {},
   "outputs": [],
   "source": [
    "#np.savetxt('/home/furusato/tests/jupyter/mo444a/batch_model.txt', new_theta)"
   ]
  }
 ],
 "metadata": {
  "kernelspec": {
   "display_name": "Python 3",
   "language": "python",
   "name": "python3"
  },
  "language_info": {
   "codemirror_mode": {
    "name": "ipython",
    "version": 3
   },
   "file_extension": ".py",
   "mimetype": "text/x-python",
   "name": "python",
   "nbconvert_exporter": "python",
   "pygments_lexer": "ipython3",
   "version": "3.6.5"
  }
 },
 "nbformat": 4,
 "nbformat_minor": 2
}
