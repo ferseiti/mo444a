{
 "cells": [
  {
   "cell_type": "code",
   "execution_count": null,
   "metadata": {},
   "outputs": [],
   "source": [
    "import pandas as pd\n",
    "import numpy as np\n",
    "from sklearn import metrics\n",
    "from sklearn import preprocessing\n",
    "from sklearn.model_selection import train_test_split\n",
    "from sklearn.linear_model import SGDRegressor"
   ]
  },
  {
   "cell_type": "code",
   "execution_count": null,
   "metadata": {},
   "outputs": [],
   "source": [
    "data_aux = pd.read_csv('diamonds.csv', index_col=0)"
   ]
  },
  {
   "cell_type": "code",
   "execution_count": null,
   "metadata": {},
   "outputs": [],
   "source": [
    "data_aux.head()"
   ]
  },
  {
   "cell_type": "code",
   "execution_count": null,
   "metadata": {},
   "outputs": [],
   "source": [
    "one_hot_cut = pd.get_dummies(data_aux['cut'])\n",
    "one_hot_color = pd.get_dummies(data_aux['color'])\n",
    "one_hot_clarity = pd.get_dummies(data_aux['clarity'])\n",
    "\n",
    "data2 = data_aux.drop('cut', axis=1)\n",
    "data2 = data2.drop('color', axis=1)\n",
    "data2 = data2.drop('clarity', axis=1)\n",
    "\n",
    "data2 = data2.join(one_hot_cut)\n",
    "data2 = data2.join(one_hot_color)\n",
    "data2 = data2.join(one_hot_clarity)\n",
    "\n",
    "data2.head()"
   ]
  },
  {
   "cell_type": "code",
   "execution_count": null,
   "metadata": {},
   "outputs": [],
   "source": [
    "l = np.arange(1, 1.9, 0.1)\n",
    "l"
   ]
  },
  {
   "cell_type": "code",
   "execution_count": null,
   "metadata": {},
   "outputs": [],
   "source": [
    "data2.head()"
   ]
  },
  {
   "cell_type": "code",
   "execution_count": null,
   "metadata": {},
   "outputs": [],
   "source": [
    "train_n, test_n = train_test_split(data2, test_size=0.15)"
   ]
  },
  {
   "cell_type": "code",
   "execution_count": null,
   "metadata": {},
   "outputs": [],
   "source": [
    "train_y_n = train_n.loc[:,'price']\n",
    "test_y_n = test_n.loc[:,'price']"
   ]
  },
  {
   "cell_type": "code",
   "execution_count": null,
   "metadata": {},
   "outputs": [],
   "source": [
    "train_x_n = train_n.drop('price', axis=1)\n",
    "test_x_n = test_n.drop('price', axis=1)"
   ]
  },
  {
   "cell_type": "code",
   "execution_count": null,
   "metadata": {},
   "outputs": [],
   "source": [
    "train_x_n=(train_x_n-train_x_n.min())/(train_x_n.max()-train_x_n.min())\n",
    "test_x_n=(test_x_n-test_x_n.min())/(test_x_n.max()-test_x_n.min())"
   ]
  },
  {
   "cell_type": "code",
   "execution_count": null,
   "metadata": {},
   "outputs": [],
   "source": [
    "train_x_n.head()"
   ]
  },
  {
   "cell_type": "markdown",
   "metadata": {},
   "source": [
    "### Equação normal\n",
    "$\\theta = (X^{T}X)^{-1}X^Ty$"
   ]
  },
  {
   "cell_type": "code",
   "execution_count": null,
   "metadata": {},
   "outputs": [],
   "source": [
    "train_y_n = train_n.loc[:,'price']\n",
    "train_x_n = train_n.drop('price', axis=1)\n",
    "\n",
    "test_y_n = test_n.loc[:,'price']\n",
    "test_x_n = test_n.drop('price', axis=1)\n",
    "\n",
    "Xt = train_x_n.transpose()\n",
    "\n",
    "XtX = Xt.dot(train_x_n)\n",
    "\n",
    "XtX_inverse = pd.DataFrame(np.linalg.pinv(XtX.values), XtX.columns, XtX.index)\n",
    "\n",
    "#XtX_inverse.dot(XtX)"
   ]
  },
  {
   "cell_type": "code",
   "execution_count": null,
   "metadata": {},
   "outputs": [],
   "source": [
    "theta = XtX_inverse.dot(Xt.dot(train_y_n))\n",
    "pd.DataFrame.from_dict(theta).transpose()"
   ]
  },
  {
   "cell_type": "code",
   "execution_count": null,
   "metadata": {},
   "outputs": [],
   "source": [
    "#train.iloc[20]"
   ]
  },
  {
   "cell_type": "code",
   "execution_count": null,
   "metadata": {},
   "outputs": [],
   "source": [
    "y_pred = theta.dot(train_x_n.transpose())\n",
    "y_test_pred = theta.dot(test_x_n.transpose())\n",
    "#y_test_pred"
   ]
  },
  {
   "cell_type": "code",
   "execution_count": null,
   "metadata": {},
   "outputs": [],
   "source": [
    "metrics.explained_variance_score(train_y_n, y_pred)"
   ]
  },
  {
   "cell_type": "code",
   "execution_count": null,
   "metadata": {},
   "outputs": [],
   "source": [
    "metrics.explained_variance_score(test_y_n, y_test_pred)"
   ]
  },
  {
   "cell_type": "code",
   "execution_count": null,
   "metadata": {},
   "outputs": [],
   "source": [
    "print(metrics.r2_score(test_y_n, y_test_pred))\n",
    "print(metrics.mean_squared_error(train_y_n, y_pred))\n",
    "print(metrics.mean_squared_error(test_y_n, y_test_pred))\n"
   ]
  },
  {
   "cell_type": "code",
   "execution_count": null,
   "metadata": {},
   "outputs": [],
   "source": [
    "metrics.r2_score(train_y_n, y_pred)"
   ]
  }
 ],
 "metadata": {
  "kernelspec": {
   "display_name": "Python 3",
   "language": "python",
   "name": "python3"
  },
  "language_info": {
   "codemirror_mode": {
    "name": "ipython",
    "version": 3
   },
   "file_extension": ".py",
   "mimetype": "text/x-python",
   "name": "python",
   "nbconvert_exporter": "python",
   "pygments_lexer": "ipython3",
   "version": "3.5.2"
  }
 },
 "nbformat": 4,
 "nbformat_minor": 2
}
