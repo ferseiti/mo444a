{
 "cells": [
  {
   "cell_type": "code",
   "execution_count": 67,
   "metadata": {},
   "outputs": [],
   "source": [
    "%matplotlib inline\n",
    "\n",
    "from sklearn.feature_extraction.text import CountVectorizer\n",
    "from sklearn import metrics\n",
    "\n",
    "from sklearn.decomposition import PCA\n",
    "\n",
    "from sklearn.cluster import KMeans\n",
    "\n",
    "from scipy.spatial.distance import cdist, euclidean\n",
    "\n",
    "import sys\n",
    "from time import time\n",
    "\n",
    "import numpy as np\n",
    "import pandas as pd\n",
    "import matplotlib.pyplot as plt"
   ]
  },
  {
   "cell_type": "code",
   "execution_count": 68,
   "metadata": {
    "scrolled": true
   },
   "outputs": [],
   "source": [
    "df = pd.read_csv('./health-dataset/word2vec.csv', header=None)\n",
    "dataset = np.array(df.values)"
   ]
  },
  {
   "cell_type": "markdown",
   "metadata": {},
   "source": [
    "# PCA"
   ]
  },
  {
   "cell_type": "code",
   "execution_count": 69,
   "metadata": {},
   "outputs": [
    {
     "data": {
      "text/plain": [
       "104"
      ]
     },
     "execution_count": 69,
     "metadata": {},
     "output_type": "execute_result"
    }
   ],
   "source": [
    "pca = PCA(n_components=0.90)\n",
    "dataset_PCA = pca.fit_transform(dataset)\n",
    "pca.n_components_"
   ]
  },
  {
   "cell_type": "code",
   "execution_count": 70,
   "metadata": {},
   "outputs": [],
   "source": [
    "def kmeans_func():\n",
    "    N = 5\n",
    "    verbose = False\n",
    "\n",
    "    km_PCA = KMeans(n_clusters=N, init='k-means++', max_iter=1200, n_init=3, n_jobs=6,\n",
    "                    verbose=verbose)\n",
    "\n",
    "    print(\"Clustering sparse data with {}\".format(km_PCA))\n",
    "    t0 = time()\n",
    "\n",
    "    km_PCA.fit(dataset_PCA)\n",
    "    print(\"done in {}s\".format(time() - t0))\n",
    "    return km_PCA"
   ]
  },
  {
   "cell_type": "code",
   "execution_count": null,
   "metadata": {},
   "outputs": [
    {
     "name": "stdout",
     "output_type": "stream",
     "text": [
      "Clustering sparse data with KMeans(algorithm='auto', copy_x=True, init='k-means++', max_iter=1200,\n",
      "    n_clusters=5, n_init=3, n_jobs=6, precompute_distances='auto',\n",
      "    random_state=None, tol=0.0001, verbose=False)\n",
      "done in 0.7212989330291748s\n",
      "[7987  455 1386 7194  554] [0.43774125 0.44351807 0.39665816 0.42949568 0.40590746]\n"
     ]
    }
   ],
   "source": [
    "km_PCA = kmeans_func()\n",
    "closest_PCA, distances_PCA = metrics.pairwise_distances_argmin_min(km_PCA.cluster_centers_, dataset_PCA)\n",
    "print(closest_PCA, distances_PCA)\n",
    "\n",
    "while not (np.unique(closest_PCA).shape == closest_PCA.shape):\n",
    "    km_PCA = kmeans_func()\n",
    "    closest_PCA, distances_PCA = metrics.pairwise_distances_argmin_min(km_PCA.cluster_centers_, dataset_PCA)\n",
    "\n",
    "    print(closest_PCA, distances_PCA)"
   ]
  },
  {
   "cell_type": "code",
   "execution_count": null,
   "metadata": {},
   "outputs": [
    {
     "data": {
      "text/plain": [
       "0.004978121840402525"
      ]
     },
     "execution_count": 72,
     "metadata": {},
     "output_type": "execute_result"
    }
   ],
   "source": [
    "silhouette_PCA = metrics.silhouette_score(dataset_PCA, km_PCA.labels_)\n",
    "\n",
    "silhouette_PCA"
   ]
  },
  {
   "cell_type": "code",
   "execution_count": null,
   "metadata": {},
   "outputs": [
    {
     "data": {
      "text/plain": [
       "13229"
      ]
     },
     "execution_count": 73,
     "metadata": {},
     "output_type": "execute_result"
    }
   ],
   "source": [
    "health_lines = []\n",
    "with open('health-dataset/health.txt', 'r') as health_txt:\n",
    "    health_aux = health_txt.readlines()\n",
    "    health_aux.pop(0)\n",
    "    for i in health_aux:\n",
    "        health_lines.append(i.split('|')[-1])\n",
    "len(health_lines)"
   ]
  },
  {
   "cell_type": "code",
   "execution_count": null,
   "metadata": {},
   "outputs": [
    {
     "name": "stdout",
     "output_type": "stream",
     "text": [
      "Cluster 0: Blood sugar is NOT what matters most for preventing heart disease in people with #diabetes, new study finds\n",
      "\n",
      "Cluster 1: RT @CDCgov: CDC #Ebola experts have advised @EmoryUniversity Hospital there is no public health concern w/ release of these patients.\n",
      "\n",
      "Cluster 2: RT @kellywallacetv: What's the advice when your child wants to stop a physical activity &amp; you know it's good for them to keep doing it? #fi…\n",
      "\n",
      "Cluster 3: RT @RachelBegunRD: A1 Fact: Heart disease is THE leading cause of death for both men AND women. It is responsible for 1 in 4 deaths in America #healthtalk\n",
      "\n",
      "Cluster 4: RT @drsanjaygupta: meet the doctor and get a first look at the room where ebola patients will be treated in the US.\n",
      "\n"
     ]
    }
   ],
   "source": [
    "for i in enumerate(closest_PCA):\n",
    "#     print(i)\n",
    "    print('Cluster {}: {}'.format(i[0], health_lines[i[1]]))"
   ]
  },
  {
   "cell_type": "code",
   "execution_count": null,
   "metadata": {},
   "outputs": [
    {
     "name": "stdout",
     "output_type": "stream",
     "text": [
      "Cluster 0: A plant-based diet that incorporates fish may be the key to preventing colorectal cancers:\n",
      "\n",
      "Cluster 0: How women can wipe out Alzheimer's, from @mariashriver. \n",
      "\n",
      "Cluster 0: RT @CNNOpinion: Women can defeat #Alzheimers, says @mariashriver. #WipeOutAlz challenge will make it happen.\n",
      "\n",
      "Cluster 0: CDC: Misuse of garments may have led to release of bioterror bacteria at Tulane monkey lab.\n",
      "\n",
      "Cluster 0: Losing a brain tumor, gaining perspective: CNN's Jessica Moskowitz's #FirstPerson experience.\n",
      "\n",
      "Cluster 1: Ear trouble? Save yourself a trip to the ER. One startup has created an iPhone attachment to diagnose ear infections.\n",
      "\n",
      "Cluster 1: \"Vaccines prevent 6 million deaths every year and fundamentally changed modern medicine\" Opinion @drsanjaygupta\n",
      "\n",
      "Cluster 1: That cell phone is suffocating you, @drsanjaygupta shows you how\n",
      "\n",
      "Cluster 1: Do any of your resolutions involve eating better?  Here's some easy ways to do just that\n",
      "\n",
      "Cluster 1: Those NewYear resolutions starting to slide? Try these ideas from Yoga to stick with to them\n",
      "\n",
      "Cluster 2: A 'one in a million' chance, that's what this couple had for having these babies\n",
      "\n",
      "Cluster 2: 5 years ago an infant was left alone buried in the rubble for 4 entire days.Check her out now\n",
      "\n",
      "Cluster 2: More are sick &amp; federal investigators may know what's causing it with some tainted apples\n",
      "\n",
      "Cluster 2: The debilitating outbreak sweeping the Americas\n",
      "\n",
      "Cluster 2: Teens do fewer drugs and drink less.\n",
      "\n",
      "Cluster 3: Helping kids kick the pain and fear out of cancer #CNNHeroes\n",
      "\n",
      "Cluster 3: 60 genes linked to #autism risk:\n",
      "\n",
      "Cluster 3: RT @American_Stroke: RESOURCE: Living w/ #stroke or caring for someone who is? Join our online community of people like you:\n",
      "\n",
      "Cluster 3: RT @JacobsInstitute: RT @memorialhermann: Women have higher lifetime risk of #Stroke than men. Yearly, about 55,000 more women than men hav…\n",
      "\n",
      "Cluster 3: RT @advocatehealth: #StrokeChat Myth: Strokes are rare. Reality: According to @American_Stroke, someone suffers a stroke every 2 seconds. h…\n",
      "\n",
      "Cluster 4: @HSFCSR We had a great story about one woman's stroke recovery:\n",
      "\n",
      "Cluster 4: Jeff Baxter lost 270 lbs -- and became @ksdeh Teacher of the Year. See his transformation:\n",
      "\n",
      "Cluster 4: .@ClairityProject spends a lot of time in the hospital. So she's made it home:\n",
      "\n",
      "Cluster 4: Join chef @RidingShotgunLA for a @reddit AMA this afternoon about his new @CNN series \"Street Food\":\n",
      "\n",
      "Cluster 4: She lost 50 lbs for her 50th reunion, to fit into this 50-yr-old dress. See it:\n",
      "\n"
     ]
    }
   ],
   "source": [
    "labels = km_PCA.labels_\n",
    "count = np.zeros(2).astype('int')\n",
    "\n",
    "for i in np.unique(labels):\n",
    "    count[0] = 0\n",
    "    for j in labels:\n",
    "        if j == i:\n",
    "            print(\"Cluster {}: {}\".format(j, health_lines[count[1]]))\n",
    "            count[0] += 1\n",
    "        count[1] += 1\n",
    "        if count[0] == 5:\n",
    "            break"
   ]
  },
  {
   "cell_type": "code",
   "execution_count": null,
   "metadata": {},
   "outputs": [
    {
     "name": "stdout",
     "output_type": "stream",
     "text": [
      "Fitting kmeans with 2 clusters\n",
      "Fitting kmeans with 3 clusters\n",
      "Fitting kmeans with 4 clusters\n",
      "Fitting kmeans with 5 clusters\n"
     ]
    }
   ],
   "source": [
    "run = True\n",
    "if run:\n",
    "    Nc = range(2, 20)\n",
    "\n",
    "    kmeans = []\n",
    "    score = []\n",
    "    silhouettes = []\n",
    "\n",
    "    for i in Nc:\n",
    "        kmeans.append(KMeans(n_clusters=i, n_init=3, n_jobs=i, max_iter=1200))\n",
    "\n",
    "    for i in range(len(kmeans)):\n",
    "        print('Fitting kmeans with {} clusters'.format(kmeans[i].n_clusters))\n",
    "        score.append(kmeans[i].fit(dataset_PCA).inertia_)\n",
    "        silhouettes.append(metrics.silhouette_score(dataset_PCA, kmeans[i].labels_))"
   ]
  },
  {
   "cell_type": "code",
   "execution_count": null,
   "metadata": {},
   "outputs": [],
   "source": [
    "if run:\n",
    "    plt.plot(Nc,score)\n",
    "\n",
    "    plt.xlabel('Number of Clusters')\n",
    "\n",
    "    plt.ylabel('Sum of squared distances')\n",
    "\n",
    "    plt.title('Elbow Curve')\n",
    "\n",
    "    plt.show()\n",
    "    \n",
    "    \n",
    "    plt.plot(Nc,silhouettes)\n",
    "\n",
    "    plt.xlabel('Number of Clusters')\n",
    "\n",
    "    plt.ylabel('Silhouettes')\n",
    "\n",
    "    plt.title('Silhouettes x Number of Clusters')\n",
    "\n",
    "    plt.show()"
   ]
  }
 ],
 "metadata": {
  "kernelspec": {
   "display_name": "Python 3",
   "language": "python",
   "name": "python3"
  },
  "language_info": {
   "codemirror_mode": {
    "name": "ipython",
    "version": 3
   },
   "file_extension": ".py",
   "mimetype": "text/x-python",
   "name": "python",
   "nbconvert_exporter": "python",
   "pygments_lexer": "ipython3",
   "version": "3.6.6"
  }
 },
 "nbformat": 4,
 "nbformat_minor": 1
}
