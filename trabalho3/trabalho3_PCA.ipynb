{
 "cells": [
  {
   "cell_type": "code",
   "execution_count": 1,
   "metadata": {},
   "outputs": [],
   "source": [
    "%matplotlib inline\n",
    "\n",
    "from sklearn.feature_extraction.text import CountVectorizer\n",
    "from sklearn.pipeline import make_pipeline\n",
    "from sklearn.preprocessing import Normalizer\n",
    "from sklearn import metrics\n",
    "from sklearn.metrics import pairwise_distances_argmin_min\n",
    "\n",
    "from sklearn.decomposition import PCA\n",
    "\n",
    "from sklearn.cluster import KMeans\n",
    "\n",
    "from scipy.spatial.distance import cdist, euclidean\n",
    "\n",
    "import sys\n",
    "from time import time\n",
    "\n",
    "import numpy as np\n",
    "import pandas as pd\n",
    "import matplotlib.pyplot as plt"
   ]
  },
  {
   "cell_type": "code",
   "execution_count": 2,
   "metadata": {
    "scrolled": true
   },
   "outputs": [],
   "source": [
    "df = pd.read_csv('./health-dataset/word2vec.csv', header=None)\n",
    "dataset = np.array(df.values)"
   ]
  },
  {
   "cell_type": "markdown",
   "metadata": {},
   "source": [
    "# PCA"
   ]
  },
  {
   "cell_type": "code",
   "execution_count": 29,
   "metadata": {},
   "outputs": [
    {
     "data": {
      "text/plain": [
       "104"
      ]
     },
     "execution_count": 29,
     "metadata": {},
     "output_type": "execute_result"
    }
   ],
   "source": [
    "pca = PCA(n_components=0.90)\n",
    "dataset_PCA = pca.fit_transform(dataset)\n",
    "pca.n_components_"
   ]
  },
  {
   "cell_type": "code",
   "execution_count": 30,
   "metadata": {},
   "outputs": [],
   "source": [
    "def kmeans_func():\n",
    "    N = 5\n",
    "    verbose = False\n",
    "\n",
    "    km_PCA = KMeans(n_clusters=N, init='k-means++', max_iter=1200, n_init=3, n_jobs=6,\n",
    "                    verbose=verbose)\n",
    "\n",
    "    print(\"Clustering sparse data with {}\".format(km_PCA))\n",
    "    t0 = time()\n",
    "\n",
    "    km_PCA.fit(dataset_PCA)\n",
    "    print(\"done in {}s\".format(time() - t0))\n",
    "    return km_PCA"
   ]
  },
  {
   "cell_type": "code",
   "execution_count": 31,
   "metadata": {},
   "outputs": [
    {
     "name": "stdout",
     "output_type": "stream",
     "text": [
      "Clustering sparse data with KMeans(algorithm='auto', copy_x=True, init='k-means++', max_iter=1200,\n",
      "    n_clusters=5, n_init=3, n_jobs=6, precompute_distances='auto',\n",
      "    random_state=None, tol=0.0001, verbose=False)\n",
      "done in 0.6939334869384766s\n",
      "[ 455 1386  554 7987  219] [0.4610243  0.39691355 0.40443733 0.43646658 0.44054166]\n"
     ]
    }
   ],
   "source": [
    "km_PCA = kmeans_func()\n",
    "closest_PCA, distances_PCA = pairwise_distances_argmin_min(km_PCA.cluster_centers_, dataset_PCA)\n",
    "print(closest_PCA, distances_PCA)\n",
    "\n",
    "while not (np.unique(closest_PCA).shape == closest_PCA.shape):\n",
    "    km_PCA = kmeans_func()\n",
    "    closest_PCA, distances_PCA = pairwise_distances_argmin_min(km_PCA.cluster_centers_, dataset_PCA)\n",
    "\n",
    "    print(closest_PCA, distances_PCA)"
   ]
  },
  {
   "cell_type": "code",
   "execution_count": 32,
   "metadata": {},
   "outputs": [
    {
     "data": {
      "text/plain": [
       "0.005141070149465337"
      ]
     },
     "execution_count": 32,
     "metadata": {},
     "output_type": "execute_result"
    }
   ],
   "source": [
    "silhouette_PCA = metrics.silhouette_score(dataset_PCA, km_PCA.labels_)\n",
    "\n",
    "silhouette_PCA"
   ]
  },
  {
   "cell_type": "code",
   "execution_count": 33,
   "metadata": {},
   "outputs": [
    {
     "data": {
      "text/plain": [
       "13229"
      ]
     },
     "execution_count": 33,
     "metadata": {},
     "output_type": "execute_result"
    }
   ],
   "source": [
    "health_lines = []\n",
    "with open('health-dataset/health.txt', 'r') as health_txt:\n",
    "    health_aux = health_txt.readlines()\n",
    "    health_aux.pop(0)\n",
    "    for i in health_aux:\n",
    "        health_lines.append(i.split('|')[-1])\n",
    "len(health_lines)"
   ]
  },
  {
   "cell_type": "code",
   "execution_count": 34,
   "metadata": {},
   "outputs": [
    {
     "name": "stdout",
     "output_type": "stream",
     "text": [
      "Cluster 0: RT @CDCgov: CDC #Ebola experts have advised @EmoryUniversity Hospital there is no public health concern w/ release of these patients.\n",
      "\n",
      "Cluster 1: RT @kellywallacetv: What's the advice when your child wants to stop a physical activity &amp; you know it's good for them to keep doing it? #fi…\n",
      "\n",
      "Cluster 2: RT @drsanjaygupta: meet the doctor and get a first look at the room where ebola patients will be treated in the US.\n",
      "\n",
      "Cluster 3: Blood sugar is NOT what matters most for preventing heart disease in people with #diabetes, new study finds\n",
      "\n",
      "Cluster 4: Bently the dog has tested negative for #Ebola #Dallas city officials say. He's still in quarantine\n",
      "\n"
     ]
    }
   ],
   "source": [
    "for i in enumerate(closest_PCA):\n",
    "#     print(i)\n",
    "    print('Cluster {}: {}'.format(i[0], health_lines[i[1]]))"
   ]
  },
  {
   "cell_type": "code",
   "execution_count": 65,
   "metadata": {},
   "outputs": [
    {
     "name": "stdout",
     "output_type": "stream",
     "text": [
      "Cluster 0: Nigeria is free of #Ebola transmission @WHO says\n",
      "\n",
      "Cluster 0: Have you traveled to #Seattle lately? Health officials investigating #measles case at the airport:\n",
      "\n",
      "Cluster 0: RT @CNNMoney: #CVSHealth cig ban begins today:\n",
      "\n",
      "Cluster 0: RT @CNNMoney: Hospital network hacked, 4.5 million records stolen:\n",
      "\n",
      "Cluster 0: Childhood mental health disabilities increased 21% over a 10-year period. Why?\n",
      "\n",
      "Cluster 1: Antibiotics may mess w/ your baby's metabolism -- and other thing we learned from medical journals this week:\n",
      "\n",
      "Cluster 1: RT @CEP_America: It’s like Uber, for house calls! @CNNHealth shares how some #apps are helping patients avoid long waits in the #ED:\n",
      "\n",
      "Cluster 1: Remember when @CDCgov mixed a deadly flu strain &amp; a not-so-deadly flu strain? Here's what happened:\n",
      "\n",
      "Cluster 1: @OliverPyatt Thank you for joining in!\n",
      "\n",
      "Cluster 1: \"How is someone supposed to be able to afford the help that everyone keeps saying is out there?\" #depression chat:\n",
      "\n",
      "Cluster 2: RT @CNNLiving: \"It's hard to know the difference between the stress of living in a fast-paced society and true anxiety/#depression.\"\n",
      "\n",
      "Cluster 2: @Luni47 Agree! Share your story with others at noon here:\n",
      "\n",
      "Cluster 2: 10 signs you should break up with your personal trainer\n",
      "\n",
      "Cluster 2: Kathleen lost 250 lbs. Learn how:\n",
      "\n",
      "Cluster 2: Big meeting at work this week? Pump up the bass! Here's why:\n",
      "\n",
      "Cluster 3: Big event comin' up? Pump up the bass! Here's why:\n",
      "\n",
      "Cluster 3: .@WHO says #EbolaOutbreak is an international emergency. Do you agree?\n",
      "\n",
      "Cluster 3: It took 2 Americans getting sick for the international community to take #Ebola seriously, @SamaritansPurse says\n",
      "\n",
      "Cluster 3: 'Flesh-eating bacteria'? Not so much. What you need to know about Vibrio vulnificus\n",
      "\n",
      "Cluster 3: @SoapBox_Ponch @CNN Good Q! That study said gluten sensitivity may not be real. Check out this @ErinBurnett video:\n",
      "\n",
      "Cluster 4: RT @a_dipiazza: Plane has taken off from Bangor International Airport headed for Emory Univ Hospital in Atlanta.\n",
      "\n",
      "Cluster 4: RT @CNNWire: From @cnnhealth: How Americans infected by #Ebola could potentially travel home:\n",
      "\n",
      "Cluster 4: RT @getpager: The benefits of bringing back house calls: \"Uber-inspired apps bring a doctor right to your door\"\n",
      "\n",
      "Cluster 4: .@PeaceCorps pulling volunteers from #Ebola region\n",
      "\n",
      "Cluster 4: What does your face say about you the first time you meet someone?\n",
      "\n"
     ]
    }
   ],
   "source": [
    "labels = km_PCA.labels_\n",
    "count = np.zeros(2).astype('int')\n",
    "\n",
    "for i in np.unique(labels):\n",
    "    count[0] = 0\n",
    "    for j in labels:\n",
    "        if j == i:\n",
    "            print(\"Cluster {}: {}\".format(j, health_lines[count[1]]))\n",
    "            count[0] += 1\n",
    "        count[1] += 1\n",
    "        if count[0] == 5:\n",
    "            break"
   ]
  },
  {
   "cell_type": "code",
   "execution_count": 36,
   "metadata": {},
   "outputs": [
    {
     "name": "stdout",
     "output_type": "stream",
     "text": [
      "Fitting kmeans with 2 clusters\n",
      "Fitting kmeans with 3 clusters\n",
      "Fitting kmeans with 4 clusters\n",
      "Fitting kmeans with 5 clusters\n",
      "Fitting kmeans with 6 clusters\n",
      "Fitting kmeans with 7 clusters\n",
      "Fitting kmeans with 8 clusters\n",
      "Fitting kmeans with 9 clusters\n",
      "Fitting kmeans with 10 clusters\n",
      "Fitting kmeans with 11 clusters\n",
      "Fitting kmeans with 12 clusters\n",
      "Fitting kmeans with 13 clusters\n",
      "Fitting kmeans with 14 clusters\n",
      "Fitting kmeans with 15 clusters\n",
      "Fitting kmeans with 16 clusters\n",
      "Fitting kmeans with 17 clusters\n",
      "Fitting kmeans with 18 clusters\n",
      "Fitting kmeans with 19 clusters\n"
     ]
    }
   ],
   "source": [
    "run = True\n",
    "if run:\n",
    "    Nc = range(2, 20)\n",
    "\n",
    "    kmeans = []\n",
    "    score = []\n",
    "    silhouettes = []\n",
    "\n",
    "    for i in Nc:\n",
    "        kmeans.append(KMeans(n_clusters=i, n_init=3, n_jobs=i, max_iter=1200))\n",
    "\n",
    "    for i in range(len(kmeans)):\n",
    "        print('Fitting kmeans with {} clusters'.format(kmeans[i].n_clusters))\n",
    "        score.append(kmeans[i].fit(dataset_PCA).inertia_)\n",
    "        silhouettes.append(metrics.silhouette_score(dataset_PCA, kmeans[i].labels_))"
   ]
  },
  {
   "cell_type": "code",
   "execution_count": 37,
   "metadata": {},
   "outputs": [
    {
     "data": {
      "image/png": "[encoded data removed]",
      "text/plain": [
       "<Figure size 432x288 with 1 Axes>"
      ]
     },
     "metadata": {
      "needs_background": "light"
     },
     "output_type": "display_data"
    },
    {
     "data": {
      "image/png": "[encoded data removed]",
      "text/plain": [
       "<Figure size 432x288 with 1 Axes>"
      ]
     },
     "metadata": {
      "needs_background": "light"
     },
     "output_type": "display_data"
    }
   ],
   "source": [
    "if run:\n",
    "    plt.plot(Nc,score)\n",
    "\n",
    "    plt.xlabel('Number of Clusters')\n",
    "\n",
    "    plt.ylabel('Sum of squared distances')\n",
    "\n",
    "    plt.title('Elbow Curve')\n",
    "\n",
    "    plt.show()\n",
    "    \n",
    "    \n",
    "    plt.plot(Nc,silhouettes)\n",
    "\n",
    "    plt.xlabel('Number of Clusters')\n",
    "\n",
    "    plt.ylabel('Silhouettes')\n",
    "\n",
    "    plt.title('Silhouettes x Number of Clusters')\n",
    "\n",
    "    plt.show()"
   ]
  }
 ],
 "metadata": {
  "kernelspec": {
   "display_name": "Python 3",
   "language": "python",
   "name": "python3"
  },
  "language_info": {
   "codemirror_mode": {
    "name": "ipython",
    "version": 3
   },
   "file_extension": ".py",
   "mimetype": "text/x-python",
   "name": "python",
   "nbconvert_exporter": "python",
   "pygments_lexer": "ipython3",
   "version": "3.6.6"
  }
 },
 "nbformat": 4,
 "nbformat_minor": 1
}
