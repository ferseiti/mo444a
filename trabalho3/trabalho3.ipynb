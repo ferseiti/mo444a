{
 "cells": [
  {
   "cell_type": "code",
   "execution_count": 63,
   "metadata": {},
   "outputs": [],
   "source": [
    "%matplotlib inline\n",
    "\n",
    "from sklearn.feature_extraction.text import CountVectorizer\n",
    "from sklearn.pipeline import make_pipeline\n",
    "from sklearn.preprocessing import Normalizer\n",
    "from sklearn import metrics\n",
    "from sklearn.metrics import pairwise_distances_argmin_min\n",
    "\n",
    "from sklearn.cluster import KMeans\n",
    "\n",
    "from scipy.spatial.distance import cdist, euclidean\n",
    "\n",
    "import sys\n",
    "from time import time\n",
    "\n",
    "import numpy as np\n",
    "import pandas as pd\n",
    "import matplotlib.pyplot as plt"
   ]
  },
  {
   "cell_type": "code",
   "execution_count": 2,
   "metadata": {
    "scrolled": true
   },
   "outputs": [],
   "source": [
    "df = pd.read_csv('./health-dataset/bags.csv', header=None)\n",
    "dataset = np.array(df.values)"
   ]
  },
  {
   "cell_type": "code",
   "execution_count": 88,
   "metadata": {},
   "outputs": [
    {
     "name": "stdout",
     "output_type": "stream",
     "text": [
      "Clustering sparse data with KMeans(algorithm='auto', copy_x=True, init='k-means++', max_iter=2000,\n",
      "    n_clusters=25, n_init=1, n_jobs=1, precompute_distances='auto',\n",
      "    random_state=None, tol=0.0001, verbose=False)\n",
      "done in 2.855057954788208s\n"
     ]
    }
   ],
   "source": [
    "N = 25\n",
    "verbose = False\n",
    "\n",
    "km = KMeans(n_clusters=N, init='k-means++', max_iter=2000, n_init=1,\n",
    "                verbose=verbose)\n",
    "\n",
    "print(\"Clustering sparse data with {}\".format(km))\n",
    "t0 = time()\n",
    "km.fit(dataset)\n",
    "print(\"done in {}s\".format(time() - t0))"
   ]
  },
  {
   "cell_type": "code",
   "execution_count": 89,
   "metadata": {},
   "outputs": [
    {
     "data": {
      "text/plain": [
       "(25, 1203)"
      ]
     },
     "execution_count": 89,
     "metadata": {},
     "output_type": "execute_result"
    }
   ],
   "source": [
    "km.cluster_centers_.shape"
   ]
  },
  {
   "cell_type": "code",
   "execution_count": 90,
   "metadata": {},
   "outputs": [
    {
     "data": {
      "image/png": "[encoded data removed]",
      "text/plain": [
       "<Figure size 432x288 with 1 Axes>"
      ]
     },
     "metadata": {},
     "output_type": "display_data"
    }
   ],
   "source": [
    "plt.plot(km.cluster_centers_, '.')\n",
    "plt.show()"
   ]
  },
  {
   "cell_type": "code",
   "execution_count": 91,
   "metadata": {},
   "outputs": [
    {
     "data": {
      "text/plain": [
       "array([ 6, 10,  6, ...,  6, 22,  6], dtype=int32)"
      ]
     },
     "execution_count": 91,
     "metadata": {},
     "output_type": "execute_result"
    }
   ],
   "source": [
    "km.labels_"
   ]
  },
  {
   "cell_type": "code",
   "execution_count": 92,
   "metadata": {},
   "outputs": [
    {
     "name": "stdout",
     "output_type": "stream",
     "text": [
      "Cluster 18: A deadly bacteria is killing thousands, and it's now in doctor and dentist offices  @elizcohencnn @CDCgov\n",
      "\n",
      "Cluster 18: What's it like inside the Ebola hotzone? An American doctor who had Ebola is back in Africa\n",
      "\n",
      "Cluster 18: RT @drsanjaygupta: why you might have to wait longer to see your doctor in 2015:\n",
      "\n",
      "Cluster 18: RT @drsanjaygupta: meet the doctor and get a first look at the room where ebola patients will be treated in the US.\n",
      "\n",
      "Cluster 18: These @Uber inspired apps bring the doctor to you\n",
      "\n",
      "Cluster 18: RT @getpager: The benefits of bringing back house calls: \"Uber-inspired apps bring a doctor right to your door\"\n",
      "\n",
      "Cluster 18: When you're sick, the last thing you want to do is get out of bed to see a doctor. These apps bring the doc to you!\n",
      "\n",
      "Cluster 18: #Ebola doctor in Sierra Leone has died, @msf_field says\n",
      "\n",
      "Cluster 18: Chief #Ebola doctor in Sierra Leone has the deadly virus, #health officials say\n",
      "\n",
      "Cluster 18: \"It felt like a punch to the gut\" Doctor finds signs of #HIV in \"cured\" Mississippi baby\n",
      "\n",
      "Cluster 18: Does your man avoid the doctor's office like the plague? Combat his excuses:\n",
      "\n",
      "Cluster 18: Save yourself $$$ at the doctor's office. Know which common illnesses need #antibiotics -- and which don't:\n",
      "\n",
      "Cluster 18: Pregnant? Ask your doctor about her delivery habits long before you go into labor\n",
      "\n",
      "Cluster 18: The boy who got his stuffed wolf stitched up by a real doctor &amp; 12 other @cnnireport stories we can't forget\n",
      "\n",
      "Cluster 18: That antibiotic the doctor just prescribed? You might not need it\n",
      "\n",
      "Cluster 18: Should you trust your doctor? @TonyYounMD offers valuable tips to keep you and your family safe!\n",
      "\n",
      "Cluster 18: Would you feel comfortable sharing your medical problems in front of your doctor AND strangers? sharing doctor visits\n",
      "\n",
      "Cluster 18: Opinion: Find out what your doctor really thinks about you\n",
      "\n",
      "Cluster 18: Maximize your doctor's visit to optimize your #health\n",
      "\n",
      "Cluster 18: Doctor is pain medicine 'visionary'\n",
      "\n",
      "Cluster 18: #Sex is doctor's life's work\n",
      "\n",
      "Cluster 18: RT @jdwilson2: Doctor's quick thinking saves patients from #Oklahoma #tornado  \n",
      "\n",
      "Cluster 18: How to maximize your doctor's visit\n",
      "\n",
      "Cluster 18: Mom's death inspires doctor's life work\n",
      "\n",
      "Cluster 18: Learn from my daughter's death, doctor pleads -- spot your child's eating disorder and get help\n",
      "\n",
      "Cluster 18: Cancer survivor becomes a cancer doctor\n",
      "\n",
      "Cluster 18: Doctor: The worst thing I've ever seen\n",
      "\n",
      "Cluster 18: Flying doctor takes to skies after sister's death\n",
      "\n",
      "Cluster 18: @DrSanjayGupta says his daughter will be a doctor... or work at McDonald's\n",
      "\n",
      "Cluster 18: Doctor on @TNT set: 'I could operate here'\n",
      "\n",
      "Cluster 18: Forms at the doctor's office just got fun thanks to @TonicForHealth\n",
      "\n",
      "Cluster 18: Your doctor may start asking you this\n",
      "\n",
      "Cluster 18: Watch: Teen accused of playing doctor\n",
      "\n",
      "Cluster 18: Medical advice from the Dalai Lama's doctor\n",
      "\n",
      "Cluster 18: Online access to your medical records may encourage you to go to your doctor more, study finds\n",
      "\n",
      "Cluster 18: Baby boomers causing doctor shortage\n",
      "\n",
      "Cluster 18: Does your doctor share his or her notes with you? They should\n",
      "\n",
      "Cluster 18: Doctor: U.S. health care not working\n",
      "\n",
      "Cluster 18: Why we need a new kind of doctor\n",
      "\n",
      "Cluster 18: Doctor refuses to treat obese patients\n",
      "\n",
      "Cluster 18: Guess your age? 3D facial scan beats doctor's exam \n",
      "\n",
      "Cluster 18: China aims to double doctor numbers as cure for healthcare woes\n",
      "\n",
      "Cluster 18: Women seeking happiness should ditch birth control pill, doctor says \n",
      "\n",
      "Cluster 18: Women seeking happiness should ditch birth control pill, doctor says \n",
      "\n",
      "Cluster 18: Doctor who helped curb #hysterectomy procedure says #cancer is back\n",
      "\n",
      "Cluster 18: Should you email your doctor?\n",
      "\n",
      "Cluster 18: Media, politicians fueled public's fear, says NY #Ebola doctor\n",
      "\n",
      "Cluster 18: Buffalo #cancer hospital doctor dies after Colorado skiing accident\n",
      "\n",
      "Cluster 18: Doctor fears rise of a drug-resistant strain will help malaria spread\n",
      "\n",
      "Cluster 18: How your doctor might accidentally make your symptoms worse\n",
      "\n",
      "Cluster 18: Doctor says mother's prayer restarted dead boy's heart\n",
      "\n",
      "Cluster 18: Top US doctor says medical #marijuana may help some conditions\n",
      "\n",
      "Cluster 18: Passport programs at hospitals facilitate patient-doctor communication\n",
      "\n",
      "Cluster 18: Woman in China finds doctor stole her kidney during operation\n",
      "\n",
      "Cluster 18: Doctor accused of prescribing drugs that led to 5 deaths \n",
      "\n",
      "Cluster 18: Massachusetts doctor who beat Ebola heading back to Liberia  \n",
      "\n",
      "Cluster 18: Families speak out against doctor who said ‘death from cancer is the best’\n",
      "\n",
      "Cluster 18: Do heart patients fare better when the doctor is away?\n",
      "\n",
      "Cluster 18: Cambodia 'doctor' faces murder charge in #HIV outbreak\n",
      "\n",
      "Cluster 18: 11th Sierra Leonean doctor dies from #Ebola\n",
      "\n",
      "Cluster 18: Fear, hope mark life inside #Ebola center in Sierra Leone, doctor says\n",
      "\n",
      "Cluster 18: Online doctor ratings may not match other quality measures\n",
      "\n",
      "Cluster 18: RT @foundersheart: @EverydayHealth A6: Call 911, call your doctor, or go to the emergency room #HealthTalk\n",
      "\n",
      "Cluster 18: What do we go to the doctor for the most? The answer might surprise you:\n",
      "\n",
      "Cluster 18: Diabetes Drug Adherence Linked to Doctor Communication\n",
      "\n",
      "Cluster 18: A hug a day may keep the doctor away! 7 reasons why love is good for you:\n",
      "\n",
      "Cluster 18: Why an apple a day really may keep the doctor away:\n",
      "\n",
      "Cluster 18: A doctor's office that comes to you and more 2013 health meets tech inventions:\n",
      "\n",
      "Cluster 18: What your doctor believes causes weight gain/obesity seriously affects the advice you'll get from them:\n",
      "\n",
      "Cluster 18: Diabetes Drug Adherence Linked to Doctor Communication\n",
      "\n",
      "Cluster 18: What do we go to the doctor for the most? The answer might surprise you:\n",
      "\n",
      "Cluster 18: Q5: What are some of the warning signs and symptoms of diabetes and when should I see a doctor? #HealthTalk\n",
      "\n",
      "Cluster 18: Why an apple a day really may keep the doctor away:\n",
      "\n",
      "Cluster 18: Why an apple a day really may keep the doctor away:\n",
      "\n",
      "Cluster 18: RT @NPF: A3: Treating #psoriasis varies depending on the severity of the disease. Work with your doctor to find what’s best for you #healthtalk\n",
      "\n",
      "Cluster 18: RT @NPF: A3: Work with your doctor to find a treatment—or treatments—that reduce or eliminate your #psoriasis symptoms. #healthtalk\n",
      "\n",
      "Cluster 18: An apple a day may keep the doctor away, but what about a shot of apple cider vinegar?\n",
      "\n",
      "Cluster 18: What do we go to the doctor for the most? The answer might surprise you:\n",
      "\n",
      "Cluster 18: A doctor's office that comes to you and more 2013 health meets tech inventions:\n",
      "\n",
      "Cluster 18: A hug a day may keep the doctor away! 7 reasons why love is good for you:\n",
      "\n",
      "Cluster 18: Man sentenced for doctor CV changes\n",
      "\n",
      "Cluster 18: Doctor guilty of indecent assaults\n",
      "\n",
      "Cluster 18: Doctor not guilty of performing FGM\n",
      "\n",
      "Cluster 18: Ebola NHS doctor returns to work\n",
      "\n",
      "Cluster 18: Doctor 'performed FGM on new mother'\n",
      "\n",
      "Cluster 18: AUDIO: A&amp;E doctor: We can't turn people away\n",
      "\n",
      "Cluster 18: Ebola kills top Sierra Leone doctor\n",
      "\n",
      "Cluster 18: VIDEO: Visiting the doctor via the internet\n",
      "\n",
      "Cluster 18: Paedophile doctor jailed for 22 years\n",
      "\n",
      "Cluster 18: Sierra Leone Ebola doctor dies in US\n",
      "\n",
      "Cluster 18: An electronic revolution in the doctor's bag\n",
      "\n",
      "Cluster 18: Doctor abused child cancer patients\n",
      "\n",
      "Cluster 18: VIDEO: Doctor describes Ashya King treatment\n",
      "\n",
      "Cluster 18: Ebola doctor goes back to work\n",
      "\n",
      "Cluster 18: VIDEO: Rapid 'doctor's assistant' expansion\n",
      "\n",
      "Cluster 18: Rapid 'doctor's assistant' expansion\n",
      "\n",
      "Cluster 18: VIDEO: London doctor treating Ebola victims\n",
      "\n",
      "Cluster 18: Social media 'aid doctor complaints'\n",
      "\n",
      "Cluster 18: Harvard doctor is Reith lecturer\n",
      "\n",
      "Cluster 18: Hospital patients to get named doctor\n",
      "\n",
      "Cluster 18: No extradition for fatal dose doctor\n",
      "\n",
      "Cluster 18: Google Glass can hurt, doctor warns\n",
      "\n",
      "Cluster 18: AUDIO: NHS Trust 'blackened' doctor's name\n",
      "\n",
      "Cluster 18: VIDEO: Warning over foreign doctor training\n",
      "\n",
      "Cluster 18: Patients sent to doctor's hospital\n",
      "\n",
      "Cluster 18: A&amp;E review finds doctor shortage\n",
      "\n",
      "Cluster 18: Doctor prescribed 'elephant' dose\n",
      "\n",
      "Cluster 18: Death doctor sues victim's son\n",
      "\n",
      "Cluster 18: Sharp rise in A&amp;E locum doctor spend\n",
      "\n",
      "Cluster 18: Junior doctor debts wiped under plan\n",
      "\n",
      "Cluster 18: VIDEO: Doctor: My relationship with cancer\n",
      "\n",
      "Cluster 18: Royal doctor knighted in honours\n",
      "\n",
      "Cluster 18: Doctor jailed for assaulting family\n",
      "\n",
      "Cluster 18: 'Home circumcision' doctor to resign\n",
      "\n",
      "Cluster 18: Doctor jailed for killing patient\n",
      "\n",
      "Cluster 18: BMA: NI must stem junior doctor loss\n",
      "\n",
      "Cluster 18: Doctor complaints 'rising steeply'\n",
      "\n"
     ]
    }
   ],
   "source": [
    "health_lines = []\n",
    "with open('health-dataset/health.txt', 'r') as health_txt:\n",
    "    health_aux = health_txt.readlines()\n",
    "    health_aux.pop(0)\n",
    "    for i in health_aux:\n",
    "        health_lines.append(i.split('|')[-1])\n",
    "prediction = km.predict(dataset[:])\n",
    "labels = km.labels_\n",
    "# print(prediction)\n",
    "count = 0\n",
    "for i in labels:\n",
    "    if i == 18:\n",
    "        print(\"Cluster {}: {}\".format(i, health_lines[count]))\n",
    "    count += 1"
   ]
  },
  {
   "cell_type": "code",
   "execution_count": 93,
   "metadata": {},
   "outputs": [],
   "source": [
    "silhouette = metrics.silhouette_score(dataset, km.labels_)"
   ]
  },
  {
   "cell_type": "code",
   "execution_count": 94,
   "metadata": {},
   "outputs": [
    {
     "data": {
      "text/plain": [
       "0.005194852357041755"
      ]
     },
     "execution_count": 94,
     "metadata": {},
     "output_type": "execute_result"
    }
   ],
   "source": [
    "silhouette"
   ]
  },
  {
   "cell_type": "code",
   "execution_count": 95,
   "metadata": {},
   "outputs": [
    {
     "data": {
      "text/plain": [
       "(13229, 1203)"
      ]
     },
     "execution_count": 95,
     "metadata": {},
     "output_type": "execute_result"
    }
   ],
   "source": [
    "dataset.shape"
   ]
  },
  {
   "cell_type": "code",
   "execution_count": 96,
   "metadata": {},
   "outputs": [],
   "source": [
    "closest, distances = pairwise_distances_argmin_min(km.cluster_centers_, dataset)\n",
    "\n",
    "distance1 = []\n",
    "# distance2 = []\n",
    "# distance3 = []\n",
    "# distance4 = []\n",
    "# distance5 = []\n",
    "\n",
    "for i in dataset:\n",
    "        distance1.append(np.linalg.norm(i - km.cluster_centers_[13]))\n",
    "#         distance2.append(euclidean(i, km.cluster_centers_[1]))\n",
    "#         distance3.append(euclidean(i, km.cluster_centers_[2]))\n",
    "#         distance4.append(euclidean(i, km.cluster_centers_[3]))\n",
    "#         distance5.append(euclidean(i, km.cluster_centers_[4]))\n",
    "\n",
    "distance1 = np.asarray(distance1)\n",
    "# distance2 = np.asarray(distance2)"
   ]
  },
  {
   "cell_type": "code",
   "execution_count": 97,
   "metadata": {},
   "outputs": [
    {
     "data": {
      "text/plain": [
       "(array([ 5857,  4605, 12162,    99,  7768,    99,    99,  6307,    99,\n",
       "           99,    99,    99,    99,    99,  6652,    99,  3311,    99,\n",
       "         2628,    99,    99,  5869,    99,    99,    99]),\n",
       " array([0.4101271 , 0.        , 0.52363698, 0.51754097, 0.        ,\n",
       "        0.44689962, 0.08305247, 0.        , 0.39025934, 0.45382201,\n",
       "        0.4469164 , 0.5325794 , 0.38907037, 0.35863671, 0.21037153,\n",
       "        0.59900801, 0.49723757, 0.49721616, 0.51440791, 0.55991507,\n",
       "        0.30691879, 0.52946169, 0.50396071, 0.4952181 , 0.42662324]))"
      ]
     },
     "execution_count": 97,
     "metadata": {},
     "output_type": "execute_result"
    }
   ],
   "source": [
    "closest, distances"
   ]
  },
  {
   "cell_type": "code",
   "execution_count": 71,
   "metadata": {},
   "outputs": [
    {
     "name": "stdout",
     "output_type": "stream",
     "text": [
      "(array([ 2628,  9672, 10724, 10931, 11194, 12527]),)\n"
     ]
    }
   ],
   "source": [
    "print(np.where(distance1 == distance1.min()))\n",
    "# print(np.where(distance2 == distance2.min()))\n",
    "# print(distance3.index(min(distance3)))\n",
    "# print(distance4.index(min(distance4)))\n",
    "# print(distance5.index(min(distance5)))"
   ]
  },
  {
   "cell_type": "code",
   "execution_count": 70,
   "metadata": {},
   "outputs": [
    {
     "name": "stdout",
     "output_type": "stream",
     "text": [
      "0.5045137802845819\n",
      "0.5045137802845819\n",
      "0.5045137802845819\n"
     ]
    }
   ],
   "source": [
    "print(min(distance1))\n",
    "print(euclidean(dataset[2628], km.cluster_centers_[13]))\n",
    "print(np.linalg.norm(dataset[2628] - km.cluster_centers_[13]))"
   ]
  },
  {
   "cell_type": "code",
   "execution_count": null,
   "metadata": {},
   "outputs": [],
   "source": [
    "print(health_lines[98])"
   ]
  },
  {
   "cell_type": "code",
   "execution_count": null,
   "metadata": {},
   "outputs": [],
   "source": [
    "i = 0\n",
    "for i in range(dataset.shape[0]):\n",
    "    pass\n",
    "print(i)"
   ]
  },
  {
   "cell_type": "code",
   "execution_count": 82,
   "metadata": {},
   "outputs": [
    {
     "data": {
      "text/plain": [
       "12133.347513974413"
      ]
     },
     "execution_count": 82,
     "metadata": {},
     "output_type": "execute_result"
    }
   ],
   "source": [
    "km.inertia_"
   ]
  },
  {
   "cell_type": "code",
   "execution_count": 86,
   "metadata": {},
   "outputs": [
    {
     "name": "stdout",
     "output_type": "stream",
     "text": [
      "Fitting kmeans with 1 clusters\n",
      "Fitting kmeans with 2 clusters\n",
      "Fitting kmeans with 3 clusters\n",
      "Fitting kmeans with 4 clusters\n",
      "Fitting kmeans with 5 clusters\n",
      "Fitting kmeans with 6 clusters\n",
      "Fitting kmeans with 7 clusters\n",
      "Fitting kmeans with 8 clusters\n",
      "Fitting kmeans with 9 clusters\n",
      "Fitting kmeans with 10 clusters\n",
      "Fitting kmeans with 11 clusters\n",
      "Fitting kmeans with 12 clusters\n",
      "Fitting kmeans with 13 clusters\n",
      "Fitting kmeans with 14 clusters\n",
      "Fitting kmeans with 15 clusters\n",
      "Fitting kmeans with 16 clusters\n",
      "Fitting kmeans with 17 clusters\n",
      "Fitting kmeans with 18 clusters\n",
      "Fitting kmeans with 19 clusters\n",
      "Fitting kmeans with 20 clusters\n",
      "Fitting kmeans with 21 clusters\n",
      "Fitting kmeans with 22 clusters\n",
      "Fitting kmeans with 23 clusters\n",
      "Fitting kmeans with 24 clusters\n",
      "Fitting kmeans with 25 clusters\n",
      "Fitting kmeans with 26 clusters\n",
      "Fitting kmeans with 27 clusters\n",
      "Fitting kmeans with 28 clusters\n",
      "Fitting kmeans with 29 clusters\n"
     ]
    },
    {
     "data": {
      "image/png": "[encoded data removed]",
      "text/plain": [
       "<Figure size 432x288 with 1 Axes>"
      ]
     },
     "metadata": {},
     "output_type": "display_data"
    }
   ],
   "source": [
    "run = True\n",
    "if run:\n",
    "    Nc = range(1, 30)\n",
    "\n",
    "    kmeans = []\n",
    "    score = []\n",
    "\n",
    "    for i in Nc:\n",
    "        kmeans.append(KMeans(n_clusters=i))\n",
    "\n",
    "    for i in range(len(kmeans)):\n",
    "        print('Fitting kmeans with {} clusters'.format(kmeans[i].n_clusters))\n",
    "        score.append(kmeans[i].fit(dataset).inertia_)"
   ]
  },
  {
   "cell_type": "code",
   "execution_count": 87,
   "metadata": {},
   "outputs": [
    {
     "data": {
      "image/png": "[encoded data removed]",
      "text/plain": [
       "<Figure size 432x288 with 1 Axes>"
      ]
     },
     "metadata": {},
     "output_type": "display_data"
    }
   ],
   "source": [
    "if run:\n",
    "    plt.plot(Nc,score)\n",
    "\n",
    "    plt.xlabel('Number of Clusters')\n",
    "\n",
    "    plt.ylabel('Sum of squared distances')\n",
    "\n",
    "    plt.title('Elbow Curve')\n",
    "\n",
    "    plt.show()"
   ]
  },
  {
   "cell_type": "markdown",
   "metadata": {},
   "source": [
    "# Aqui tentei usar o txt para fazer o k-means, mas não terminei"
   ]
  },
  {
   "cell_type": "code",
   "execution_count": null,
   "metadata": {},
   "outputs": [],
   "source": [
    "health_lines = []\n",
    "with open('health-dataset/health.txt', 'r') as health_txt:\n",
    "    health_aux = health_txt.readlines()\n",
    "    health_aux.pop(0)\n",
    "    for i in health_aux:\n",
    "        health_lines.append(i.split('|')[-1])\n",
    "len(health_lines)"
   ]
  },
  {
   "cell_type": "code",
   "execution_count": null,
   "metadata": {},
   "outputs": [],
   "source": [
    "from nltk.corpus import stopwords\n",
    "import nltk\n",
    "# nltk.download()"
   ]
  },
  {
   "cell_type": "code",
   "execution_count": null,
   "metadata": {},
   "outputs": [],
   "source": [
    "sw = stopwords.words('english')\n",
    "vectorizer = CountVectorizer(stop_words=sw)\n",
    "X = vectorizer.fit_transform(health_lines)\n",
    "# X = vectorizer.transform(health_lines)"
   ]
  },
  {
   "cell_type": "code",
   "execution_count": null,
   "metadata": {},
   "outputs": [],
   "source": [
    "type(X)"
   ]
  },
  {
   "cell_type": "code",
   "execution_count": null,
   "metadata": {
    "scrolled": true
   },
   "outputs": [],
   "source": [
    "print(X)"
   ]
  },
  {
   "cell_type": "code",
   "execution_count": null,
   "metadata": {},
   "outputs": [],
   "source": [
    "vectorizer.vocabulary_"
   ]
  },
  {
   "cell_type": "code",
   "execution_count": null,
   "metadata": {},
   "outputs": [],
   "source": [
    "N = 6\n",
    "verbose = False\n",
    "\n",
    "km = KMeans(n_clusters=N, init='k-means++', max_iter=1000, n_init=1,\n",
    "                verbose=verbose)\n",
    "\n",
    "print(\"Clustering sparse data with {}\".format(km))\n",
    "t0 = time()\n",
    "km.fit(X)\n",
    "print(\"done in {}s\".format(time() - t0))"
   ]
  },
  {
   "cell_type": "code",
   "execution_count": null,
   "metadata": {},
   "outputs": [],
   "source": [
    "Nc = range(1, 30)\n",
    "\n",
    "kmeans = []\n",
    "score = []\n",
    "\n",
    "for i in Nc:\n",
    "    kmeans.append(KMeans(n_clusters=i))\n",
    "\n",
    "for i in range(len(kmeans)):\n",
    "    print('Fitting kmeans with {} clusters'.format(kmeans[i].n_clusters))\n",
    "#     score.append(kmeans[i].fit(X).score(X))\n",
    "    score.append(kmeans[i].fit(X).inertia_)"
   ]
  },
  {
   "cell_type": "code",
   "execution_count": null,
   "metadata": {},
   "outputs": [],
   "source": [
    "plt.plot(Nc,score)\n",
    "\n",
    "plt.xlabel('Number of Clusters')\n",
    "\n",
    "plt.ylabel('Score')\n",
    "\n",
    "plt.title('Elbow Curve')\n",
    "\n",
    "plt.show()"
   ]
  },
  {
   "cell_type": "code",
   "execution_count": null,
   "metadata": {},
   "outputs": [],
   "source": [
    "print(km.predict(X[10:20]))"
   ]
  }
 ],
 "metadata": {
  "kernelspec": {
   "display_name": "Python 3",
   "language": "python",
   "name": "python3"
  },
  "language_info": {
   "codemirror_mode": {
    "name": "ipython",
    "version": 3
   },
   "file_extension": ".py",
   "mimetype": "text/x-python",
   "name": "python",
   "nbconvert_exporter": "python",
   "pygments_lexer": "ipython3",
   "version": "3.6.5"
  }
 },
 "nbformat": 4,
 "nbformat_minor": 1
}
