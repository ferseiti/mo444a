{
 "cells": [
  {
   "cell_type": "code",
   "execution_count": 63,
   "metadata": {},
   "outputs": [],
   "source": [
    "%matplotlib inline\n",
    "\n",
    "from sklearn.feature_extraction.text import CountVectorizer\n",
    "from sklearn.pipeline import make_pipeline\n",
    "from sklearn.preprocessing import Normalizer\n",
    "from sklearn import metrics\n",
    "from sklearn.metrics import pairwise_distances_argmin_min\n",
    "\n",
    "from sklearn.cluster import KMeans\n",
    "\n",
    "from scipy.spatial.distance import cdist, euclidean\n",
    "\n",
    "import sys\n",
    "from time import time\n",
    "\n",
    "import numpy as np\n",
    "import pandas as pd\n",
    "import matplotlib.pyplot as plt"
   ]
  },
  {
   "cell_type": "code",
   "execution_count": 2,
   "metadata": {
    "scrolled": true
   },
   "outputs": [],
   "source": [
    "df = pd.read_csv('./health-dataset/bags.csv', header=None)\n",
    "dataset = np.array(df.values)"
   ]
  },
  {
   "cell_type": "code",
   "execution_count": 3,
   "metadata": {},
   "outputs": [
    {
     "name": "stdout",
     "output_type": "stream",
     "text": [
      "Clustering sparse data with KMeans(algorithm='auto', copy_x=True, init='k-means++', max_iter=2000,\n",
      "    n_clusters=20, n_init=1, n_jobs=1, precompute_distances='auto',\n",
      "    random_state=None, tol=0.0001, verbose=False)\n",
      "done in 3.0908265113830566s\n"
     ]
    }
   ],
   "source": [
    "N = 20\n",
    "verbose = False\n",
    "\n",
    "km = KMeans(n_clusters=N, init='k-means++', max_iter=2000, n_init=1,\n",
    "                verbose=verbose)\n",
    "\n",
    "print(\"Clustering sparse data with {}\".format(km))\n",
    "t0 = time()\n",
    "km.fit(dataset)\n",
    "print(\"done in {}s\".format(time() - t0))"
   ]
  },
  {
   "cell_type": "code",
   "execution_count": 4,
   "metadata": {},
   "outputs": [
    {
     "data": {
      "text/plain": [
       "(20, 1203)"
      ]
     },
     "execution_count": 4,
     "metadata": {},
     "output_type": "execute_result"
    }
   ],
   "source": [
    "km.cluster_centers_.shape"
   ]
  },
  {
   "cell_type": "code",
   "execution_count": 5,
   "metadata": {},
   "outputs": [
    {
     "data": {
      "image/png": "[encoded data removed]",
      "text/plain": [
       "<Figure size 432x288 with 1 Axes>"
      ]
     },
     "metadata": {},
     "output_type": "display_data"
    }
   ],
   "source": [
    "plt.plot(km.cluster_centers_, '.')\n",
    "plt.show()"
   ]
  },
  {
   "cell_type": "code",
   "execution_count": 6,
   "metadata": {},
   "outputs": [
    {
     "data": {
      "text/plain": [
       "array([18,  0,  0, ...,  0,  4,  0], dtype=int32)"
      ]
     },
     "execution_count": 6,
     "metadata": {},
     "output_type": "execute_result"
    }
   ],
   "source": [
    "km.labels_"
   ]
  },
  {
   "cell_type": "code",
   "execution_count": 62,
   "metadata": {},
   "outputs": [
    {
     "name": "stdout",
     "output_type": "stream",
     "text": [
      "Cluster 18: An abundance of online info can turn us into e-hypochondriacs. Or, worse, lead us to neglect getting the care we need\n",
      "\n",
      "Cluster 18: Should the mentally ill get care or jail time? An autistic man is in prison for thinking about a crime @drsanjaygupta\n",
      "\n",
      "Cluster 18: RT @cnnbrk: Officials: Second health care worker at Texas hospital who cared for Thomas Eric Duncan tested positive for Ebola.\n",
      "\n",
      "Cluster 18: .@elizabethrydan Family released his name, not the hospital or @CDCgov. HIPPA prevents health care workers from doing so #EbolaQandA\n",
      "\n",
      "Cluster 18: .@repentedhipster Health care workers are most at risk b/c they are nearest to patients' bodily fluids like vomit, blood #EbolaQandA\n",
      "\n",
      "Cluster 18: .@jensan1332 Health care workers are most at risk b/c they come in frequent contact with patients' bodily fluids #EbolaQandA\n",
      "\n",
      "Cluster 18: What saved Nancy Writebol from #Ebola: Supportive care? An experimental drug? God? See her answer:\n",
      "\n",
      "Cluster 18: Ever have to wait for care? More problems for patients of the VA\n",
      "\n",
      "Cluster 18: ICYMI: #CaseyKasem offers a lesson about #endoflife care\n",
      "\n",
      "Cluster 18: RT @ckemmerer: @jnfuhrman I have a t-shirt that says \"Food Is My Health Care\" - - - it is like saving for retirement. #NPHWchat\n",
      "\n",
      "Cluster 18: RT @KTLA: Gas station cashier to use $1M California Gold Scratcher prize to pay for son’s medical care @KimberlyChengTV reports\n",
      "\n",
      "Cluster 18: RT @lizlandau: US gets a D+ for failing to support emergency care patients, report says #health\n",
      "\n",
      "Cluster 18: America's emergency care system gets a big 'ol D+ for 2013. Do you agree?\n",
      "\n",
      "Cluster 18: Q5 @kscottphotos what states are leading treatment and care??? #CNNParents\n",
      "\n",
      "Cluster 18: We really get only one shot to take care of our teeth -- do it well with these 5 tips\n",
      "\n",
      "Cluster 18: RT @drsanjaygupta: in search of a healthier america. health care insurance alone won't get us there. the moral hazard.\n",
      "\n",
      "Cluster 18: Military veterans are dying needlessly because of long waits and delayed care at U.S. veterans hospitals.http://cnn.it/17K4NMQ\n",
      "\n",
      "Cluster 18: @drsanjaygupta @lauracoburn123 You've been quoted in my #Storify story \"Behind-the-scenes: CNN Health Care Express\"\n",
      "\n",
      "Cluster 18: Behind-the-scenes on the @CNN Health Care Express with @drsanjaygupta\n",
      "\n",
      "Cluster 18: @GregPayne @TalieTalks @MattCNN You've been quoted in my #Storify story \"Behind-the-scenes: CNN Health Care Express\"\n",
      "\n",
      "Cluster 18: Interactive map of health care options under #Obamacare:\n",
      "\n",
      "Cluster 18: 'Dementia village' inspires new kind of long-term care\n",
      "\n",
      "Cluster 18: Millennials, health care is our fight\n",
      "\n",
      "Cluster 18: Health care workers sickened by new virus\n",
      "\n",
      "Cluster 18: #Obamacare rules differ for kids in the #foster care system\n",
      "\n",
      "Cluster 18: Nurses dodge bullets on Chicago's South Side to provide care\n",
      "\n",
      "Cluster 18: Health care in 2013\n",
      "\n",
      "Cluster 18: Baby boomer nuns help revolutionize health care\n",
      "\n",
      "Cluster 18: Opinion: Get serious about mental health care\n",
      "\n",
      "Cluster 18: Documentary: Health care overhaul needed\n",
      "\n",
      "Cluster 18: What's the best job in health care? Click to find out\n",
      "\n",
      "Cluster 18: #debate clip -- Obama: 'Please elaborate' on health care\n",
      "\n",
      "Cluster 18: How smartphones can improve health care\n",
      "\n",
      "Cluster 18: Battlefield lessons transform US emergency care \n",
      "\n",
      "Cluster 18: As patients face death, doctors push straight talk on care \n",
      "\n",
      "Cluster 18: Health care worker in Nebraska tests negative for Ebola\n",
      "\n",
      "Cluster 18: Many in US live too far from advanced stroke care \n",
      "\n",
      "Cluster 18: Doctors say fitness trackers, health apps can boost care\n",
      "\n",
      "Cluster 18: More #measles cases tied to Disneyland, Illinois day care\n",
      "\n",
      "Cluster 18: High rates of child deaths from #Ebola, special care needed, WHO says\n",
      "\n",
      "Cluster 18: Ill patients' families barrier to talking about care plan, doctors say\n",
      "\n",
      "Cluster 18: Health care worker in New Jersey tests negative for #Ebola, state says\n",
      "\n",
      "Cluster 18: RT @eatsmartbd: A3 #VDay is a good time to talk abt self-love! We oft find time to take care of others &amp; forget the care WE need #healthtalk @goredforwomen\n",
      "\n",
      "Cluster 18: Are you really taking care of your #heart?\n",
      "\n",
      "Cluster 18: #Hospice Care Often Comes Too Late\n",
      "\n",
      "Cluster 18: Q10: What resources can you provide for learning about #cancer care and prevention? #HealthTalk #WorldCancerDay\n",
      "\n",
      "Cluster 18: GP workload harming care - BMA poll\n",
      "\n",
      "Cluster 18: VIDEO: 'Overhaul needed' for end-of-life care\n",
      "\n",
      "Cluster 18: Care for dying 'needs overhaul'\n",
      "\n",
      "Cluster 18: Care system 'gets biggest shake-up'\n",
      "\n",
      "Cluster 18: 'Improve end-of-life care for all'\n",
      "\n",
      "Cluster 18: Care workers 'being short changed'\n",
      "\n",
      "Cluster 18: Concern over online gonorrhoea care\n",
      "\n",
      "Cluster 18: VIDEO: Improving palliative care in Mexico\n",
      "\n",
      "Cluster 18: Care inspections 'not fit for purpose'\n",
      "\n",
      "Cluster 18: VIDEO: The children let down by mental health care\n",
      "\n",
      "Cluster 18: NHS child mental health care pledge\n",
      "\n",
      "Cluster 18: Could smart phones help provide mental health care?\n",
      "\n",
      "Cluster 18: Advice on secret care home filming\n",
      "\n",
      "Cluster 18: Hospital maternity care concerns\n",
      "\n",
      "Cluster 18: Care staff 'miss out on minimum pay'\n",
      "\n",
      "Cluster 18: One in five care homes 'fail key test'\n",
      "\n",
      "Cluster 18: VIDEO: 'Full investigation' when care fails\n",
      "\n",
      "Cluster 18: Care cap for young adults proposed\n",
      "\n",
      "Cluster 18: Government 'failing' on care pledge\n",
      "\n",
      "Cluster 18: 'Serious errors' in boy's heart care\n",
      "\n",
      "Cluster 18: VIDEO: Questions answered on care insurance\n",
      "\n",
      "Cluster 18: VIDEO: Care: 'You have to be cold-hearted'\n",
      "\n",
      "Cluster 18: 'No interest' in care insurance\n",
      "\n",
      "Cluster 18: Care spend 'cut by fifth in decade'\n",
      "\n",
      "Cluster 18: Care calculator launched by BBC\n",
      "\n",
      "Cluster 18: Miliband to pledge longer care visits\n",
      "\n",
      "Cluster 18: Hearing loss care demand rises\n",
      "\n",
      "Cluster 18: VIDEO: Care system 'failing the elderly'\n",
      "\n",
      "Cluster 18: Care cuts 'leave old high and dry'\n",
      "\n",
      "Cluster 18: VIDEO: Could you afford £700 a week for care?\n",
      "\n",
      "Cluster 18: Ebola care centre for pregnant women\n",
      "\n",
      "Cluster 18: Poor diabetes care 'costing lives'\n",
      "\n",
      "Cluster 18: VIDEO: Emergency care system 'confusing'\n",
      "\n",
      "Cluster 18: VIDEO: Families 'should be involved in care'\n",
      "\n",
      "Cluster 18: Care home scalding death accidental\n",
      "\n",
      "Cluster 18: 'Take care complaints seriously'\n",
      "\n",
      "Cluster 18: Ebola: 'basic care being missed'\n",
      "\n",
      "Cluster 18: Patient care faces 'serious' impact\n",
      "\n",
      "Cluster 18: VIDEO: A week in the life of a care worker\n",
      "\n",
      "Cluster 18: Home care services 'close to crisis'\n",
      "\n",
      "Cluster 18: Dementia patients 'lack proper care'\n",
      "\n",
      "Cluster 18: Huddles 'help children's hospital care'\n",
      "\n",
      "Cluster 18: A&amp;E care 'still unsafe' at hospital\n",
      "\n",
      "Cluster 18: Learning disability care 'failing'\n",
      "\n",
      "Cluster 18: VIDEO: 'End of life care needs more effort'\n",
      "\n",
      "Cluster 18: Covert care camera guidance approved\n",
      "\n",
      "Cluster 18: Better sex-and-dementia care call\n",
      "\n",
      "Cluster 18: Care claim backlog to cost NHS £250m\n",
      "\n",
      "Cluster 18: Care plan savings 'over-optimistic'\n",
      "\n",
      "Cluster 18: Care home quality of life concerns\n",
      "\n",
      "Cluster 18: Joined-up care: The elephant in the room\n",
      "\n",
      "Cluster 18: VIDEO: Care plan 'to ease hospital pressure'\n",
      "\n",
      "Cluster 18: Care plan 'to ease hospital pressure'\n",
      "\n",
      "Cluster 18: AUDIO: Carer: Low pay leads to poor care\n",
      "\n",
      "Cluster 18: 'Failure' in care of injured veterans\n",
      "\n",
      "Cluster 18: VIDEO: Fears for Scope care home residents\n",
      "\n",
      "Cluster 18: VIDEO: 'We will bring social care into NHS'\n",
      "\n",
      "Cluster 18: Hospital apology over cancer care\n",
      "\n",
      "Cluster 18: VIDEO: Dementia care training concerns\n",
      "\n",
      "Cluster 18: Care in England 'not good enough'\n",
      "\n",
      "Cluster 18: VIDEO: Mental health care 'must be instant'\n",
      "\n",
      "Cluster 18: GP out-of-hours care 'improving'\n",
      "\n",
      "Cluster 18: Social care access 'limited for many'\n",
      "\n",
      "Cluster 18: VIDEO: Dementia patients 'face care tax'\n",
      "\n",
      "Cluster 18: Dementia patients 'face care tax'\n",
      "\n",
      "Cluster 18: Call to end NHS-social care divide\n",
      "\n",
      "Cluster 18: Post-natal care lacking, say midwives\n",
      "\n",
      "Cluster 18: Mental health care 'in dark ages'\n",
      "\n",
      "Cluster 18: Councils raise care funding concerns\n",
      "\n",
      "Cluster 18: Super units 'needed for stroke care'\n",
      "\n",
      "Cluster 18: 'Poor care for hepatitis C virus'\n",
      "\n",
      "Cluster 18: Care minister backs assisted dying\n",
      "\n",
      "Cluster 18: Plan to tackle failing care homes\n",
      "\n",
      "Cluster 18: Footballers need concussion care\n",
      "\n",
      "Cluster 18: Frail 'need joint NHS and care fund'\n",
      "\n",
      "Cluster 18: 'Huge gaps' in mental care for mums\n",
      "\n",
      "Cluster 18: Dying need 'free social care'\n",
      "\n",
      "Cluster 18: Cancer care 'could be privatised'\n",
      "\n",
      "Cluster 18: VIDEO: Adult social care faces unsure future\n",
      "\n",
      "Cluster 18: VIDEO: Council-run care 'unsustainable'\n",
      "\n",
      "Cluster 18: Council-run care 'unsustainable'\n",
      "\n",
      "Cluster 18: 'Robot revolution' in stroke care\n",
      "\n",
      "Cluster 18: Probe into care of reporter's father\n",
      "\n",
      "Cluster 18: Poor tracheostomy care warning\n",
      "\n",
      "Cluster 18: Aberdeen hospital care to be reviewed\n",
      "\n",
      "Cluster 18: Review into 'harrowing' care scandal\n",
      "\n",
      "Cluster 18: Social care target for £75m cuts\n",
      "\n",
      "Cluster 18: Campaigners criticise care changes\n",
      "\n",
      "Cluster 18: Inquiry into emergency health care\n",
      "\n",
      "Cluster 18: Care home owner did not raise claims\n",
      "\n",
      "Cluster 18: AUDIO: Local hospitals 'can improve elderly care'\n",
      "\n",
      "Cluster 18: Refugees 'struggle for cancer care'\n",
      "\n",
      "Cluster 18: Cardiac care services discussed\n",
      "\n",
      "Cluster 18: VIDEO: Nurse shows off 'improved' care ward\n",
      "\n",
      "Cluster 18: Care home move 'breached rights'\n",
      "\n",
      "Cluster 18: End-of-life care 'deeply concerning'\n",
      "\n",
      "Cluster 18: Spot checks into OAP hospital care\n",
      "\n",
      "Cluster 18: Hospital care failings 'shock'\n",
      "\n",
      "Cluster 18: Few 'will hit social care cost cap'\n",
      "\n",
      "Cluster 18: Better care plan for neuro patients\n",
      "\n",
      "Cluster 18: Arrest over alleged care home abuse\n",
      "\n",
      "Cluster 18: New care workers to earn certificate\n",
      "\n",
      "Cluster 18: AUDIO: Macmillan warn of cancer care crisis\n",
      "\n",
      "Cluster 18: Care home CCTV 'could be considered'\n",
      "\n",
      "Cluster 18: Hospital warned on OAP patient care\n",
      "\n",
      "Cluster 18: Care homes: The known and the unknown\n",
      "\n",
      "Cluster 18: Care home residents 'doped up'\n",
      "\n",
      "Cluster 18: Home staff suspended after poor care\n",
      "\n",
      "Cluster 18: Cost of free personal care up 162%\n",
      "\n",
      "Cluster 18: Elderly care: 'Who will care for me?'\n",
      "\n",
      "Cluster 18: Care needs to 'outstrip' family help\n",
      "\n",
      "Cluster 18: Care needs to 'outstrip' family help\n",
      "\n",
      "Cluster 18: Clwyd hospital care claims rejected\n",
      "\n",
      "Cluster 18: All 18 care homes saved from closure\n",
      "\n",
      "Cluster 18: 'Care failings' over man's op death\n",
      "\n",
      "Cluster 18: GP out-of-hours care 'diabolical'\n",
      "\n",
      "Cluster 18: Call for merged 'super' care budget\n",
      "\n",
      "Cluster 18: AUDIO: Mental health care 'needs transforming'\n",
      "\n",
      "Cluster 18: Poor care 'resulted in baby's death'\n",
      "\n",
      "Cluster 18: Charity call for patient care review\n",
      "\n",
      "Cluster 18: Patients 'imprisoned' in care homes\n",
      "\n",
      "Cluster 18: Adult social care 'under pressure'\n",
      "\n",
      "Cluster 18: Elderly care faces 'catastrophe'\n",
      "\n",
      "Cluster 18: Privatisation 'hurting health care'\n",
      "\n",
      "Cluster 18: Care package to help fight dementia\n",
      "\n",
      "Cluster 18: The Social Care Curry Club\n",
      "\n",
      "Cluster 18: NHS staff say care 'good enough'\n",
      "\n",
      "Cluster 18: Care home criticised in report\n",
      "\n",
      "Cluster 18: Eleven care home staff suspended\n",
      "\n",
      "Cluster 18: A&amp;E care to fly out to accidents\n",
      "\n",
      "Cluster 18: VIDEO: Child mental health care concerns\n",
      "\n",
      "Cluster 18: Care.data: How did it go so wrong?\n",
      "\n",
      "Cluster 18: VIDEO: Call for better tongue-tie care\n",
      "\n",
      "Cluster 18: VIDEO: Psychological scars of intensive care\n",
      "\n",
      "Cluster 18: Cash worries 'could harm NHS care'\n",
      "\n",
      "Cluster 18: Councils 'pay too little for care'\n",
      "\n",
      "Cluster 18: VIDEO: Councils 'pay too little for home care'\n",
      "\n",
      "Cluster 18: Care.data: Should we be concerned?\n",
      "\n",
      "Cluster 18: Liverpool Care Pathway 'wrongly blamed'\n",
      "\n",
      "Cluster 18: Cancer care praise but issues remain\n",
      "\n",
      "Cluster 18: 'Missed opportunities' in boy's care\n",
      "\n",
      "Cluster 18: Doubts cast on UK heart-attack care\n",
      "\n",
      "Cluster 18: Grieving mother's NHS baby care plea\n",
      "\n",
      "Cluster 18: Failing elderly care home to close\n",
      "\n",
      "Cluster 18: VIDEO: Move to improve care home life\n",
      "\n",
      "Cluster 18: Clegg attacks NHS mental health care\n",
      "\n",
      "Cluster 18: Hospital 'cannot provide safe care'\n",
      "\n",
      "Cluster 18: Exporting Gran to care homes abroad\n",
      "\n",
      "Cluster 18: Migrants to face NHS care charges\n",
      "\n",
      "Cluster 18: Care home bosses jailed for neglect\n",
      "\n",
      "Cluster 18: Scotland to revamp end of life care\n",
      "\n",
      "Cluster 18: Hospital cancer care deemed 'unsafe'\n",
      "\n",
      "Cluster 18: Big fall in numbers given care\n",
      "\n",
      "Cluster 18: Battery death boy's care criticised\n",
      "\n",
      "Cluster 18: Doctors 'failed in duty of care'\n",
      "\n",
      "Cluster 18: 10-stone girl, five, taken into care\n",
      "\n",
      "Cluster 18: HIV care 'at risk from NHS changes'\n",
      "\n",
      "Cluster 18: Hospital care standards review urged\n",
      "\n",
      "Cluster 18: VIDEO: Steve Evans moves to palliative care\n",
      "\n",
      "Cluster 18: Hospital self-harm care 'lacking'\n",
      "\n",
      "Cluster 18: Threat to maternity care at hospital\n",
      "\n",
      "Cluster 18: Can robots care for the elderly?\n",
      "\n",
      "Cluster 18: 'Kangaroo care' key for prem babies\n",
      "\n",
      "Cluster 18: Elderly 'face £150,000 care bill'\n",
      "\n",
      "Cluster 18: Poor eye care 'leaving people blind'\n",
      "\n",
      "Cluster 18: Neonatal care decision overturned\n",
      "\n",
      "Cluster 18: VIDEO: Call for national care loans scheme\n",
      "\n",
      "Cluster 18: Care homes abuse inquiry head named\n",
      "\n",
      "Cluster 18: VIDEO: Home care system under pressure\n",
      "\n",
      "Cluster 18: Doctors 'right' to stop patient care\n",
      "\n",
      "Cluster 18: Poor care risk 'at 1 in 4 hospitals'\n",
      "\n",
      "Cluster 18: Seven held in care homes abuse probe\n",
      "\n",
      "Cluster 18: VIDEO: NHS 'can save £500m' on foreign care\n",
      "\n",
      "Cluster 18: NHS 'can save £500m' on foreign care\n",
      "\n",
      "Cluster 18: VIDEO: Abuse and neglect at care home\n",
      "\n",
      "Cluster 18: VIDEO: A tale of two care support workers\n",
      "\n",
      "Cluster 18: Elderly care all sorted? Think again...\n",
      "\n",
      "Cluster 18: AUDIO: Care plan 'disgraceful U-turn'\n",
      "\n",
      "Cluster 18: Care inspector could secretly film\n",
      "\n",
      "Cluster 18: Ministers target NHS weekend care\n",
      "\n",
      "Cluster 18: AUDIO: GP inspector finds 'shocking' care\n",
      "\n",
      "Cluster 18: 'Flying' care visits 'disgraceful'\n",
      "\n"
     ]
    }
   ],
   "source": [
    "health_lines = []\n",
    "with open('health-dataset/health.txt', 'r') as health_txt:\n",
    "    health_aux = health_txt.readlines()\n",
    "    health_aux.pop(0)\n",
    "    for i in health_aux:\n",
    "        health_lines.append(i.split('|')[-1])\n",
    "prediction = km.predict(dataset[:])\n",
    "labels = km.labels_\n",
    "# print(prediction)\n",
    "count = 0\n",
    "for i in labels:\n",
    "    if i == 18:\n",
    "        print(\"Cluster {}: {}\".format(i, health_lines[count]))\n",
    "    count += 1"
   ]
  },
  {
   "cell_type": "code",
   "execution_count": 55,
   "metadata": {},
   "outputs": [],
   "source": [
    "silhouette = metrics.silhouette_score(dataset, km.labels_)"
   ]
  },
  {
   "cell_type": "code",
   "execution_count": 56,
   "metadata": {},
   "outputs": [
    {
     "data": {
      "text/plain": [
       "0.028766275707805107"
      ]
     },
     "execution_count": 56,
     "metadata": {},
     "output_type": "execute_result"
    }
   ],
   "source": [
    "silhouette"
   ]
  },
  {
   "cell_type": "code",
   "execution_count": 12,
   "metadata": {},
   "outputs": [
    {
     "data": {
      "text/plain": [
       "(13229, 1203)"
      ]
     },
     "execution_count": 12,
     "metadata": {},
     "output_type": "execute_result"
    }
   ],
   "source": [
    "dataset.shape"
   ]
  },
  {
   "cell_type": "code",
   "execution_count": 69,
   "metadata": {},
   "outputs": [],
   "source": [
    "closest, aux = pairwise_distances_argmin_min(km.cluster_centers_, dataset)\n",
    "\n",
    "distance1 = []\n",
    "# distance2 = []\n",
    "# distance3 = []\n",
    "# distance4 = []\n",
    "# distance5 = []\n",
    "\n",
    "for i in dataset:\n",
    "        distance1.append(np.linalg.norm(i - km.cluster_centers_[13]))\n",
    "#         distance2.append(euclidean(i, km.cluster_centers_[1]))\n",
    "#         distance3.append(euclidean(i, km.cluster_centers_[2]))\n",
    "#         distance4.append(euclidean(i, km.cluster_centers_[3]))\n",
    "#         distance5.append(euclidean(i, km.cluster_centers_[4]))\n",
    "\n",
    "distance1 = np.asarray(distance1)\n",
    "# distance2 = np.asarray(distance2)"
   ]
  },
  {
   "cell_type": "code",
   "execution_count": 72,
   "metadata": {},
   "outputs": [
    {
     "data": {
      "text/plain": [
       "array([  99,   99,   99,   99,   99,   99,   99,   99,   99,   99,   99,\n",
       "         99,   99, 2628,   99,   99,   99,   99,   99,   99])"
      ]
     },
     "execution_count": 72,
     "metadata": {},
     "output_type": "execute_result"
    }
   ],
   "source": [
    "closest"
   ]
  },
  {
   "cell_type": "code",
   "execution_count": 71,
   "metadata": {},
   "outputs": [
    {
     "name": "stdout",
     "output_type": "stream",
     "text": [
      "(array([ 2628,  9672, 10724, 10931, 11194, 12527]),)\n"
     ]
    }
   ],
   "source": [
    "print(np.where(distance1 == distance1.min()))\n",
    "# print(np.where(distance2 == distance2.min()))\n",
    "# print(distance3.index(min(distance3)))\n",
    "# print(distance4.index(min(distance4)))\n",
    "# print(distance5.index(min(distance5)))"
   ]
  },
  {
   "cell_type": "code",
   "execution_count": 70,
   "metadata": {},
   "outputs": [
    {
     "name": "stdout",
     "output_type": "stream",
     "text": [
      "0.5045137802845819\n",
      "0.5045137802845819\n",
      "0.5045137802845819\n"
     ]
    }
   ],
   "source": [
    "print(min(distance1))\n",
    "print(euclidean(dataset[2628], km.cluster_centers_[13]))\n",
    "print(np.linalg.norm(dataset[2628] - km.cluster_centers_[13]))"
   ]
  },
  {
   "cell_type": "code",
   "execution_count": null,
   "metadata": {},
   "outputs": [],
   "source": [
    "print(health_lines[98])"
   ]
  },
  {
   "cell_type": "code",
   "execution_count": null,
   "metadata": {},
   "outputs": [],
   "source": [
    "i = 0\n",
    "for i in range(dataset.shape[0]):\n",
    "    pass\n",
    "print(i)"
   ]
  },
  {
   "cell_type": "code",
   "execution_count": null,
   "metadata": {},
   "outputs": [],
   "source": [
    "run = False\n",
    "if run:\n",
    "    Nc = range(1, 30)\n",
    "\n",
    "    kmeans = []\n",
    "    score = []\n",
    "\n",
    "    for i in Nc:\n",
    "        kmeans.append(KMeans(n_clusters=i))\n",
    "\n",
    "    for i in range(len(kmeans)):\n",
    "        print('Fitting kmeans with {} clusters'.format(kmeans[i].n_clusters))\n",
    "        score.append(kmeans[i].fit(dataset).score(dataset))\n",
    "\n",
    "    plt.plot(Nc,score)\n",
    "\n",
    "    plt.xlabel('Number of Clusters')\n",
    "\n",
    "    plt.ylabel('Score')\n",
    "\n",
    "    plt.title('Elbow Curve')\n",
    "\n",
    "    plt.show()"
   ]
  },
  {
   "cell_type": "markdown",
   "metadata": {},
   "source": [
    "# Aqui tentei usar o txt para fazer o k-means, mas não terminei"
   ]
  },
  {
   "cell_type": "code",
   "execution_count": null,
   "metadata": {},
   "outputs": [],
   "source": [
    "health_lines = []\n",
    "with open('health-dataset/health.txt', 'r') as health_txt:\n",
    "    health_aux = health_txt.readlines()\n",
    "    health_aux.pop(0)\n",
    "    for i in health_aux:\n",
    "        health_lines.append(i.split('|')[-1])\n",
    "len(health_lines)"
   ]
  },
  {
   "cell_type": "code",
   "execution_count": null,
   "metadata": {},
   "outputs": [],
   "source": [
    "from nltk.corpus import stopwords\n",
    "import nltk\n",
    "# nltk.download()"
   ]
  },
  {
   "cell_type": "code",
   "execution_count": null,
   "metadata": {},
   "outputs": [],
   "source": [
    "sw = stopwords.words('english')\n",
    "vectorizer = CountVectorizer(stop_words=sw)\n",
    "X = vectorizer.fit_transform(health_lines)\n",
    "# X = vectorizer.transform(health_lines)"
   ]
  },
  {
   "cell_type": "code",
   "execution_count": null,
   "metadata": {},
   "outputs": [],
   "source": [
    "type(X)"
   ]
  },
  {
   "cell_type": "code",
   "execution_count": null,
   "metadata": {
    "scrolled": true
   },
   "outputs": [],
   "source": [
    "print(X)"
   ]
  },
  {
   "cell_type": "code",
   "execution_count": null,
   "metadata": {},
   "outputs": [],
   "source": [
    "vectorizer.vocabulary_"
   ]
  },
  {
   "cell_type": "code",
   "execution_count": null,
   "metadata": {},
   "outputs": [],
   "source": [
    "N = 6\n",
    "verbose = False\n",
    "\n",
    "km = KMeans(n_clusters=N, init='k-means++', max_iter=1000, n_init=1,\n",
    "                verbose=verbose)\n",
    "\n",
    "print(\"Clustering sparse data with {}\".format(km))\n",
    "t0 = time()\n",
    "km.fit(X)\n",
    "print(\"done in {}s\".format(time() - t0))"
   ]
  },
  {
   "cell_type": "code",
   "execution_count": null,
   "metadata": {},
   "outputs": [],
   "source": [
    "Nc = range(1, 30)\n",
    "\n",
    "kmeans = []\n",
    "score = []\n",
    "\n",
    "for i in Nc:\n",
    "    kmeans.append(KMeans(n_clusters=i))\n",
    "\n",
    "for i in range(len(kmeans)):\n",
    "    print('Fitting kmeans with {} clusters'.format(kmeans[i].n_clusters))\n",
    "    score.append(kmeans[i].fit(X).score(X))"
   ]
  },
  {
   "cell_type": "code",
   "execution_count": null,
   "metadata": {},
   "outputs": [],
   "source": [
    "plt.plot(Nc,score)\n",
    "\n",
    "plt.xlabel('Number of Clusters')\n",
    "\n",
    "plt.ylabel('Score')\n",
    "\n",
    "plt.title('Elbow Curve')\n",
    "\n",
    "plt.show()"
   ]
  },
  {
   "cell_type": "code",
   "execution_count": null,
   "metadata": {},
   "outputs": [],
   "source": [
    "print(km.predict(X[10:20]))"
   ]
  }
 ],
 "metadata": {
  "kernelspec": {
   "display_name": "Python 3",
   "language": "python",
   "name": "python3"
  },
  "language_info": {
   "codemirror_mode": {
    "name": "ipython",
    "version": 3
   },
   "file_extension": ".py",
   "mimetype": "text/x-python",
   "name": "python",
   "nbconvert_exporter": "python",
   "pygments_lexer": "ipython3",
   "version": "3.6.5"
  }
 },
 "nbformat": 4,
 "nbformat_minor": 1
}
