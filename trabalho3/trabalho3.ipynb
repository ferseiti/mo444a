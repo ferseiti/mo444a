{
 "cells": [
  {
   "cell_type": "code",
   "execution_count": 398,
   "metadata": {},
   "outputs": [],
   "source": [
    "%matplotlib inline\n",
    "\n",
    "from sklearn.feature_extraction.text import CountVectorizer\n",
    "from sklearn.pipeline import make_pipeline\n",
    "from sklearn.preprocessing import Normalizer\n",
    "from sklearn import metrics\n",
    "from sklearn.metrics import pairwise_distances_argmin_min\n",
    "\n",
    "from sklearn.decomposition import PCA\n",
    "\n",
    "from sklearn.cluster import KMeans\n",
    "\n",
    "from scipy.spatial.distance import cdist, euclidean\n",
    "\n",
    "import sys\n",
    "from time import time\n",
    "\n",
    "import numpy as np\n",
    "import pandas as pd\n",
    "import matplotlib.pyplot as plt"
   ]
  },
  {
   "cell_type": "code",
   "execution_count": 2,
   "metadata": {
    "scrolled": true
   },
   "outputs": [],
   "source": [
    "df = pd.read_csv('./health-dataset/bags.csv', header=None)\n",
    "dataset = np.array(df.values)"
   ]
  },
  {
   "cell_type": "code",
   "execution_count": 388,
   "metadata": {},
   "outputs": [
    {
     "name": "stdout",
     "output_type": "stream",
     "text": [
      "Clustering sparse data with KMeans(algorithm='auto', copy_x=True, init='k-means++', max_iter=300,\n",
      "    n_clusters=14, n_init=1, n_jobs=6, precompute_distances='auto',\n",
      "    random_state=None, tol=0.0001, verbose=False)\n",
      "done in 3.3105661869049072s\n"
     ]
    }
   ],
   "source": [
    "N = 14\n",
    "verbose = False\n",
    "\n",
    "km = KMeans(n_clusters=N, init='k-means++', max_iter=300, n_init=1, n_jobs=6,\n",
    "                verbose=verbose)\n",
    "\n",
    "print(\"Clustering sparse data with {}\".format(km))\n",
    "t0 = time()\n",
    "km.fit(dataset)\n",
    "print(\"done in {}s\".format(time() - t0))"
   ]
  },
  {
   "cell_type": "code",
   "execution_count": 392,
   "metadata": {},
   "outputs": [],
   "source": [
    "silhouette = metrics.silhouette_score(dataset, km.labels_)\n",
    "\n",
    "silhouette"
   ]
  },
  {
   "cell_type": "code",
   "execution_count": 394,
   "metadata": {},
   "outputs": [],
   "source": [
    "closest, distances = pairwise_distances_argmin_min(km.cluster_centers_, dataset)\n",
    "\n",
    "distance1 = []\n",
    "# distance2 = []\n",
    "# distance3 = []\n",
    "# distance4 = []\n",
    "# distance5 = []\n",
    "\n",
    "for i in dataset:\n",
    "        distance1.append(np.linalg.norm(i - km.cluster_centers_[13]))\n",
    "#         distance2.append(euclidean(i, km.cluster_centers_[1]))\n",
    "#         distance3.append(euclidean(i, km.cluster_centers_[2]))\n",
    "#         distance4.append(euclidean(i, km.cluster_centers_[3]))\n",
    "#         distance5.append(euclidean(i, km.cluster_centers_[4]))\n",
    "\n",
    "distance1 = np.asarray(distance1)\n",
    "# distance2 = np.asarray(distance2)"
   ]
  },
  {
   "cell_type": "code",
   "execution_count": 395,
   "metadata": {},
   "outputs": [
    {
     "data": {
      "text/plain": [
       "(array([   99,  4764,    99,    99,    99,    99,    99,    99,    99,\n",
       "           99,  2944,    99, 10224,    99]),\n",
       " array([0.07186124, 0.48843847, 0.3959161 , 0.38289188, 0.25200728,\n",
       "        0.29976469, 0.50266067, 0.3893802 , 0.31968239, 0.39800254,\n",
       "        0.47962252, 0.28440583, 0.49017982, 0.2989584 ]))"
      ]
     },
     "execution_count": 395,
     "metadata": {},
     "output_type": "execute_result"
    }
   ],
   "source": [
    "closest, distances"
   ]
  },
  {
   "cell_type": "code",
   "execution_count": 326,
   "metadata": {},
   "outputs": [
    {
     "name": "stdout",
     "output_type": "stream",
     "text": [
      "Cluster 0: Who are the unvaccinated? @JoshLevs\n",
      "\n",
      "Cluster 1: Today's #getfit tip @MensHealth: Working the night shift? Adjust your concept of mealtime &amp; eat the biggest meal when you get home\n",
      "\n",
      "Cluster 2: Who are the unvaccinated? @JoshLevs\n",
      "\n",
      "Cluster 3: Who are the unvaccinated? @JoshLevs\n",
      "\n",
      "Cluster 4: 'Love hormone' may treat anorexia\n",
      "\n",
      "Cluster 5: Who are the unvaccinated? @JoshLevs\n",
      "\n",
      "Cluster 6: Your thoughs: Less pink, more cures for breast cancer\n",
      "\n",
      "Cluster 7: Who are the unvaccinated? @JoshLevs\n",
      "\n",
      "Cluster 8: Who are the unvaccinated? @JoshLevs\n",
      "\n",
      "Cluster 9: Who are the unvaccinated? @JoshLevs\n",
      "\n",
      "Cluster 10: Who are the unvaccinated? @JoshLevs\n",
      "\n",
      "Cluster 11: Everyday Health Daily Digest is out!\n",
      "\n",
      "Cluster 12: Who are the unvaccinated? @JoshLevs\n",
      "\n",
      "Cluster 13: Who are the unvaccinated? @JoshLevs\n",
      "\n",
      "Cluster 14: Who are the unvaccinated? @JoshLevs\n",
      "\n",
      "Cluster 15: VA under scrutiny after Legionnaires' deaths\n",
      "\n",
      "Cluster 16: 10 snacks to help you lose weight, burn fat, and build muscle:\n",
      "\n",
      "Cluster 17: Could 'personhood' bills outlaw IVF?\n",
      "\n",
      "Cluster 18: Who are the unvaccinated? @JoshLevs\n",
      "\n",
      "Cluster 19: Prepare for the late-night munchies with these tips to fend off cravings:\n",
      "\n",
      "Cluster 20: AUDIO: Schizophrenia assumptions challenged\n",
      "\n",
      "Cluster 21: Who are the unvaccinated? @JoshLevs\n",
      "\n",
      "Cluster 22: Who are the unvaccinated? @JoshLevs\n",
      "\n",
      "Cluster 23: Who are the unvaccinated? @JoshLevs\n",
      "\n",
      "Cluster 24: Sierra Leone in Ebola lockdown\n",
      "\n",
      "Cluster 25: Who are the unvaccinated? @JoshLevs\n",
      "\n",
      "Cluster 26: Two more nurses on neglect charges\n",
      "\n"
     ]
    }
   ],
   "source": [
    "for i in enumerate(closest):\n",
    "#     print(i)\n",
    "    print('Cluster {}: {}'.format(i[0], health_lines[i[1]]))"
   ]
  },
  {
   "cell_type": "code",
   "execution_count": 223,
   "metadata": {},
   "outputs": [
    {
     "name": "stdout",
     "output_type": "stream",
     "text": [
      "Cluster 1: An abundance of online info can turn us into e-hypochondriacs. Or, worse, lead us to neglect getting the care we need\n",
      "\n",
      "Cluster 1: A plant-based diet that incorporates fish may be the key to preventing colorectal cancers:\n",
      "\n",
      "Cluster 1: It doesn't take much to damage your hearing at a sports bar or nightclub. That's why a billion people are at risk.\n",
      "\n",
      "Cluster 1: RT @CNN: Forever young? Discover this island’s secrets to longevity on #TheWonderList w/ @BillWeirCNN \n",
      "\n",
      "Cluster 1: RT @CNN: Is post-traumatic stress disorder in your genes? A simple blood test may one day help tell you\n",
      "\n"
     ]
    }
   ],
   "source": [
    "health_lines = []\n",
    "with open('health-dataset/health.txt', 'r') as health_txt:\n",
    "    health_aux = health_txt.readlines()\n",
    "    health_aux.pop(0)\n",
    "    for i in health_aux:\n",
    "        health_lines.append(i.split('|')[-1])\n",
    "prediction = km.predict(dataset[:])\n",
    "labels = km.labels_\n",
    "# print(prediction)\n",
    "count = 0\n",
    "for i in labels:\n",
    "    if i == 1:\n",
    "        print(\"Cluster {}: {}\".format(i, health_lines[count]))\n",
    "        count += 1\n",
    "        if count == 5:\n",
    "            break"
   ]
  },
  {
   "cell_type": "code",
   "execution_count": null,
   "metadata": {},
   "outputs": [],
   "source": [
    "i = 0\n",
    "for i in range(dataset.shape[0]):\n",
    "    pass\n",
    "print(i)"
   ]
  },
  {
   "cell_type": "code",
   "execution_count": 82,
   "metadata": {},
   "outputs": [
    {
     "data": {
      "text/plain": [
       "12133.347513974413"
      ]
     },
     "execution_count": 82,
     "metadata": {},
     "output_type": "execute_result"
    }
   ],
   "source": [
    "km.inertia_"
   ]
  },
  {
   "cell_type": "code",
   "execution_count": 396,
   "metadata": {},
   "outputs": [
    {
     "name": "stdout",
     "output_type": "stream",
     "text": [
      "Fitting kmeans with 1 clusters\n",
      "Fitting kmeans with 2 clusters\n",
      "Fitting kmeans with 3 clusters\n",
      "Fitting kmeans with 4 clusters\n",
      "Fitting kmeans with 5 clusters\n",
      "Fitting kmeans with 6 clusters\n",
      "Fitting kmeans with 7 clusters\n",
      "Fitting kmeans with 8 clusters\n",
      "Fitting kmeans with 9 clusters\n",
      "Fitting kmeans with 10 clusters\n",
      "Fitting kmeans with 11 clusters\n",
      "Fitting kmeans with 12 clusters\n",
      "Fitting kmeans with 13 clusters\n",
      "Fitting kmeans with 14 clusters\n",
      "Fitting kmeans with 15 clusters\n",
      "Fitting kmeans with 16 clusters\n",
      "Fitting kmeans with 17 clusters\n",
      "Fitting kmeans with 18 clusters\n",
      "Fitting kmeans with 19 clusters\n",
      "Fitting kmeans with 20 clusters\n",
      "Fitting kmeans with 21 clusters\n",
      "Fitting kmeans with 22 clusters\n",
      "Fitting kmeans with 23 clusters\n",
      "Fitting kmeans with 24 clusters\n",
      "Fitting kmeans with 25 clusters\n",
      "Fitting kmeans with 26 clusters\n",
      "Fitting kmeans with 27 clusters\n",
      "Fitting kmeans with 28 clusters\n",
      "Fitting kmeans with 29 clusters\n",
      "Fitting kmeans with 30 clusters\n",
      "Fitting kmeans with 31 clusters\n",
      "Fitting kmeans with 32 clusters\n",
      "Fitting kmeans with 33 clusters\n",
      "Fitting kmeans with 34 clusters\n",
      "Fitting kmeans with 35 clusters\n",
      "Fitting kmeans with 36 clusters\n",
      "Fitting kmeans with 37 clusters\n",
      "Fitting kmeans with 38 clusters\n",
      "Fitting kmeans with 39 clusters\n",
      "Fitting kmeans with 40 clusters\n",
      "Fitting kmeans with 41 clusters\n",
      "Fitting kmeans with 42 clusters\n",
      "Fitting kmeans with 43 clusters\n",
      "Fitting kmeans with 44 clusters\n",
      "Fitting kmeans with 45 clusters\n",
      "Fitting kmeans with 46 clusters\n",
      "Fitting kmeans with 47 clusters\n",
      "Fitting kmeans with 48 clusters\n",
      "Fitting kmeans with 49 clusters\n"
     ]
    }
   ],
   "source": [
    "run = True\n",
    "if run:\n",
    "    Nc = range(1, 50)\n",
    "\n",
    "    kmeans = []\n",
    "    score = []\n",
    "\n",
    "    for i in Nc:\n",
    "        kmeans.append(KMeans(n_clusters=i, n_jobs=6))\n",
    "\n",
    "    for i in range(len(kmeans)):\n",
    "        print('Fitting kmeans with {} clusters'.format(kmeans[i].n_clusters))\n",
    "        score.append(kmeans[i].fit(dataset).inertia_)"
   ]
  },
  {
   "cell_type": "code",
   "execution_count": 397,
   "metadata": {},
   "outputs": [
    {
     "data": {
      "image/png": "[encoded data removed]",
      "text/plain": [
       "<Figure size 432x288 with 1 Axes>"
      ]
     },
     "metadata": {},
     "output_type": "display_data"
    }
   ],
   "source": [
    "if run:\n",
    "    plt.plot(Nc,score)\n",
    "\n",
    "    plt.xlabel('Number of Clusters')\n",
    "\n",
    "    plt.ylabel('Sum of squared distances')\n",
    "\n",
    "    plt.title('Elbow Curve')\n",
    "\n",
    "    plt.show()"
   ]
  },
  {
   "cell_type": "markdown",
   "metadata": {},
   "source": [
    "# PCA"
   ]
  },
  {
   "cell_type": "code",
   "execution_count": null,
   "metadata": {},
   "outputs": [],
   "source": [
    "variances = []\n",
    "for i in range(800, 1203, 10):\n",
    "    pca = PCA(n_components=i)\n",
    "    dataset_PCA = pca.fit_transform(dataset)\n",
    "    variances.append(np.sum(pca.explained_variance_ratio_))"
   ]
  },
  {
   "cell_type": "code",
   "execution_count": 402,
   "metadata": {},
   "outputs": [
    {
     "name": "stdout",
     "output_type": "stream",
     "text": [
      "Clustering sparse data with KMeans(algorithm='auto', copy_x=True, init='k-means++', max_iter=300,\n",
      "    n_clusters=14, n_init=1, n_jobs=6, precompute_distances='auto',\n",
      "    random_state=None, tol=0.0001, verbose=False)\n",
      "done in 0.47615957260131836s\n"
     ]
    }
   ],
   "source": [
    "N = 14\n",
    "verbose = False\n",
    "\n",
    "km_PCA = KMeans(n_clusters=N, init='k-means++', max_iter=300, n_init=1, n_jobs=6,\n",
    "                verbose=verbose)\n",
    "\n",
    "print(\"Clustering sparse data with {}\".format(km))\n",
    "t0 = time()\n",
    "km_PCA.fit(dataset_PCA)\n",
    "print(\"done in {}s\".format(time() - t0))"
   ]
  },
  {
   "cell_type": "code",
   "execution_count": 404,
   "metadata": {},
   "outputs": [
    {
     "data": {
      "text/plain": [
       "0.07621280367230658"
      ]
     },
     "execution_count": 404,
     "metadata": {},
     "output_type": "execute_result"
    }
   ],
   "source": [
    "silhouette_PCA = metrics.silhouette_score(dataset_PCA, km_PCA.labels_)\n",
    "\n",
    "silhouette_PCA"
   ]
  },
  {
   "cell_type": "code",
   "execution_count": 408,
   "metadata": {},
   "outputs": [],
   "source": [
    "closest_PCA, distances_PCA = pairwise_distances_argmin_min(km_PCA.cluster_centers_, dataset_PCA)\n",
    "\n",
    "distance1 = []\n",
    "# distance2 = []\n",
    "# distance3 = []\n",
    "# distance4 = []\n",
    "# distance5 = []\n",
    "\n",
    "for i in dataset_PCA:\n",
    "        distance1.append(np.linalg.norm(i - km_PCA.cluster_centers_[0]))\n",
    "#         distance2.append(euclidean(i, km.cluster_centers_[1]))\n",
    "#         distance3.append(euclidean(i, km.cluster_centers_[2]))\n",
    "#         distance4.append(euclidean(i, km.cluster_centers_[3]))\n",
    "#         distance5.append(euclidean(i, km.cluster_centers_[4]))\n",
    "\n",
    "distance1 = np.asarray(distance1)\n",
    "# distance2 = np.asarray(distance2)"
   ]
  },
  {
   "cell_type": "code",
   "execution_count": 409,
   "metadata": {},
   "outputs": [
    {
     "data": {
      "text/plain": [
       "(array([ 3336,    99,  1847,  9550,  4508,   653,  6815, 12103,  5045,\n",
       "        11838,  2892,  5594,  1873, 12104]),\n",
       " array([0.07497243, 0.04774043, 0.16727458, 0.12171982, 0.08296862,\n",
       "        0.19002938, 0.09067872, 0.0906813 , 0.12726398, 0.08617344,\n",
       "        0.06496006, 0.09902665, 0.07927008, 0.10857843]))"
      ]
     },
     "execution_count": 409,
     "metadata": {},
     "output_type": "execute_result"
    }
   ],
   "source": [
    "closest_PCA, distances_PCA"
   ]
  },
  {
   "cell_type": "code",
   "execution_count": 411,
   "metadata": {},
   "outputs": [
    {
     "name": "stdout",
     "output_type": "stream",
     "text": [
      "Cluster 0: Mistakes expose veterans to hepatitis, HIV\n",
      "\n",
      "Cluster 1: Who are the unvaccinated? @JoshLevs\n",
      "\n",
      "Cluster 2: Single dose of #HPV vaccine may be enough\n",
      "\n",
      "Cluster 3: WHO calls for action over Mers virus\n",
      "\n",
      "Cluster 4: Are these 6 bizarre food trends worth the trouble? \n",
      "\n",
      "Cluster 5: Coming soon: Remote-controlled contraceptives. Company says it will start preclinical trials in 2015\n",
      "\n",
      "Cluster 6: RT @TheOrganicTrail: A11: In the beginning starting with \"swap outs\" in my regular recipes helped me get comfortable with the transition. #HealthTalk\n",
      "\n",
      "Cluster 7: Ruling awaited over dead man's sperm\n",
      "\n",
      "Cluster 8: Study analyzes effect of repeated head trauma in professional fighters\n",
      "\n",
      "Cluster 9: VIDEO: NICE urges greater action on steroids\n",
      "\n",
      "Cluster 10: Fascinating! Brain map seeks to unlock mysteries of the mind\n",
      "\n",
      "Cluster 11: First #Ebola victim may have been infected by bats\n",
      "\n",
      "Cluster 12: Stigma lingers for America’s deadliest #cancer\n",
      "\n",
      "Cluster 13: Elderly care faces 'catastrophe'\n",
      "\n"
     ]
    }
   ],
   "source": [
    "for i in enumerate(closest_PCA):\n",
    "#     print(i)\n",
    "    print('Cluster {}: {}'.format(i[0], health_lines[i[1]]))"
   ]
  },
  {
   "cell_type": "markdown",
   "metadata": {},
   "source": [
    "# Aqui tentei usar o txt para fazer o k-means, mas não terminei"
   ]
  },
  {
   "cell_type": "code",
   "execution_count": null,
   "metadata": {},
   "outputs": [],
   "source": [
    "health_lines = []\n",
    "with open('health-dataset/health.txt', 'r') as health_txt:\n",
    "    health_aux = health_txt.readlines()\n",
    "    health_aux.pop(0)\n",
    "    for i in health_aux:\n",
    "        health_lines.append(i.split('|')[-1])\n",
    "len(health_lines)"
   ]
  },
  {
   "cell_type": "code",
   "execution_count": null,
   "metadata": {},
   "outputs": [],
   "source": [
    "from nltk.corpus import stopwords\n",
    "import nltk\n",
    "# nltk.download()"
   ]
  },
  {
   "cell_type": "code",
   "execution_count": null,
   "metadata": {},
   "outputs": [],
   "source": [
    "sw = stopwords.words('english')\n",
    "vectorizer = CountVectorizer(stop_words=sw)\n",
    "X = vectorizer.fit_transform(health_lines)\n",
    "# X = vectorizer.transform(health_lines)"
   ]
  },
  {
   "cell_type": "code",
   "execution_count": null,
   "metadata": {},
   "outputs": [],
   "source": [
    "type(X)"
   ]
  },
  {
   "cell_type": "code",
   "execution_count": null,
   "metadata": {
    "scrolled": true
   },
   "outputs": [],
   "source": [
    "print(X)"
   ]
  },
  {
   "cell_type": "code",
   "execution_count": null,
   "metadata": {},
   "outputs": [],
   "source": [
    "vectorizer.vocabulary_"
   ]
  },
  {
   "cell_type": "code",
   "execution_count": null,
   "metadata": {},
   "outputs": [],
   "source": [
    "N = 6\n",
    "verbose = False\n",
    "\n",
    "km = KMeans(n_clusters=N, init='k-means++', max_iter=1000, n_init=1,\n",
    "                verbose=verbose)\n",
    "\n",
    "print(\"Clustering sparse data with {}\".format(km))\n",
    "t0 = time()\n",
    "km.fit(X)\n",
    "print(\"done in {}s\".format(time() - t0))"
   ]
  },
  {
   "cell_type": "code",
   "execution_count": null,
   "metadata": {},
   "outputs": [],
   "source": [
    "Nc = range(1, 30)\n",
    "\n",
    "kmeans = []\n",
    "score = []\n",
    "\n",
    "for i in Nc:\n",
    "    kmeans.append(KMeans(n_clusters=i))\n",
    "\n",
    "for i in range(len(kmeans)):\n",
    "    print('Fitting kmeans with {} clusters'.format(kmeans[i].n_clusters))\n",
    "#     score.append(kmeans[i].fit(X).score(X))\n",
    "    score.append(kmeans[i].fit(X).inertia_)"
   ]
  },
  {
   "cell_type": "code",
   "execution_count": null,
   "metadata": {},
   "outputs": [],
   "source": [
    "plt.plot(Nc,score)\n",
    "\n",
    "plt.xlabel('Number of Clusters')\n",
    "\n",
    "plt.ylabel('Score')\n",
    "\n",
    "plt.title('Elbow Curve')\n",
    "\n",
    "plt.show()"
   ]
  },
  {
   "cell_type": "code",
   "execution_count": null,
   "metadata": {},
   "outputs": [],
   "source": [
    "print(km.predict(X[10:20]))"
   ]
  }
 ],
 "metadata": {
  "kernelspec": {
   "display_name": "Python 3",
   "language": "python",
   "name": "python3"
  },
  "language_info": {
   "codemirror_mode": {
    "name": "ipython",
    "version": 3
   },
   "file_extension": ".py",
   "mimetype": "text/x-python",
   "name": "python",
   "nbconvert_exporter": "python",
   "pygments_lexer": "ipython3",
   "version": "3.6.5"
  }
 },
 "nbformat": 4,
 "nbformat_minor": 1
}
