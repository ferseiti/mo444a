{
 "cells": [
  {
   "cell_type": "code",
   "execution_count": 1,
   "metadata": {},
   "outputs": [
    {
     "name": "stderr",
     "output_type": "stream",
     "text": [
      "/usr/local/lib/python3.6/site-packages/h5py/__init__.py:36: FutureWarning: Conversion of the second argument of issubdtype from `float` to `np.floating` is deprecated. In future, it will be treated as `np.float64 == np.dtype(float).type`.\n",
      "  from ._conv import register_converters as _register_converters\n"
     ]
    }
   ],
   "source": [
    "import pandas as pd\n",
    "import numpy as np\n",
    "import matplotlib.pyplot as plt\n",
    "import tensorflow as tf\n",
    "from sklearn.model_selection import train_test_split\n",
    "import gzip\n",
    "import os\n",
    "import copy\n",
    "os.environ[\"CUDA_VISIBLE_DEVICES\"]=\"0\" #for training on gpu"
   ]
  },
  {
   "cell_type": "code",
   "execution_count": 64,
   "metadata": {},
   "outputs": [],
   "source": [
    "from fashion_mnist.utils.mnist_reader import load_mnist"
   ]
  },
  {
   "cell_type": "code",
   "execution_count": 65,
   "metadata": {},
   "outputs": [],
   "source": [
    "total_train_image, total_train_labels = load_mnist('./fashion_mnist/data/fashion/', kind='train')\n",
    "test_image, test_labels = load_mnist('./fashion_mnist/data/fashion/', kind='t10k')"
   ]
  },
  {
   "cell_type": "code",
   "execution_count": 66,
   "metadata": {},
   "outputs": [],
   "source": [
    "ones_array_train = np.ones((total_train_image.shape[0], 1), dtype=int)\n",
    "ones_array_test = np.ones((test_image.shape[0], 1), dtype=int)"
   ]
  },
  {
   "cell_type": "code",
   "execution_count": 67,
   "metadata": {},
   "outputs": [],
   "source": [
    "total_train_image = np.hstack((ones_array_train,total_train_image))\n",
    "test_image = np.hstack((ones_array_test,test_image))"
   ]
  },
  {
   "cell_type": "code",
   "execution_count": 69,
   "metadata": {},
   "outputs": [],
   "source": [
    "train_image, validation_image = train_test_split(total_train_image, test_size=0.15, random_state=0)\n",
    "train_labels, validation_labels = train_test_split(total_train_labels, test_size=0.15, random_state=0)"
   ]
  },
  {
   "cell_type": "code",
   "execution_count": 70,
   "metadata": {},
   "outputs": [],
   "source": [
    "train_labels_onehot = pd.get_dummies(train_labels)\n",
    "validation_labels_onehot = pd.get_dummies(validation_labels)\n",
    "test_labels_onehot = pd.get_dummies(test_labels)"
   ]
  },
  {
   "cell_type": "code",
   "execution_count": 71,
   "metadata": {},
   "outputs": [],
   "source": [
    "def cross_entropy(y, h):\n",
    "    return tf.reduce_mean(tf.reduce_sum(-tf.log(h)*y,1, keepdims=True))\n",
    "\n",
    "def gradient_update(gradient,h):\n",
    "    return gradient.assign(tf.tensordot(tf.transpose(X), tf.subtract(h, y),1)/tf.cast(tf.shape(h)[0], dtype=tf.float32))\n",
    "\n",
    "def theta_update(theta, gradient):\n",
    "    return theta.assign(theta - lr * gradient)\n",
    "\n",
    "def pred_y(X,theta):\n",
    "    return tf.tensordot(X,theta, 1)\n",
    "\n",
    "def softmax(z):\n",
    "    exp_num = tf.exp(z)\n",
    "    sum_div = tf.reduce_sum(exp_num,1, keepdims=True)\n",
    "    return exp_num / sum_div"
   ]
  },
  {
   "cell_type": "code",
   "execution_count": 72,
   "metadata": {},
   "outputs": [],
   "source": [
    "lr = 0.01\n",
    "batch = train_image.shape[0]\n",
    "epochs = 100\n",
    "iterations = int(train_image.shape[0]/batch)"
   ]
  },
  {
   "cell_type": "code",
   "execution_count": 75,
   "metadata": {},
   "outputs": [
    {
     "data": {
      "text/plain": [
       "<matplotlib.image.AxesImage at 0x7f65cdd52630>"
      ]
     },
     "execution_count": 75,
     "metadata": {},
     "output_type": "execute_result"
    },
    {
     "data": {
      "image/png": "[encoded data removed]",
      "text/plain": [
       "<Figure size 432x288 with 1 Axes>"
      ]
     },
     "metadata": {},
     "output_type": "display_data"
    }
   ],
   "source": [
    "plt.imshow(test_image[30][1:].reshape(28,28))"
   ]
  },
  {
   "cell_type": "code",
   "execution_count": 9,
   "metadata": {},
   "outputs": [],
   "source": [
    "X = tf.placeholder(tf.float32, shape =([None,28*28+1]))\n",
    "y = tf.placeholder(tf.float32, shape =([None, 10]))"
   ]
  },
  {
   "cell_type": "code",
   "execution_count": 10,
   "metadata": {},
   "outputs": [],
   "source": [
    "theta = tf.get_variable(\"theta\", shape=(28*28+1,10), dtype=tf.float32, initializer=tf.contrib.layers.xavier_initializer())"
   ]
  },
  {
   "cell_type": "code",
   "execution_count": 11,
   "metadata": {},
   "outputs": [],
   "source": [
    "gradient = tf.get_variable(\"gradient\", shape=(28*28+1,10), dtype=tf.float32, initializer=tf.contrib.layers.xavier_initializer())"
   ]
  },
  {
   "cell_type": "code",
   "execution_count": 12,
   "metadata": {},
   "outputs": [],
   "source": [
    "z = pred_y(X,theta)"
   ]
  },
  {
   "cell_type": "code",
   "execution_count": 13,
   "metadata": {},
   "outputs": [],
   "source": [
    "h = softmax(z)"
   ]
  },
  {
   "cell_type": "code",
   "execution_count": 14,
   "metadata": {},
   "outputs": [],
   "source": [
    "loss = cross_entropy(y,h)"
   ]
  },
  {
   "cell_type": "code",
   "execution_count": 15,
   "metadata": {},
   "outputs": [],
   "source": [
    "tf_X = tf.placeholder(tf.float32)\n",
    "tf_X_norm = tf.image.per_image_standardization(tf_X)"
   ]
  },
  {
   "cell_type": "code",
   "execution_count": 16,
   "metadata": {},
   "outputs": [],
   "source": [
    "config = tf.ConfigProto()\n",
    "config.gpu_options.allow_growth = True\n",
    "sess = tf.InteractiveSession(config=config)\n",
    "\n",
    "train_image_norm = sess.run(tf_X_norm, feed_dict={tf_X: train_image})\n",
    "validation_image_norm = sess.run(tf_X_norm, feed_dict={tf_X: validation_image})\n",
    "test_image_norm = sess.run(tf_X_norm, feed_dict={tf_X: test_image})"
   ]
  },
  {
   "cell_type": "code",
   "execution_count": 27,
   "metadata": {
    "scrolled": true
   },
   "outputs": [
    {
     "name": "stdout",
     "output_type": "stream",
     "text": [
      "Epoch 0\n",
      "Train loss 3.2164\n",
      "Validation loss 3.2213\n",
      "Epoch 1\n",
      "Train loss 2.8199\n",
      "Validation loss 2.8225\n",
      "Epoch 2\n",
      "Train loss 2.5191\n",
      "Validation loss 2.5199\n",
      "Epoch 3\n",
      "Train loss 2.2824\n",
      "Validation loss 2.2818\n",
      "Epoch 4\n",
      "Train loss 2.0938\n",
      "Validation loss 2.0922\n",
      "Epoch 5\n",
      "Train loss 1.9428\n",
      "Validation loss 1.9405\n",
      "Epoch 6\n",
      "Train loss 1.8207\n",
      "Validation loss 1.8180\n",
      "Epoch 7\n",
      "Train loss 1.7206\n",
      "Validation loss 1.7177\n",
      "Epoch 8\n",
      "Train loss 1.6369\n",
      "Validation loss 1.6340\n",
      "Epoch 9\n",
      "Train loss 1.5659\n",
      "Validation loss 1.5631\n",
      "Epoch 10\n",
      "Train loss 1.5047\n",
      "Validation loss 1.5020\n",
      "Epoch 11\n",
      "Train loss 1.4514\n",
      "Validation loss 1.4487\n",
      "Epoch 12\n",
      "Train loss 1.4045\n",
      "Validation loss 1.4019\n",
      "Epoch 13\n",
      "Train loss 1.3628\n",
      "Validation loss 1.3604\n",
      "Epoch 14\n",
      "Train loss 1.3256\n",
      "Validation loss 1.3232\n",
      "Epoch 15\n",
      "Train loss 1.2921\n",
      "Validation loss 1.2899\n",
      "Epoch 16\n",
      "Train loss 1.2619\n",
      "Validation loss 1.2597\n",
      "Epoch 17\n",
      "Train loss 1.2344\n",
      "Validation loss 1.2323\n",
      "Epoch 18\n",
      "Train loss 1.2094\n",
      "Validation loss 1.2073\n",
      "Epoch 19\n",
      "Train loss 1.1864\n",
      "Validation loss 1.1844\n",
      "Epoch 20\n",
      "Train loss 1.1653\n",
      "Validation loss 1.1633\n",
      "Epoch 21\n",
      "Train loss 1.1458\n",
      "Validation loss 1.1439\n",
      "Epoch 22\n",
      "Train loss 1.1278\n",
      "Validation loss 1.1259\n",
      "Epoch 23\n",
      "Train loss 1.1110\n",
      "Validation loss 1.1091\n",
      "Epoch 24\n",
      "Train loss 1.0954\n",
      "Validation loss 1.0935\n",
      "Epoch 25\n",
      "Train loss 1.0808\n",
      "Validation loss 1.0789\n",
      "Epoch 26\n",
      "Train loss 1.0671\n",
      "Validation loss 1.0653\n",
      "Epoch 27\n",
      "Train loss 1.0542\n",
      "Validation loss 1.0524\n",
      "Epoch 28\n",
      "Train loss 1.0421\n",
      "Validation loss 1.0403\n",
      "Epoch 29\n",
      "Train loss 1.0307\n",
      "Validation loss 1.0289\n",
      "Epoch 30\n",
      "Train loss 1.0199\n",
      "Validation loss 1.0182\n",
      "Epoch 31\n",
      "Train loss 1.0097\n",
      "Validation loss 1.0079\n",
      "Epoch 32\n",
      "Train loss 1.0000\n",
      "Validation loss 0.9982\n",
      "Epoch 33\n",
      "Train loss 0.9907\n",
      "Validation loss 0.9890\n",
      "Epoch 34\n",
      "Train loss 0.9820\n",
      "Validation loss 0.9803\n",
      "Epoch 35\n",
      "Train loss 0.9736\n",
      "Validation loss 0.9719\n",
      "Epoch 36\n",
      "Train loss 0.9656\n",
      "Validation loss 0.9639\n",
      "Epoch 37\n",
      "Train loss 0.9579\n",
      "Validation loss 0.9563\n",
      "Epoch 38\n",
      "Train loss 0.9506\n",
      "Validation loss 0.9489\n",
      "Epoch 39\n",
      "Train loss 0.9436\n",
      "Validation loss 0.9419\n",
      "Epoch 40\n",
      "Train loss 0.9369\n",
      "Validation loss 0.9352\n",
      "Epoch 41\n",
      "Train loss 0.9304\n",
      "Validation loss 0.9287\n",
      "Epoch 42\n",
      "Train loss 0.9242\n",
      "Validation loss 0.9225\n",
      "Epoch 43\n",
      "Train loss 0.9182\n",
      "Validation loss 0.9165\n",
      "Epoch 44\n",
      "Train loss 0.9124\n",
      "Validation loss 0.9107\n",
      "Epoch 45\n",
      "Train loss 0.9068\n",
      "Validation loss 0.9051\n",
      "Epoch 46\n",
      "Train loss 0.9014\n",
      "Validation loss 0.8997\n",
      "Epoch 47\n",
      "Train loss 0.8962\n",
      "Validation loss 0.8945\n",
      "Epoch 48\n",
      "Train loss 0.8912\n",
      "Validation loss 0.8895\n",
      "Epoch 49\n",
      "Train loss 0.8863\n",
      "Validation loss 0.8846\n",
      "Epoch 50\n",
      "Train loss 0.8816\n",
      "Validation loss 0.8799\n",
      "Epoch 51\n",
      "Train loss 0.8770\n",
      "Validation loss 0.8753\n",
      "Epoch 52\n",
      "Train loss 0.8726\n",
      "Validation loss 0.8709\n",
      "Epoch 53\n",
      "Train loss 0.8683\n",
      "Validation loss 0.8666\n",
      "Epoch 54\n",
      "Train loss 0.8641\n",
      "Validation loss 0.8624\n",
      "Epoch 55\n",
      "Train loss 0.8600\n",
      "Validation loss 0.8583\n",
      "Epoch 56\n",
      "Train loss 0.8561\n",
      "Validation loss 0.8544\n",
      "Epoch 57\n",
      "Train loss 0.8523\n",
      "Validation loss 0.8505\n",
      "Epoch 58\n",
      "Train loss 0.8485\n",
      "Validation loss 0.8468\n",
      "Epoch 59\n",
      "Train loss 0.8449\n",
      "Validation loss 0.8431\n",
      "Epoch 60\n",
      "Train loss 0.8413\n",
      "Validation loss 0.8396\n",
      "Epoch 61\n",
      "Train loss 0.8379\n",
      "Validation loss 0.8361\n",
      "Epoch 62\n",
      "Train loss 0.8345\n",
      "Validation loss 0.8327\n",
      "Epoch 63\n",
      "Train loss 0.8312\n",
      "Validation loss 0.8294\n",
      "Epoch 64\n",
      "Train loss 0.8280\n",
      "Validation loss 0.8262\n",
      "Epoch 65\n",
      "Train loss 0.8248\n",
      "Validation loss 0.8231\n",
      "Epoch 66\n",
      "Train loss 0.8218\n",
      "Validation loss 0.8200\n",
      "Epoch 67\n",
      "Train loss 0.8188\n",
      "Validation loss 0.8170\n",
      "Epoch 68\n",
      "Train loss 0.8159\n",
      "Validation loss 0.8141\n",
      "Epoch 69\n",
      "Train loss 0.8130\n",
      "Validation loss 0.8112\n",
      "Epoch 70\n",
      "Train loss 0.8102\n",
      "Validation loss 0.8084\n",
      "Epoch 71\n",
      "Train loss 0.8074\n",
      "Validation loss 0.8056\n",
      "Epoch 72\n",
      "Train loss 0.8048\n",
      "Validation loss 0.8029\n",
      "Epoch 73\n",
      "Train loss 0.8021\n",
      "Validation loss 0.8003\n",
      "Epoch 74\n",
      "Train loss 0.7995\n",
      "Validation loss 0.7977\n",
      "Epoch 75\n",
      "Train loss 0.7970\n",
      "Validation loss 0.7952\n",
      "Epoch 76\n",
      "Train loss 0.7945\n",
      "Validation loss 0.7927\n",
      "Epoch 77\n",
      "Train loss 0.7921\n",
      "Validation loss 0.7903\n",
      "Epoch 78\n",
      "Train loss 0.7897\n",
      "Validation loss 0.7879\n",
      "Epoch 79\n",
      "Train loss 0.7874\n",
      "Validation loss 0.7855\n",
      "Epoch 80\n",
      "Train loss 0.7851\n",
      "Validation loss 0.7832\n",
      "Epoch 81\n",
      "Train loss 0.7829\n",
      "Validation loss 0.7810\n",
      "Epoch 82\n",
      "Train loss 0.7806\n",
      "Validation loss 0.7788\n",
      "Epoch 83\n",
      "Train loss 0.7785\n",
      "Validation loss 0.7766\n",
      "Epoch 84\n",
      "Train loss 0.7763\n",
      "Validation loss 0.7744\n",
      "Epoch 85\n",
      "Train loss 0.7743\n",
      "Validation loss 0.7723\n",
      "Epoch 86\n",
      "Train loss 0.7722\n",
      "Validation loss 0.7703\n",
      "Epoch 87\n",
      "Train loss 0.7702\n",
      "Validation loss 0.7682\n",
      "Epoch 88\n",
      "Train loss 0.7682\n",
      "Validation loss 0.7662\n",
      "Epoch 89\n",
      "Train loss 0.7662\n",
      "Validation loss 0.7643\n",
      "Epoch 90\n",
      "Train loss 0.7643\n",
      "Validation loss 0.7623\n",
      "Epoch 91\n",
      "Train loss 0.7624\n",
      "Validation loss 0.7604\n",
      "Epoch 92\n",
      "Train loss 0.7605\n",
      "Validation loss 0.7586\n",
      "Epoch 93\n",
      "Train loss 0.7587\n",
      "Validation loss 0.7567\n",
      "Epoch 94\n",
      "Train loss 0.7569\n",
      "Validation loss 0.7549\n",
      "Epoch 95\n",
      "Train loss 0.7551\n",
      "Validation loss 0.7531\n",
      "Epoch 96\n",
      "Train loss 0.7534\n",
      "Validation loss 0.7514\n",
      "Epoch 97\n",
      "Train loss 0.7516\n",
      "Validation loss 0.7496\n",
      "Epoch 98\n",
      "Train loss 0.7499\n",
      "Validation loss 0.7479\n",
      "Epoch 99\n",
      "Train loss 0.7483\n",
      "Validation loss 0.7462\n"
     ]
    }
   ],
   "source": [
    "sess.run(tf.global_variables_initializer())\n",
    "\n",
    "train_epoch_loss_list = []\n",
    "validation_epoch_loss_list = []\n",
    "\n",
    "for i in range(epochs):\n",
    "    batch_accumulate_loss = 0\n",
    "    \n",
    "    print('Epoch {}'.format(i))\n",
    "    for j in range(iterations):\n",
    "        index = j*batch\n",
    "\n",
    "        theta_value = sess.run(theta_update(theta,gradient))\n",
    "        y_values, h_values, gradient_values, train_loss_value = sess.run([y, h, gradient_update(gradient, h), loss], feed_dict={X:train_image_norm[index:index+batch], y:train_labels_onehot[index:index+batch]})\n",
    "        batch_accumulate_loss += train_loss_value\n",
    "\n",
    "    train_epoch_loss = batch_accumulate_loss/iterations\n",
    "    train_epoch_loss_list.append(train_epoch_loss)\n",
    "    validation_epoch_loss = sess.run(loss, feed_dict={X:validation_image_norm, y:validation_labels_onehot})\n",
    "    validation_epoch_loss_list.append(validation_epoch_loss)\n",
    "\n",
    "    print('Train loss {0:.4f}'.format(train_epoch_loss))\n",
    "    print('Validation loss {0:.4f}'.format(validation_epoch_loss))"
   ]
  },
  {
   "cell_type": "code",
   "execution_count": 18,
   "metadata": {},
   "outputs": [
    {
     "data": {
      "image/png": "[encoded data removed]",
      "text/plain": [
       "<Figure size 432x288 with 1 Axes>"
      ]
     },
     "metadata": {},
     "output_type": "display_data"
    }
   ],
   "source": [
    "fig = plt.figure(1)\n",
    "plt.ticklabel_format(style='sci', axis='y', scilimits=(0,0))\n",
    "plt.grid()\n",
    "plt.xlabel('Epochs')\n",
    "plt.ylabel('Average Cross-Entropy Loss ')\n",
    "plt.plot(range(len(train_epoch_loss_list)),train_epoch_loss_list, '-bx')\n",
    "plt.plot(range(len(validation_epoch_loss_list)),validation_epoch_loss_list, '-r')\n",
    "\n",
    "plt.show()"
   ]
  },
  {
   "cell_type": "code",
   "execution_count": 19,
   "metadata": {},
   "outputs": [],
   "source": [
    "h_values = sess.run(h, feed_dict={X:test_image_norm})"
   ]
  },
  {
   "cell_type": "code",
   "execution_count": 20,
   "metadata": {},
   "outputs": [],
   "source": [
    "result_labels = np.zeros_like(h_values,dtype=int)"
   ]
  },
  {
   "cell_type": "code",
   "execution_count": 21,
   "metadata": {},
   "outputs": [],
   "source": [
    "result_labels[np.arange(len(h_values)), h_values.argmax(1)] = 1"
   ]
  },
  {
   "cell_type": "code",
   "execution_count": 22,
   "metadata": {},
   "outputs": [],
   "source": [
    "result_labels = np.argmax(result_labels, axis=1)"
   ]
  },
  {
   "cell_type": "code",
   "execution_count": 23,
   "metadata": {},
   "outputs": [],
   "source": [
    "from sklearn.metrics import f1_score"
   ]
  },
  {
   "cell_type": "code",
   "execution_count": 24,
   "metadata": {},
   "outputs": [
    {
     "data": {
      "text/plain": [
       "0.7228"
      ]
     },
     "execution_count": 24,
     "metadata": {},
     "output_type": "execute_result"
    }
   ],
   "source": [
    "f1_score(test_labels,result_labels, average='micro')"
   ]
  },
  {
   "cell_type": "code",
   "execution_count": 25,
   "metadata": {},
   "outputs": [],
   "source": [
    "from pandas_ml import ConfusionMatrix"
   ]
  },
  {
   "cell_type": "code",
   "execution_count": 26,
   "metadata": {},
   "outputs": [
    {
     "data": {
      "text/plain": [
       "Predicted    0    1    2     3     4     5    6     7    8     9  __all__\n",
       "Actual                                                                   \n",
       "0          716    8   20   113    11    29   86     0   17     0     1000\n",
       "1           30  893   13    45     9     2    7     0    1     0     1000\n",
       "2           10    4  551     9   213    17  173     1   22     0     1000\n",
       "3           32   29    6   802    42    15   70     0    4     0     1000\n",
       "4            1    6  189    44   593    19  136     0   11     1     1000\n",
       "5            0    0    2     4     0   764    1   156   10    63     1000\n",
       "6          169    3  177    73   130    53  368     0   26     1     1000\n",
       "7            0    0    0     0     0    98    0   808    4    90     1000\n",
       "8            4    2   13    35    14    48   34    17  829     4     1000\n",
       "9            0    0    1     2     1    37    0    53    2   904     1000\n",
       "__all__    962  945  972  1127  1013  1082  875  1035  926  1063    10000"
      ]
     },
     "execution_count": 26,
     "metadata": {},
     "output_type": "execute_result"
    }
   ],
   "source": [
    "ConfusionMatrix(test_labels,result_labels)"
   ]
  },
  {
   "cell_type": "code",
   "execution_count": null,
   "metadata": {},
   "outputs": [],
   "source": []
  }
 ],
 "metadata": {
  "kernelspec": {
   "display_name": "Python 3",
   "language": "python",
   "name": "python3"
  },
  "language_info": {
   "codemirror_mode": {
    "name": "ipython",
    "version": 3
   },
   "file_extension": ".py",
   "mimetype": "text/x-python",
   "name": "python",
   "nbconvert_exporter": "python",
   "pygments_lexer": "ipython3",
   "version": "3.6.4"
  }
 },
 "nbformat": 4,
 "nbformat_minor": 2
}
