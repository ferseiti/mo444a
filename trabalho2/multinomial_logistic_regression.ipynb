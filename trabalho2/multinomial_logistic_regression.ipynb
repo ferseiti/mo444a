{
 "cells": [
  {
   "cell_type": "code",
   "execution_count": 1,
   "metadata": {},
   "outputs": [
    {
     "name": "stderr",
     "output_type": "stream",
     "text": [
      "/usr/local/lib/python3.6/site-packages/h5py/__init__.py:36: FutureWarning: Conversion of the second argument of issubdtype from `float` to `np.floating` is deprecated. In future, it will be treated as `np.float64 == np.dtype(float).type`.\n",
      "  from ._conv import register_converters as _register_converters\n"
     ]
    }
   ],
   "source": [
    "import pandas as pd\n",
    "import numpy as np\n",
    "import matplotlib.pyplot as plt\n",
    "import tensorflow as tf\n",
    "from sklearn.model_selection import train_test_split\n",
    "import gzip\n",
    "import os\n",
    "import copy\n",
    "os.environ[\"CUDA_VISIBLE_DEVICES\"]=\"0\" #for training on gpu"
   ]
  },
  {
   "cell_type": "code",
   "execution_count": 2,
   "metadata": {},
   "outputs": [],
   "source": [
    "from fashion_mnist.utils.mnist_reader import load_mnist"
   ]
  },
  {
   "cell_type": "code",
   "execution_count": 3,
   "metadata": {},
   "outputs": [],
   "source": [
    "total_train_image, total_train_labels = load_mnist('./fashion_mnist/data/fashion/', kind='train')\n",
    "test_image, test_labels = load_mnist('./fashion_mnist/data/fashion/', kind='t10k')"
   ]
  },
  {
   "cell_type": "code",
   "execution_count": 4,
   "metadata": {},
   "outputs": [],
   "source": [
    "train_image, validation_image = train_test_split(total_train_image, test_size=0.15, random_state=0)\n",
    "train_labels, validation_labels = train_test_split(total_train_labels, test_size=0.15, random_state=0)"
   ]
  },
  {
   "cell_type": "code",
   "execution_count": 5,
   "metadata": {},
   "outputs": [],
   "source": [
    "#train_image = np.reshape(train_image,(-1, 28, 28, 1)).astype('float32')\n",
    "#test_image = np.reshape(test_image,(-1, 28, 28, 1)).astype('float32')"
   ]
  },
  {
   "cell_type": "code",
   "execution_count": 6,
   "metadata": {},
   "outputs": [],
   "source": [
    "train_labels_onehot = pd.get_dummies(train_labels)\n",
    "validation_labels_onehot = pd.get_dummies(validation_labels)\n",
    "test_labels_onehot = pd.get_dummies(test_labels)"
   ]
  },
  {
   "cell_type": "code",
   "execution_count": 7,
   "metadata": {},
   "outputs": [],
   "source": [
    "def sigmoid_function(z):\n",
    "    return 1 / (1 + tf.exp(-z))\n",
    "\n",
    "def loss_function(y, h):\n",
    "    return tf.reduce_mean((-y * tf.log(h) - (1 - y) * tf.log(1 - h)))\n",
    "\n",
    "def gradient_update(gradient,h):\n",
    "    return gradient.assign(tf.tensordot(tf.transpose(X), tf.subtract(h, y),1)/batch)\n",
    "\n",
    "def theta_update(theta, gradient):\n",
    "    return theta.assign(theta - lr * gradient)\n",
    "\n",
    "def pred_y(X,theta):\n",
    "    return tf.tensordot(X,theta, 1)\n",
    "\n",
    "def softmax(z):\n",
    "    exp_num = tf.exp(z)\n",
    "    sum_div = tf.reduce_sum(exp_num,1, keepdims=True)\n",
    "    return exp_num / sum_div"
   ]
  },
  {
   "cell_type": "code",
   "execution_count": 8,
   "metadata": {},
   "outputs": [],
   "source": [
    "lr = 0.01\n",
    "batch = train_image.shape[0]\n",
    "epochs = 100\n",
    "iterations = int(train_image.shape[0]/batch)"
   ]
  },
  {
   "cell_type": "code",
   "execution_count": 9,
   "metadata": {},
   "outputs": [
    {
     "data": {
      "text/plain": [
       "6"
      ]
     },
     "execution_count": 9,
     "metadata": {},
     "output_type": "execute_result"
    }
   ],
   "source": [
    "test_labels[4]"
   ]
  },
  {
   "cell_type": "code",
   "execution_count": 10,
   "metadata": {},
   "outputs": [],
   "source": [
    "#plt.imshow(test_image[4].reshape(28,28))"
   ]
  },
  {
   "cell_type": "code",
   "execution_count": 11,
   "metadata": {},
   "outputs": [],
   "source": [
    "X = tf.placeholder(tf.float32, shape =([None,28*28]))\n",
    "y = tf.placeholder(tf.float32, shape =([None, 10]))"
   ]
  },
  {
   "cell_type": "code",
   "execution_count": 12,
   "metadata": {},
   "outputs": [],
   "source": [
    "theta = tf.get_variable(\"theta0\", shape=(28*28,10), dtype=tf.float32, initializer=tf.contrib.layers.xavier_initializer())"
   ]
  },
  {
   "cell_type": "code",
   "execution_count": 13,
   "metadata": {},
   "outputs": [],
   "source": [
    "gradient = tf.get_variable(\"gradient0\", shape=(28*28,10), dtype=tf.float32, initializer=tf.contrib.layers.xavier_initializer())"
   ]
  },
  {
   "cell_type": "code",
   "execution_count": 14,
   "metadata": {},
   "outputs": [],
   "source": [
    "z = pred_y(X,theta)"
   ]
  },
  {
   "cell_type": "code",
   "execution_count": 15,
   "metadata": {},
   "outputs": [],
   "source": [
    "h = softmax(z)"
   ]
  },
  {
   "cell_type": "code",
   "execution_count": 16,
   "metadata": {},
   "outputs": [],
   "source": [
    "loss = loss_function(y,h)"
   ]
  },
  {
   "cell_type": "code",
   "execution_count": 17,
   "metadata": {},
   "outputs": [],
   "source": [
    "tf_X = tf.placeholder(tf.float32)\n",
    "tf_X_norm = tf.image.per_image_standardization(tf_X)"
   ]
  },
  {
   "cell_type": "code",
   "execution_count": 18,
   "metadata": {},
   "outputs": [],
   "source": [
    "config = tf.ConfigProto()\n",
    "config.gpu_options.allow_growth = True\n",
    "sess = tf.InteractiveSession(config=config)\n",
    "\n",
    "train_image_norm = sess.run(tf_X_norm, feed_dict={tf_X: train_image})\n",
    "validation_image_norm = sess.run(tf_X_norm, feed_dict={tf_X: validation_image})\n",
    "test_image_norm = sess.run(tf_X_norm, feed_dict={tf_X: test_image})"
   ]
  },
  {
   "cell_type": "code",
   "execution_count": 19,
   "metadata": {
    "scrolled": true
   },
   "outputs": [
    {
     "name": "stdout",
     "output_type": "stream",
     "text": [
      "Epoch 0\n",
      "Train loss 0.4641\n",
      "Validation loss 0.4646\n",
      "Epoch 1\n",
      "Train loss 0.4032\n",
      "Validation loss 0.4041\n",
      "Epoch 2\n",
      "Train loss 0.3644\n",
      "Validation loss 0.3653\n",
      "Epoch 3\n",
      "Train loss 0.3346\n",
      "Validation loss 0.3355\n",
      "Epoch 4\n",
      "Train loss 0.3108\n",
      "Validation loss 0.3117\n",
      "Epoch 5\n",
      "Train loss 0.2914\n",
      "Validation loss 0.2924\n",
      "Epoch 6\n",
      "Train loss 0.2753\n",
      "Validation loss 0.2764\n",
      "Epoch 7\n",
      "Train loss 0.2617\n",
      "Validation loss 0.2629\n",
      "Epoch 8\n",
      "Train loss 0.2501\n",
      "Validation loss 0.2514\n",
      "Epoch 9\n",
      "Train loss 0.2401\n",
      "Validation loss 0.2415\n",
      "Epoch 10\n",
      "Train loss 0.2316\n",
      "Validation loss 0.2330\n",
      "Epoch 11\n",
      "Train loss 0.2241\n",
      "Validation loss 0.2257\n",
      "Epoch 12\n",
      "Train loss 0.2177\n",
      "Validation loss 0.2192\n",
      "Epoch 13\n",
      "Train loss 0.2120\n",
      "Validation loss 0.2136\n",
      "Epoch 14\n",
      "Train loss 0.2070\n",
      "Validation loss 0.2086\n",
      "Epoch 15\n",
      "Train loss 0.2025\n",
      "Validation loss 0.2041\n",
      "Epoch 16\n",
      "Train loss 0.1985\n",
      "Validation loss 0.2001\n",
      "Epoch 17\n",
      "Train loss 0.1949\n",
      "Validation loss 0.1964\n",
      "Epoch 18\n",
      "Train loss 0.1915\n",
      "Validation loss 0.1931\n",
      "Epoch 19\n",
      "Train loss 0.1885\n",
      "Validation loss 0.1900\n",
      "Epoch 20\n",
      "Train loss 0.1856\n",
      "Validation loss 0.1871\n",
      "Epoch 21\n",
      "Train loss 0.1830\n",
      "Validation loss 0.1845\n",
      "Epoch 22\n",
      "Train loss 0.1806\n",
      "Validation loss 0.1820\n",
      "Epoch 23\n",
      "Train loss 0.1783\n",
      "Validation loss 0.1797\n",
      "Epoch 24\n",
      "Train loss 0.1762\n",
      "Validation loss 0.1776\n",
      "Epoch 25\n",
      "Train loss 0.1742\n",
      "Validation loss 0.1756\n",
      "Epoch 26\n",
      "Train loss 0.1723\n",
      "Validation loss 0.1736\n",
      "Epoch 27\n",
      "Train loss 0.1705\n",
      "Validation loss 0.1718\n",
      "Epoch 28\n",
      "Train loss 0.1688\n",
      "Validation loss 0.1701\n",
      "Epoch 29\n",
      "Train loss 0.1672\n",
      "Validation loss 0.1685\n",
      "Epoch 30\n",
      "Train loss 0.1657\n",
      "Validation loss 0.1670\n",
      "Epoch 31\n",
      "Train loss 0.1642\n",
      "Validation loss 0.1655\n",
      "Epoch 32\n",
      "Train loss 0.1628\n",
      "Validation loss 0.1641\n",
      "Epoch 33\n",
      "Train loss 0.1615\n",
      "Validation loss 0.1627\n",
      "Epoch 34\n",
      "Train loss 0.1602\n",
      "Validation loss 0.1615\n",
      "Epoch 35\n",
      "Train loss 0.1590\n",
      "Validation loss 0.1602\n",
      "Epoch 36\n",
      "Train loss 0.1579\n",
      "Validation loss 0.1591\n",
      "Epoch 37\n",
      "Train loss 0.1568\n",
      "Validation loss 0.1579\n",
      "Epoch 38\n",
      "Train loss 0.1557\n",
      "Validation loss 0.1568\n",
      "Epoch 39\n",
      "Train loss 0.1546\n",
      "Validation loss 0.1558\n",
      "Epoch 40\n",
      "Train loss 0.1536\n",
      "Validation loss 0.1548\n",
      "Epoch 41\n",
      "Train loss 0.1527\n",
      "Validation loss 0.1538\n",
      "Epoch 42\n",
      "Train loss 0.1518\n",
      "Validation loss 0.1529\n",
      "Epoch 43\n",
      "Train loss 0.1509\n",
      "Validation loss 0.1520\n",
      "Epoch 44\n",
      "Train loss 0.1500\n",
      "Validation loss 0.1511\n",
      "Epoch 45\n",
      "Train loss 0.1492\n",
      "Validation loss 0.1502\n",
      "Epoch 46\n",
      "Train loss 0.1483\n",
      "Validation loss 0.1494\n",
      "Epoch 47\n",
      "Train loss 0.1476\n",
      "Validation loss 0.1486\n",
      "Epoch 48\n",
      "Train loss 0.1468\n",
      "Validation loss 0.1478\n",
      "Epoch 49\n",
      "Train loss 0.1461\n",
      "Validation loss 0.1471\n",
      "Epoch 50\n",
      "Train loss 0.1453\n",
      "Validation loss 0.1464\n",
      "Epoch 51\n",
      "Train loss 0.1446\n",
      "Validation loss 0.1457\n",
      "Epoch 52\n",
      "Train loss 0.1440\n",
      "Validation loss 0.1450\n",
      "Epoch 53\n",
      "Train loss 0.1433\n",
      "Validation loss 0.1443\n",
      "Epoch 54\n",
      "Train loss 0.1427\n",
      "Validation loss 0.1437\n",
      "Epoch 55\n",
      "Train loss 0.1420\n",
      "Validation loss 0.1430\n",
      "Epoch 56\n",
      "Train loss 0.1414\n",
      "Validation loss 0.1424\n",
      "Epoch 57\n",
      "Train loss 0.1408\n",
      "Validation loss 0.1418\n",
      "Epoch 58\n",
      "Train loss 0.1402\n",
      "Validation loss 0.1412\n",
      "Epoch 59\n",
      "Train loss 0.1397\n",
      "Validation loss 0.1406\n",
      "Epoch 60\n",
      "Train loss 0.1391\n",
      "Validation loss 0.1401\n",
      "Epoch 61\n",
      "Train loss 0.1386\n",
      "Validation loss 0.1395\n",
      "Epoch 62\n",
      "Train loss 0.1381\n",
      "Validation loss 0.1390\n",
      "Epoch 63\n",
      "Train loss 0.1376\n",
      "Validation loss 0.1385\n",
      "Epoch 64\n",
      "Train loss 0.1371\n",
      "Validation loss 0.1380\n",
      "Epoch 65\n",
      "Train loss 0.1366\n",
      "Validation loss 0.1375\n",
      "Epoch 66\n",
      "Train loss 0.1361\n",
      "Validation loss 0.1370\n",
      "Epoch 67\n",
      "Train loss 0.1356\n",
      "Validation loss 0.1365\n",
      "Epoch 68\n",
      "Train loss 0.1352\n",
      "Validation loss 0.1360\n",
      "Epoch 69\n",
      "Train loss 0.1347\n",
      "Validation loss 0.1356\n",
      "Epoch 70\n",
      "Train loss 0.1343\n",
      "Validation loss 0.1351\n",
      "Epoch 71\n",
      "Train loss 0.1338\n",
      "Validation loss 0.1347\n",
      "Epoch 72\n",
      "Train loss 0.1334\n",
      "Validation loss 0.1343\n",
      "Epoch 73\n",
      "Train loss 0.1330\n",
      "Validation loss 0.1338\n",
      "Epoch 74\n",
      "Train loss 0.1326\n",
      "Validation loss 0.1334\n",
      "Epoch 75\n",
      "Train loss 0.1322\n",
      "Validation loss 0.1330\n",
      "Epoch 76\n",
      "Train loss 0.1318\n",
      "Validation loss 0.1326\n",
      "Epoch 77\n",
      "Train loss 0.1314\n",
      "Validation loss 0.1322\n",
      "Epoch 78\n",
      "Train loss 0.1310\n",
      "Validation loss 0.1319\n",
      "Epoch 79\n",
      "Train loss 0.1307\n",
      "Validation loss 0.1315\n",
      "Epoch 80\n",
      "Train loss 0.1303\n",
      "Validation loss 0.1311\n",
      "Epoch 81\n",
      "Train loss 0.1299\n",
      "Validation loss 0.1308\n",
      "Epoch 82\n",
      "Train loss 0.1296\n",
      "Validation loss 0.1304\n",
      "Epoch 83\n",
      "Train loss 0.1293\n",
      "Validation loss 0.1300\n",
      "Epoch 84\n",
      "Train loss 0.1289\n",
      "Validation loss 0.1297\n",
      "Epoch 85\n",
      "Train loss 0.1286\n",
      "Validation loss 0.1294\n",
      "Epoch 86\n",
      "Train loss 0.1283\n",
      "Validation loss 0.1290\n",
      "Epoch 87\n",
      "Train loss 0.1279\n",
      "Validation loss 0.1287\n",
      "Epoch 88\n",
      "Train loss 0.1276\n",
      "Validation loss 0.1284\n",
      "Epoch 89\n",
      "Train loss 0.1273\n",
      "Validation loss 0.1281\n",
      "Epoch 90\n",
      "Train loss 0.1270\n",
      "Validation loss 0.1278\n",
      "Epoch 91\n",
      "Train loss 0.1267\n",
      "Validation loss 0.1274\n",
      "Epoch 92\n",
      "Train loss 0.1264\n",
      "Validation loss 0.1271\n",
      "Epoch 93\n",
      "Train loss 0.1261\n",
      "Validation loss 0.1268\n",
      "Epoch 94\n",
      "Train loss 0.1258\n",
      "Validation loss 0.1266\n",
      "Epoch 95\n",
      "Train loss 0.1255\n",
      "Validation loss 0.1263\n",
      "Epoch 96\n",
      "Train loss 0.1253\n",
      "Validation loss 0.1260\n",
      "Epoch 97\n",
      "Train loss 0.1250\n",
      "Validation loss 0.1257\n",
      "Epoch 98\n",
      "Train loss 0.1247\n",
      "Validation loss 0.1254\n",
      "Epoch 99\n",
      "Train loss 0.1244\n",
      "Validation loss 0.1252\n"
     ]
    }
   ],
   "source": [
    "sess.run(tf.global_variables_initializer())\n",
    "\n",
    "train_epoch_loss_list = []\n",
    "validation_epoch_loss_list = []\n",
    "\n",
    "for i in range(epochs):\n",
    "    batch_accumulate_loss = 0\n",
    "    \n",
    "    print('Epoch {}'.format(i))\n",
    "    for j in range(iterations):\n",
    "        index = j*batch\n",
    "\n",
    "        theta_value = sess.run(theta_update(theta,gradient))\n",
    "        y_values, h_values, gradient_values, train_loss_value = sess.run([y, h, gradient_update(gradient, h), loss_function(y, h)], feed_dict={X:train_image_norm[index:index+batch], y:train_labels_onehot[index:index+batch]})\n",
    "\n",
    "        batch_accumulate_loss += train_loss_value\n",
    "\n",
    "    train_epoch_loss = batch_accumulate_loss/iterations\n",
    "    train_epoch_loss_list.append(train_epoch_loss)\n",
    "    validation_loss_value = sess.run(loss, feed_dict={X:validation_image_norm, y:validation_labels_onehot})\n",
    "    validation_epoch_loss_list.append(validation_loss_value)\n",
    "\n",
    "    print('Train loss {0:.4f}'.format(train_loss_value))\n",
    "    print('Validation loss {0:.4f}'.format(validation_loss_value))"
   ]
  },
  {
   "cell_type": "code",
   "execution_count": 20,
   "metadata": {},
   "outputs": [
    {
     "data": {
      "image/png": "[encoded data removed]",
      "text/plain": [
       "<Figure size 432x288 with 1 Axes>"
      ]
     },
     "metadata": {},
     "output_type": "display_data"
    }
   ],
   "source": [
    "fig = plt.figure(1)\n",
    "plt.ticklabel_format(style='sci', axis='y', scilimits=(0,0))\n",
    "plt.grid()\n",
    "plt.xlabel('Epochs')\n",
    "plt.ylabel('Average Cost')\n",
    "plt.plot(range(len(train_epoch_loss_list)),train_epoch_loss_list, '-bx')\n",
    "plt.plot(range(len(validation_epoch_loss_list)),validation_epoch_loss_list, '-r')\n",
    "\n",
    "plt.show()"
   ]
  },
  {
   "cell_type": "code",
   "execution_count": 21,
   "metadata": {},
   "outputs": [],
   "source": [
    "h_values = sess.run(h, feed_dict={X:test_image_norm})"
   ]
  },
  {
   "cell_type": "code",
   "execution_count": 22,
   "metadata": {},
   "outputs": [],
   "source": [
    "result_labels = np.zeros_like(h_values,dtype=int)"
   ]
  },
  {
   "cell_type": "code",
   "execution_count": 23,
   "metadata": {},
   "outputs": [],
   "source": [
    "result_labels[np.arange(len(h_values)), h_values.argmax(1)] = 1"
   ]
  },
  {
   "cell_type": "code",
   "execution_count": 24,
   "metadata": {},
   "outputs": [],
   "source": [
    "result_labels = np.argmax(result_labels, axis=1)"
   ]
  },
  {
   "cell_type": "code",
   "execution_count": 25,
   "metadata": {},
   "outputs": [],
   "source": [
    "from sklearn.metrics import f1_score"
   ]
  },
  {
   "cell_type": "code",
   "execution_count": 26,
   "metadata": {},
   "outputs": [
    {
     "data": {
      "text/plain": [
       "0.7337"
      ]
     },
     "execution_count": 26,
     "metadata": {},
     "output_type": "execute_result"
    }
   ],
   "source": [
    "f1_score(test_labels,result_labels, average='micro')"
   ]
  },
  {
   "cell_type": "code",
   "execution_count": 27,
   "metadata": {},
   "outputs": [],
   "source": [
    "from pandas_ml import ConfusionMatrix"
   ]
  },
  {
   "cell_type": "code",
   "execution_count": 28,
   "metadata": {},
   "outputs": [
    {
     "data": {
      "text/plain": [
       "Predicted     0    1    2     3     4     5    6     7    8     9  __all__\n",
       "Actual                                                                    \n",
       "0           772    9   13    70    16    28   71     2   18     1     1000\n",
       "1            40  891    9    36    13     3    7     0    1     0     1000\n",
       "2            24    3  599    15   183    22  139     0   15     0     1000\n",
       "3            57   22    1   795    18    19   78     1    9     0     1000\n",
       "4             7    9  197    51   579    14  131     0   12     0     1000\n",
       "5             0    0    2     3     0   788    1   117   18    71     1000\n",
       "6           222    6  137    35   192    51  320     1   35     1     1000\n",
       "7             0    0    0     0     0    88    0   830    4    78     1000\n",
       "8             6    2    9    22    21    40   12    17  862     9     1000\n",
       "9             0    0    0     0     3    39    2    54    1   901     1000\n",
       "__all__    1128  942  967  1027  1025  1092  761  1022  975  1061    10000"
      ]
     },
     "execution_count": 28,
     "metadata": {},
     "output_type": "execute_result"
    }
   ],
   "source": [
    "ConfusionMatrix(test_labels,result_labels)"
   ]
  },
  {
   "cell_type": "code",
   "execution_count": null,
   "metadata": {},
   "outputs": [],
   "source": []
  }
 ],
 "metadata": {
  "kernelspec": {
   "display_name": "Python 3",
   "language": "python",
   "name": "python3"
  },
  "language_info": {
   "codemirror_mode": {
    "name": "ipython",
    "version": 3
   },
   "file_extension": ".py",
   "mimetype": "text/x-python",
   "name": "python",
   "nbconvert_exporter": "python",
   "pygments_lexer": "ipython3",
   "version": "3.6.4"
  }
 },
 "nbformat": 4,
 "nbformat_minor": 2
}
